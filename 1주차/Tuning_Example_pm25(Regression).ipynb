{
 "cells": [
  {
   "cell_type": "markdown",
   "id": "bcfaa5b7",
   "metadata": {},
   "source": [
    "# Tuning practice (SVM / RF / XGBoost) - Regression (PRSA data)"
   ]
  },
  {
   "cell_type": "markdown",
   "id": "f480ae73",
   "metadata": {},
   "source": [
    "### Attribute Information: (PASA_data)\n",
    "\n",
    "No: row number\n",
    "\n",
    "year: year of data in this row\n",
    "\n",
    "month: month of data in this row\n",
    "\n",
    "day: day of data in this row\n",
    "\n",
    "hour: hour of data in this row\n",
    "\n",
    "pm2.5: PM2.5 concentration (ug/m^3)\n",
    "\n",
    "DEWP: Dew Point (â„ƒ)\n",
    "\n",
    "TEMP: Temperature (â„ƒ)\n",
    "\n",
    "PRES: Pressure (hPa)\n",
    "\n",
    "cbwd: Combined wind direction\n",
    "\n",
    "Iws: Cumulated wind speed (m/s)\n",
    "\n",
    "Is: Cumulated hours of snow\n",
    "\n",
    "Ir: Cumulated hours of rain"
   ]
  },
  {
   "cell_type": "markdown",
   "id": "0f299e42",
   "metadata": {},
   "source": [
    "## EDA and Data preprocessing"
   ]
  },
  {
   "cell_type": "code",
   "execution_count": 1,
   "id": "31460980",
   "metadata": {},
   "outputs": [],
   "source": [
    "import pandas as pd\n",
    "import numpy as np\n",
    "import seaborn as sns\n",
    "pd.set_option('display.max_rows',None)"
   ]
  },
  {
   "cell_type": "code",
   "execution_count": 8,
   "id": "6500feb0",
   "metadata": {},
   "outputs": [],
   "source": [
    "df=pd.read_csv(\"data/PRSA_data_2010.1.1-2014.12.31.csv\")"
   ]
  },
  {
   "cell_type": "code",
   "execution_count": 9,
   "id": "183da189",
   "metadata": {},
   "outputs": [
    {
     "data": {
      "text/html": [
       "<div>\n",
       "<style scoped>\n",
       "    .dataframe tbody tr th:only-of-type {\n",
       "        vertical-align: middle;\n",
       "    }\n",
       "\n",
       "    .dataframe tbody tr th {\n",
       "        vertical-align: top;\n",
       "    }\n",
       "\n",
       "    .dataframe thead th {\n",
       "        text-align: right;\n",
       "    }\n",
       "</style>\n",
       "<table border=\"1\" class=\"dataframe\">\n",
       "  <thead>\n",
       "    <tr style=\"text-align: right;\">\n",
       "      <th></th>\n",
       "      <th>No</th>\n",
       "      <th>year</th>\n",
       "      <th>month</th>\n",
       "      <th>day</th>\n",
       "      <th>hour</th>\n",
       "      <th>pm2.5</th>\n",
       "      <th>DEWP</th>\n",
       "      <th>TEMP</th>\n",
       "      <th>PRES</th>\n",
       "      <th>cbwd</th>\n",
       "      <th>Iws</th>\n",
       "      <th>Is</th>\n",
       "      <th>Ir</th>\n",
       "    </tr>\n",
       "  </thead>\n",
       "  <tbody>\n",
       "    <tr>\n",
       "      <th>0</th>\n",
       "      <td>1</td>\n",
       "      <td>2010</td>\n",
       "      <td>1</td>\n",
       "      <td>1</td>\n",
       "      <td>0</td>\n",
       "      <td>NaN</td>\n",
       "      <td>-21</td>\n",
       "      <td>-11.0</td>\n",
       "      <td>1021.0</td>\n",
       "      <td>NW</td>\n",
       "      <td>1.79</td>\n",
       "      <td>0</td>\n",
       "      <td>0</td>\n",
       "    </tr>\n",
       "    <tr>\n",
       "      <th>1</th>\n",
       "      <td>2</td>\n",
       "      <td>2010</td>\n",
       "      <td>1</td>\n",
       "      <td>1</td>\n",
       "      <td>1</td>\n",
       "      <td>NaN</td>\n",
       "      <td>-21</td>\n",
       "      <td>-12.0</td>\n",
       "      <td>1020.0</td>\n",
       "      <td>NW</td>\n",
       "      <td>4.92</td>\n",
       "      <td>0</td>\n",
       "      <td>0</td>\n",
       "    </tr>\n",
       "    <tr>\n",
       "      <th>2</th>\n",
       "      <td>3</td>\n",
       "      <td>2010</td>\n",
       "      <td>1</td>\n",
       "      <td>1</td>\n",
       "      <td>2</td>\n",
       "      <td>NaN</td>\n",
       "      <td>-21</td>\n",
       "      <td>-11.0</td>\n",
       "      <td>1019.0</td>\n",
       "      <td>NW</td>\n",
       "      <td>6.71</td>\n",
       "      <td>0</td>\n",
       "      <td>0</td>\n",
       "    </tr>\n",
       "    <tr>\n",
       "      <th>3</th>\n",
       "      <td>4</td>\n",
       "      <td>2010</td>\n",
       "      <td>1</td>\n",
       "      <td>1</td>\n",
       "      <td>3</td>\n",
       "      <td>NaN</td>\n",
       "      <td>-21</td>\n",
       "      <td>-14.0</td>\n",
       "      <td>1019.0</td>\n",
       "      <td>NW</td>\n",
       "      <td>9.84</td>\n",
       "      <td>0</td>\n",
       "      <td>0</td>\n",
       "    </tr>\n",
       "    <tr>\n",
       "      <th>4</th>\n",
       "      <td>5</td>\n",
       "      <td>2010</td>\n",
       "      <td>1</td>\n",
       "      <td>1</td>\n",
       "      <td>4</td>\n",
       "      <td>NaN</td>\n",
       "      <td>-20</td>\n",
       "      <td>-12.0</td>\n",
       "      <td>1018.0</td>\n",
       "      <td>NW</td>\n",
       "      <td>12.97</td>\n",
       "      <td>0</td>\n",
       "      <td>0</td>\n",
       "    </tr>\n",
       "    <tr>\n",
       "      <th>5</th>\n",
       "      <td>6</td>\n",
       "      <td>2010</td>\n",
       "      <td>1</td>\n",
       "      <td>1</td>\n",
       "      <td>5</td>\n",
       "      <td>NaN</td>\n",
       "      <td>-19</td>\n",
       "      <td>-10.0</td>\n",
       "      <td>1017.0</td>\n",
       "      <td>NW</td>\n",
       "      <td>16.10</td>\n",
       "      <td>0</td>\n",
       "      <td>0</td>\n",
       "    </tr>\n",
       "    <tr>\n",
       "      <th>6</th>\n",
       "      <td>7</td>\n",
       "      <td>2010</td>\n",
       "      <td>1</td>\n",
       "      <td>1</td>\n",
       "      <td>6</td>\n",
       "      <td>NaN</td>\n",
       "      <td>-19</td>\n",
       "      <td>-9.0</td>\n",
       "      <td>1017.0</td>\n",
       "      <td>NW</td>\n",
       "      <td>19.23</td>\n",
       "      <td>0</td>\n",
       "      <td>0</td>\n",
       "    </tr>\n",
       "    <tr>\n",
       "      <th>7</th>\n",
       "      <td>8</td>\n",
       "      <td>2010</td>\n",
       "      <td>1</td>\n",
       "      <td>1</td>\n",
       "      <td>7</td>\n",
       "      <td>NaN</td>\n",
       "      <td>-19</td>\n",
       "      <td>-9.0</td>\n",
       "      <td>1017.0</td>\n",
       "      <td>NW</td>\n",
       "      <td>21.02</td>\n",
       "      <td>0</td>\n",
       "      <td>0</td>\n",
       "    </tr>\n",
       "    <tr>\n",
       "      <th>8</th>\n",
       "      <td>9</td>\n",
       "      <td>2010</td>\n",
       "      <td>1</td>\n",
       "      <td>1</td>\n",
       "      <td>8</td>\n",
       "      <td>NaN</td>\n",
       "      <td>-19</td>\n",
       "      <td>-9.0</td>\n",
       "      <td>1017.0</td>\n",
       "      <td>NW</td>\n",
       "      <td>24.15</td>\n",
       "      <td>0</td>\n",
       "      <td>0</td>\n",
       "    </tr>\n",
       "    <tr>\n",
       "      <th>9</th>\n",
       "      <td>10</td>\n",
       "      <td>2010</td>\n",
       "      <td>1</td>\n",
       "      <td>1</td>\n",
       "      <td>9</td>\n",
       "      <td>NaN</td>\n",
       "      <td>-20</td>\n",
       "      <td>-8.0</td>\n",
       "      <td>1017.0</td>\n",
       "      <td>NW</td>\n",
       "      <td>27.28</td>\n",
       "      <td>0</td>\n",
       "      <td>0</td>\n",
       "    </tr>\n",
       "  </tbody>\n",
       "</table>\n",
       "</div>"
      ],
      "text/plain": [
       "   No  year  month  day  hour  pm2.5  DEWP  TEMP    PRES cbwd    Iws  Is  Ir\n",
       "0   1  2010      1    1     0    NaN   -21 -11.0  1021.0   NW   1.79   0   0\n",
       "1   2  2010      1    1     1    NaN   -21 -12.0  1020.0   NW   4.92   0   0\n",
       "2   3  2010      1    1     2    NaN   -21 -11.0  1019.0   NW   6.71   0   0\n",
       "3   4  2010      1    1     3    NaN   -21 -14.0  1019.0   NW   9.84   0   0\n",
       "4   5  2010      1    1     4    NaN   -20 -12.0  1018.0   NW  12.97   0   0\n",
       "5   6  2010      1    1     5    NaN   -19 -10.0  1017.0   NW  16.10   0   0\n",
       "6   7  2010      1    1     6    NaN   -19  -9.0  1017.0   NW  19.23   0   0\n",
       "7   8  2010      1    1     7    NaN   -19  -9.0  1017.0   NW  21.02   0   0\n",
       "8   9  2010      1    1     8    NaN   -19  -9.0  1017.0   NW  24.15   0   0\n",
       "9  10  2010      1    1     9    NaN   -20  -8.0  1017.0   NW  27.28   0   0"
      ]
     },
     "execution_count": 9,
     "metadata": {},
     "output_type": "execute_result"
    }
   ],
   "source": [
    "df.head(10)"
   ]
  },
  {
   "cell_type": "code",
   "execution_count": 10,
   "id": "9dc4fc22",
   "metadata": {},
   "outputs": [
    {
     "data": {
      "text/html": [
       "<div>\n",
       "<style scoped>\n",
       "    .dataframe tbody tr th:only-of-type {\n",
       "        vertical-align: middle;\n",
       "    }\n",
       "\n",
       "    .dataframe tbody tr th {\n",
       "        vertical-align: top;\n",
       "    }\n",
       "\n",
       "    .dataframe thead th {\n",
       "        text-align: right;\n",
       "    }\n",
       "</style>\n",
       "<table border=\"1\" class=\"dataframe\">\n",
       "  <thead>\n",
       "    <tr style=\"text-align: right;\">\n",
       "      <th></th>\n",
       "      <th>No</th>\n",
       "      <th>year</th>\n",
       "      <th>month</th>\n",
       "      <th>day</th>\n",
       "      <th>hour</th>\n",
       "      <th>pm2.5</th>\n",
       "      <th>DEWP</th>\n",
       "      <th>TEMP</th>\n",
       "      <th>PRES</th>\n",
       "      <th>Iws</th>\n",
       "      <th>Is</th>\n",
       "      <th>Ir</th>\n",
       "    </tr>\n",
       "  </thead>\n",
       "  <tbody>\n",
       "    <tr>\n",
       "      <th>count</th>\n",
       "      <td>43824.000000</td>\n",
       "      <td>43824.000000</td>\n",
       "      <td>43824.000000</td>\n",
       "      <td>43824.000000</td>\n",
       "      <td>43824.000000</td>\n",
       "      <td>41757.000000</td>\n",
       "      <td>43824.000000</td>\n",
       "      <td>43824.000000</td>\n",
       "      <td>43824.000000</td>\n",
       "      <td>43824.000000</td>\n",
       "      <td>43824.000000</td>\n",
       "      <td>43824.000000</td>\n",
       "    </tr>\n",
       "    <tr>\n",
       "      <th>mean</th>\n",
       "      <td>21912.500000</td>\n",
       "      <td>2012.000000</td>\n",
       "      <td>6.523549</td>\n",
       "      <td>15.727820</td>\n",
       "      <td>11.500000</td>\n",
       "      <td>98.613215</td>\n",
       "      <td>1.817246</td>\n",
       "      <td>12.448521</td>\n",
       "      <td>1016.447654</td>\n",
       "      <td>23.889140</td>\n",
       "      <td>0.052734</td>\n",
       "      <td>0.194916</td>\n",
       "    </tr>\n",
       "    <tr>\n",
       "      <th>std</th>\n",
       "      <td>12651.043435</td>\n",
       "      <td>1.413842</td>\n",
       "      <td>3.448572</td>\n",
       "      <td>8.799425</td>\n",
       "      <td>6.922266</td>\n",
       "      <td>92.050387</td>\n",
       "      <td>14.433440</td>\n",
       "      <td>12.198613</td>\n",
       "      <td>10.268698</td>\n",
       "      <td>50.010635</td>\n",
       "      <td>0.760375</td>\n",
       "      <td>1.415867</td>\n",
       "    </tr>\n",
       "    <tr>\n",
       "      <th>min</th>\n",
       "      <td>1.000000</td>\n",
       "      <td>2010.000000</td>\n",
       "      <td>1.000000</td>\n",
       "      <td>1.000000</td>\n",
       "      <td>0.000000</td>\n",
       "      <td>0.000000</td>\n",
       "      <td>-40.000000</td>\n",
       "      <td>-19.000000</td>\n",
       "      <td>991.000000</td>\n",
       "      <td>0.450000</td>\n",
       "      <td>0.000000</td>\n",
       "      <td>0.000000</td>\n",
       "    </tr>\n",
       "    <tr>\n",
       "      <th>25%</th>\n",
       "      <td>10956.750000</td>\n",
       "      <td>2011.000000</td>\n",
       "      <td>4.000000</td>\n",
       "      <td>8.000000</td>\n",
       "      <td>5.750000</td>\n",
       "      <td>29.000000</td>\n",
       "      <td>-10.000000</td>\n",
       "      <td>2.000000</td>\n",
       "      <td>1008.000000</td>\n",
       "      <td>1.790000</td>\n",
       "      <td>0.000000</td>\n",
       "      <td>0.000000</td>\n",
       "    </tr>\n",
       "    <tr>\n",
       "      <th>50%</th>\n",
       "      <td>21912.500000</td>\n",
       "      <td>2012.000000</td>\n",
       "      <td>7.000000</td>\n",
       "      <td>16.000000</td>\n",
       "      <td>11.500000</td>\n",
       "      <td>72.000000</td>\n",
       "      <td>2.000000</td>\n",
       "      <td>14.000000</td>\n",
       "      <td>1016.000000</td>\n",
       "      <td>5.370000</td>\n",
       "      <td>0.000000</td>\n",
       "      <td>0.000000</td>\n",
       "    </tr>\n",
       "    <tr>\n",
       "      <th>75%</th>\n",
       "      <td>32868.250000</td>\n",
       "      <td>2013.000000</td>\n",
       "      <td>10.000000</td>\n",
       "      <td>23.000000</td>\n",
       "      <td>17.250000</td>\n",
       "      <td>137.000000</td>\n",
       "      <td>15.000000</td>\n",
       "      <td>23.000000</td>\n",
       "      <td>1025.000000</td>\n",
       "      <td>21.910000</td>\n",
       "      <td>0.000000</td>\n",
       "      <td>0.000000</td>\n",
       "    </tr>\n",
       "    <tr>\n",
       "      <th>max</th>\n",
       "      <td>43824.000000</td>\n",
       "      <td>2014.000000</td>\n",
       "      <td>12.000000</td>\n",
       "      <td>31.000000</td>\n",
       "      <td>23.000000</td>\n",
       "      <td>994.000000</td>\n",
       "      <td>28.000000</td>\n",
       "      <td>42.000000</td>\n",
       "      <td>1046.000000</td>\n",
       "      <td>585.600000</td>\n",
       "      <td>27.000000</td>\n",
       "      <td>36.000000</td>\n",
       "    </tr>\n",
       "  </tbody>\n",
       "</table>\n",
       "</div>"
      ],
      "text/plain": [
       "                 No          year         month           day          hour  \\\n",
       "count  43824.000000  43824.000000  43824.000000  43824.000000  43824.000000   \n",
       "mean   21912.500000   2012.000000      6.523549     15.727820     11.500000   \n",
       "std    12651.043435      1.413842      3.448572      8.799425      6.922266   \n",
       "min        1.000000   2010.000000      1.000000      1.000000      0.000000   \n",
       "25%    10956.750000   2011.000000      4.000000      8.000000      5.750000   \n",
       "50%    21912.500000   2012.000000      7.000000     16.000000     11.500000   \n",
       "75%    32868.250000   2013.000000     10.000000     23.000000     17.250000   \n",
       "max    43824.000000   2014.000000     12.000000     31.000000     23.000000   \n",
       "\n",
       "              pm2.5          DEWP          TEMP          PRES           Iws  \\\n",
       "count  41757.000000  43824.000000  43824.000000  43824.000000  43824.000000   \n",
       "mean      98.613215      1.817246     12.448521   1016.447654     23.889140   \n",
       "std       92.050387     14.433440     12.198613     10.268698     50.010635   \n",
       "min        0.000000    -40.000000    -19.000000    991.000000      0.450000   \n",
       "25%       29.000000    -10.000000      2.000000   1008.000000      1.790000   \n",
       "50%       72.000000      2.000000     14.000000   1016.000000      5.370000   \n",
       "75%      137.000000     15.000000     23.000000   1025.000000     21.910000   \n",
       "max      994.000000     28.000000     42.000000   1046.000000    585.600000   \n",
       "\n",
       "                 Is            Ir  \n",
       "count  43824.000000  43824.000000  \n",
       "mean       0.052734      0.194916  \n",
       "std        0.760375      1.415867  \n",
       "min        0.000000      0.000000  \n",
       "25%        0.000000      0.000000  \n",
       "50%        0.000000      0.000000  \n",
       "75%        0.000000      0.000000  \n",
       "max       27.000000     36.000000  "
      ]
     },
     "execution_count": 10,
     "metadata": {},
     "output_type": "execute_result"
    }
   ],
   "source": [
    "df.describe()"
   ]
  },
  {
   "cell_type": "code",
   "execution_count": 11,
   "id": "a7f9590b",
   "metadata": {},
   "outputs": [],
   "source": [
    "df2=df.dropna() #remove the rows contain any NA."
   ]
  },
  {
   "cell_type": "code",
   "execution_count": 12,
   "id": "c854d3df",
   "metadata": {},
   "outputs": [
    {
     "data": {
      "text/html": [
       "<div>\n",
       "<style scoped>\n",
       "    .dataframe tbody tr th:only-of-type {\n",
       "        vertical-align: middle;\n",
       "    }\n",
       "\n",
       "    .dataframe tbody tr th {\n",
       "        vertical-align: top;\n",
       "    }\n",
       "\n",
       "    .dataframe thead th {\n",
       "        text-align: right;\n",
       "    }\n",
       "</style>\n",
       "<table border=\"1\" class=\"dataframe\">\n",
       "  <thead>\n",
       "    <tr style=\"text-align: right;\">\n",
       "      <th></th>\n",
       "      <th>No</th>\n",
       "      <th>year</th>\n",
       "      <th>month</th>\n",
       "      <th>day</th>\n",
       "      <th>hour</th>\n",
       "      <th>pm2.5</th>\n",
       "      <th>DEWP</th>\n",
       "      <th>TEMP</th>\n",
       "      <th>PRES</th>\n",
       "      <th>Iws</th>\n",
       "      <th>Is</th>\n",
       "      <th>Ir</th>\n",
       "    </tr>\n",
       "  </thead>\n",
       "  <tbody>\n",
       "    <tr>\n",
       "      <th>count</th>\n",
       "      <td>41757.000000</td>\n",
       "      <td>41757.000000</td>\n",
       "      <td>41757.000000</td>\n",
       "      <td>41757.000000</td>\n",
       "      <td>41757.000000</td>\n",
       "      <td>41757.000000</td>\n",
       "      <td>41757.000000</td>\n",
       "      <td>41757.000000</td>\n",
       "      <td>41757.000000</td>\n",
       "      <td>41757.000000</td>\n",
       "      <td>41757.000000</td>\n",
       "      <td>41757.000000</td>\n",
       "    </tr>\n",
       "    <tr>\n",
       "      <th>mean</th>\n",
       "      <td>22279.380104</td>\n",
       "      <td>2012.042771</td>\n",
       "      <td>6.513758</td>\n",
       "      <td>15.685514</td>\n",
       "      <td>11.502311</td>\n",
       "      <td>98.613215</td>\n",
       "      <td>1.750174</td>\n",
       "      <td>12.401561</td>\n",
       "      <td>1016.442896</td>\n",
       "      <td>23.866747</td>\n",
       "      <td>0.055344</td>\n",
       "      <td>0.194866</td>\n",
       "    </tr>\n",
       "    <tr>\n",
       "      <th>std</th>\n",
       "      <td>12658.168415</td>\n",
       "      <td>1.415311</td>\n",
       "      <td>3.454199</td>\n",
       "      <td>8.785539</td>\n",
       "      <td>6.924848</td>\n",
       "      <td>92.050387</td>\n",
       "      <td>14.433658</td>\n",
       "      <td>12.175215</td>\n",
       "      <td>10.300733</td>\n",
       "      <td>49.617495</td>\n",
       "      <td>0.778875</td>\n",
       "      <td>1.418165</td>\n",
       "    </tr>\n",
       "    <tr>\n",
       "      <th>min</th>\n",
       "      <td>25.000000</td>\n",
       "      <td>2010.000000</td>\n",
       "      <td>1.000000</td>\n",
       "      <td>1.000000</td>\n",
       "      <td>0.000000</td>\n",
       "      <td>0.000000</td>\n",
       "      <td>-40.000000</td>\n",
       "      <td>-19.000000</td>\n",
       "      <td>991.000000</td>\n",
       "      <td>0.450000</td>\n",
       "      <td>0.000000</td>\n",
       "      <td>0.000000</td>\n",
       "    </tr>\n",
       "    <tr>\n",
       "      <th>25%</th>\n",
       "      <td>11464.000000</td>\n",
       "      <td>2011.000000</td>\n",
       "      <td>4.000000</td>\n",
       "      <td>8.000000</td>\n",
       "      <td>5.000000</td>\n",
       "      <td>29.000000</td>\n",
       "      <td>-10.000000</td>\n",
       "      <td>2.000000</td>\n",
       "      <td>1008.000000</td>\n",
       "      <td>1.790000</td>\n",
       "      <td>0.000000</td>\n",
       "      <td>0.000000</td>\n",
       "    </tr>\n",
       "    <tr>\n",
       "      <th>50%</th>\n",
       "      <td>22435.000000</td>\n",
       "      <td>2012.000000</td>\n",
       "      <td>7.000000</td>\n",
       "      <td>16.000000</td>\n",
       "      <td>12.000000</td>\n",
       "      <td>72.000000</td>\n",
       "      <td>2.000000</td>\n",
       "      <td>14.000000</td>\n",
       "      <td>1016.000000</td>\n",
       "      <td>5.370000</td>\n",
       "      <td>0.000000</td>\n",
       "      <td>0.000000</td>\n",
       "    </tr>\n",
       "    <tr>\n",
       "      <th>75%</th>\n",
       "      <td>33262.000000</td>\n",
       "      <td>2013.000000</td>\n",
       "      <td>10.000000</td>\n",
       "      <td>23.000000</td>\n",
       "      <td>18.000000</td>\n",
       "      <td>137.000000</td>\n",
       "      <td>15.000000</td>\n",
       "      <td>23.000000</td>\n",
       "      <td>1025.000000</td>\n",
       "      <td>21.910000</td>\n",
       "      <td>0.000000</td>\n",
       "      <td>0.000000</td>\n",
       "    </tr>\n",
       "    <tr>\n",
       "      <th>max</th>\n",
       "      <td>43824.000000</td>\n",
       "      <td>2014.000000</td>\n",
       "      <td>12.000000</td>\n",
       "      <td>31.000000</td>\n",
       "      <td>23.000000</td>\n",
       "      <td>994.000000</td>\n",
       "      <td>28.000000</td>\n",
       "      <td>42.000000</td>\n",
       "      <td>1046.000000</td>\n",
       "      <td>565.490000</td>\n",
       "      <td>27.000000</td>\n",
       "      <td>36.000000</td>\n",
       "    </tr>\n",
       "  </tbody>\n",
       "</table>\n",
       "</div>"
      ],
      "text/plain": [
       "                 No          year         month           day          hour  \\\n",
       "count  41757.000000  41757.000000  41757.000000  41757.000000  41757.000000   \n",
       "mean   22279.380104   2012.042771      6.513758     15.685514     11.502311   \n",
       "std    12658.168415      1.415311      3.454199      8.785539      6.924848   \n",
       "min       25.000000   2010.000000      1.000000      1.000000      0.000000   \n",
       "25%    11464.000000   2011.000000      4.000000      8.000000      5.000000   \n",
       "50%    22435.000000   2012.000000      7.000000     16.000000     12.000000   \n",
       "75%    33262.000000   2013.000000     10.000000     23.000000     18.000000   \n",
       "max    43824.000000   2014.000000     12.000000     31.000000     23.000000   \n",
       "\n",
       "              pm2.5          DEWP          TEMP          PRES           Iws  \\\n",
       "count  41757.000000  41757.000000  41757.000000  41757.000000  41757.000000   \n",
       "mean      98.613215      1.750174     12.401561   1016.442896     23.866747   \n",
       "std       92.050387     14.433658     12.175215     10.300733     49.617495   \n",
       "min        0.000000    -40.000000    -19.000000    991.000000      0.450000   \n",
       "25%       29.000000    -10.000000      2.000000   1008.000000      1.790000   \n",
       "50%       72.000000      2.000000     14.000000   1016.000000      5.370000   \n",
       "75%      137.000000     15.000000     23.000000   1025.000000     21.910000   \n",
       "max      994.000000     28.000000     42.000000   1046.000000    565.490000   \n",
       "\n",
       "                 Is            Ir  \n",
       "count  41757.000000  41757.000000  \n",
       "mean       0.055344      0.194866  \n",
       "std        0.778875      1.418165  \n",
       "min        0.000000      0.000000  \n",
       "25%        0.000000      0.000000  \n",
       "50%        0.000000      0.000000  \n",
       "75%        0.000000      0.000000  \n",
       "max       27.000000     36.000000  "
      ]
     },
     "execution_count": 12,
     "metadata": {},
     "output_type": "execute_result"
    }
   ],
   "source": [
    "df2.describe()"
   ]
  },
  {
   "cell_type": "code",
   "execution_count": 13,
   "id": "6920421c",
   "metadata": {},
   "outputs": [
    {
     "data": {
      "text/html": [
       "<div>\n",
       "<style scoped>\n",
       "    .dataframe tbody tr th:only-of-type {\n",
       "        vertical-align: middle;\n",
       "    }\n",
       "\n",
       "    .dataframe tbody tr th {\n",
       "        vertical-align: top;\n",
       "    }\n",
       "\n",
       "    .dataframe thead th {\n",
       "        text-align: right;\n",
       "    }\n",
       "</style>\n",
       "<table border=\"1\" class=\"dataframe\">\n",
       "  <thead>\n",
       "    <tr style=\"text-align: right;\">\n",
       "      <th></th>\n",
       "      <th>index</th>\n",
       "      <th>No</th>\n",
       "      <th>year</th>\n",
       "      <th>month</th>\n",
       "      <th>day</th>\n",
       "      <th>hour</th>\n",
       "      <th>pm2.5</th>\n",
       "      <th>DEWP</th>\n",
       "      <th>TEMP</th>\n",
       "      <th>PRES</th>\n",
       "      <th>cbwd</th>\n",
       "      <th>Iws</th>\n",
       "      <th>Is</th>\n",
       "      <th>Ir</th>\n",
       "    </tr>\n",
       "  </thead>\n",
       "  <tbody>\n",
       "    <tr>\n",
       "      <th>0</th>\n",
       "      <td>24</td>\n",
       "      <td>25</td>\n",
       "      <td>2010</td>\n",
       "      <td>1</td>\n",
       "      <td>2</td>\n",
       "      <td>0</td>\n",
       "      <td>129.0</td>\n",
       "      <td>-16</td>\n",
       "      <td>-4.0</td>\n",
       "      <td>1020.0</td>\n",
       "      <td>SE</td>\n",
       "      <td>1.79</td>\n",
       "      <td>0</td>\n",
       "      <td>0</td>\n",
       "    </tr>\n",
       "    <tr>\n",
       "      <th>1</th>\n",
       "      <td>25</td>\n",
       "      <td>26</td>\n",
       "      <td>2010</td>\n",
       "      <td>1</td>\n",
       "      <td>2</td>\n",
       "      <td>1</td>\n",
       "      <td>148.0</td>\n",
       "      <td>-15</td>\n",
       "      <td>-4.0</td>\n",
       "      <td>1020.0</td>\n",
       "      <td>SE</td>\n",
       "      <td>2.68</td>\n",
       "      <td>0</td>\n",
       "      <td>0</td>\n",
       "    </tr>\n",
       "    <tr>\n",
       "      <th>2</th>\n",
       "      <td>26</td>\n",
       "      <td>27</td>\n",
       "      <td>2010</td>\n",
       "      <td>1</td>\n",
       "      <td>2</td>\n",
       "      <td>2</td>\n",
       "      <td>159.0</td>\n",
       "      <td>-11</td>\n",
       "      <td>-5.0</td>\n",
       "      <td>1021.0</td>\n",
       "      <td>SE</td>\n",
       "      <td>3.57</td>\n",
       "      <td>0</td>\n",
       "      <td>0</td>\n",
       "    </tr>\n",
       "    <tr>\n",
       "      <th>3</th>\n",
       "      <td>27</td>\n",
       "      <td>28</td>\n",
       "      <td>2010</td>\n",
       "      <td>1</td>\n",
       "      <td>2</td>\n",
       "      <td>3</td>\n",
       "      <td>181.0</td>\n",
       "      <td>-7</td>\n",
       "      <td>-5.0</td>\n",
       "      <td>1022.0</td>\n",
       "      <td>SE</td>\n",
       "      <td>5.36</td>\n",
       "      <td>1</td>\n",
       "      <td>0</td>\n",
       "    </tr>\n",
       "    <tr>\n",
       "      <th>4</th>\n",
       "      <td>28</td>\n",
       "      <td>29</td>\n",
       "      <td>2010</td>\n",
       "      <td>1</td>\n",
       "      <td>2</td>\n",
       "      <td>4</td>\n",
       "      <td>138.0</td>\n",
       "      <td>-7</td>\n",
       "      <td>-5.0</td>\n",
       "      <td>1022.0</td>\n",
       "      <td>SE</td>\n",
       "      <td>6.25</td>\n",
       "      <td>2</td>\n",
       "      <td>0</td>\n",
       "    </tr>\n",
       "  </tbody>\n",
       "</table>\n",
       "</div>"
      ],
      "text/plain": [
       "   index  No  year  month  day  hour  pm2.5  DEWP  TEMP    PRES cbwd   Iws  \\\n",
       "0     24  25  2010      1    2     0  129.0   -16  -4.0  1020.0   SE  1.79   \n",
       "1     25  26  2010      1    2     1  148.0   -15  -4.0  1020.0   SE  2.68   \n",
       "2     26  27  2010      1    2     2  159.0   -11  -5.0  1021.0   SE  3.57   \n",
       "3     27  28  2010      1    2     3  181.0    -7  -5.0  1022.0   SE  5.36   \n",
       "4     28  29  2010      1    2     4  138.0    -7  -5.0  1022.0   SE  6.25   \n",
       "\n",
       "   Is  Ir  \n",
       "0   0   0  \n",
       "1   0   0  \n",
       "2   0   0  \n",
       "3   1   0  \n",
       "4   2   0  "
      ]
     },
     "execution_count": 13,
     "metadata": {},
     "output_type": "execute_result"
    }
   ],
   "source": [
    "df2=df2.reset_index()\n",
    "df2.head()"
   ]
  },
  {
   "cell_type": "code",
   "execution_count": 14,
   "id": "168967af",
   "metadata": {},
   "outputs": [
    {
     "data": {
      "text/plain": [
       "str"
      ]
     },
     "execution_count": 14,
     "metadata": {},
     "output_type": "execute_result"
    }
   ],
   "source": [
    "type(df2['cbwd'][0])"
   ]
  },
  {
   "cell_type": "code",
   "execution_count": 15,
   "id": "e7c51cce",
   "metadata": {},
   "outputs": [
    {
     "name": "stdout",
     "output_type": "stream",
     "text": [
      "<class 'pandas.core.frame.DataFrame'>\n",
      "RangeIndex: 41757 entries, 0 to 41756\n",
      "Data columns (total 14 columns):\n",
      " #   Column  Non-Null Count  Dtype  \n",
      "---  ------  --------------  -----  \n",
      " 0   index   41757 non-null  int64  \n",
      " 1   No      41757 non-null  int64  \n",
      " 2   year    41757 non-null  int64  \n",
      " 3   month   41757 non-null  int64  \n",
      " 4   day     41757 non-null  int64  \n",
      " 5   hour    41757 non-null  int64  \n",
      " 6   pm2.5   41757 non-null  float64\n",
      " 7   DEWP    41757 non-null  int64  \n",
      " 8   TEMP    41757 non-null  float64\n",
      " 9   PRES    41757 non-null  float64\n",
      " 10  cbwd    41757 non-null  object \n",
      " 11  Iws     41757 non-null  float64\n",
      " 12  Is      41757 non-null  int64  \n",
      " 13  Ir      41757 non-null  int64  \n",
      "dtypes: float64(4), int64(9), object(1)\n",
      "memory usage: 4.5+ MB\n"
     ]
    }
   ],
   "source": [
    "df2.info() #one categorical variable"
   ]
  },
  {
   "cell_type": "code",
   "execution_count": 16,
   "id": "9124207e",
   "metadata": {},
   "outputs": [
    {
     "data": {
      "text/html": [
       "<div>\n",
       "<style scoped>\n",
       "    .dataframe tbody tr th:only-of-type {\n",
       "        vertical-align: middle;\n",
       "    }\n",
       "\n",
       "    .dataframe tbody tr th {\n",
       "        vertical-align: top;\n",
       "    }\n",
       "\n",
       "    .dataframe thead th {\n",
       "        text-align: right;\n",
       "    }\n",
       "</style>\n",
       "<table border=\"1\" class=\"dataframe\">\n",
       "  <thead>\n",
       "    <tr style=\"text-align: right;\">\n",
       "      <th></th>\n",
       "      <th>NE</th>\n",
       "      <th>NW</th>\n",
       "      <th>SE</th>\n",
       "      <th>cv</th>\n",
       "    </tr>\n",
       "  </thead>\n",
       "  <tbody>\n",
       "    <tr>\n",
       "      <th>0</th>\n",
       "      <td>0</td>\n",
       "      <td>0</td>\n",
       "      <td>1</td>\n",
       "      <td>0</td>\n",
       "    </tr>\n",
       "    <tr>\n",
       "      <th>1</th>\n",
       "      <td>0</td>\n",
       "      <td>0</td>\n",
       "      <td>1</td>\n",
       "      <td>0</td>\n",
       "    </tr>\n",
       "    <tr>\n",
       "      <th>2</th>\n",
       "      <td>0</td>\n",
       "      <td>0</td>\n",
       "      <td>1</td>\n",
       "      <td>0</td>\n",
       "    </tr>\n",
       "    <tr>\n",
       "      <th>3</th>\n",
       "      <td>0</td>\n",
       "      <td>0</td>\n",
       "      <td>1</td>\n",
       "      <td>0</td>\n",
       "    </tr>\n",
       "    <tr>\n",
       "      <th>4</th>\n",
       "      <td>0</td>\n",
       "      <td>0</td>\n",
       "      <td>1</td>\n",
       "      <td>0</td>\n",
       "    </tr>\n",
       "  </tbody>\n",
       "</table>\n",
       "</div>"
      ],
      "text/plain": [
       "   NE  NW  SE  cv\n",
       "0   0   0   1   0\n",
       "1   0   0   1   0\n",
       "2   0   0   1   0\n",
       "3   0   0   1   0\n",
       "4   0   0   1   0"
      ]
     },
     "execution_count": 16,
     "metadata": {},
     "output_type": "execute_result"
    }
   ],
   "source": [
    "cbwd_cat = pd.get_dummies(df2['cbwd'])\n",
    "cbwd_cat.head() #change the categorical variable to dummy variables"
   ]
  },
  {
   "cell_type": "code",
   "execution_count": 17,
   "id": "bfafcf01",
   "metadata": {},
   "outputs": [
    {
     "data": {
      "text/html": [
       "<div>\n",
       "<style scoped>\n",
       "    .dataframe tbody tr th:only-of-type {\n",
       "        vertical-align: middle;\n",
       "    }\n",
       "\n",
       "    .dataframe tbody tr th {\n",
       "        vertical-align: top;\n",
       "    }\n",
       "\n",
       "    .dataframe thead th {\n",
       "        text-align: right;\n",
       "    }\n",
       "</style>\n",
       "<table border=\"1\" class=\"dataframe\">\n",
       "  <thead>\n",
       "    <tr style=\"text-align: right;\">\n",
       "      <th></th>\n",
       "      <th>index</th>\n",
       "      <th>No</th>\n",
       "      <th>year</th>\n",
       "      <th>month</th>\n",
       "      <th>day</th>\n",
       "      <th>hour</th>\n",
       "      <th>pm2.5</th>\n",
       "      <th>DEWP</th>\n",
       "      <th>TEMP</th>\n",
       "      <th>PRES</th>\n",
       "      <th>cbwd</th>\n",
       "      <th>Iws</th>\n",
       "      <th>Is</th>\n",
       "      <th>Ir</th>\n",
       "      <th>NE</th>\n",
       "      <th>NW</th>\n",
       "      <th>SE</th>\n",
       "      <th>cv</th>\n",
       "    </tr>\n",
       "  </thead>\n",
       "  <tbody>\n",
       "    <tr>\n",
       "      <th>0</th>\n",
       "      <td>24</td>\n",
       "      <td>25</td>\n",
       "      <td>2010</td>\n",
       "      <td>1</td>\n",
       "      <td>2</td>\n",
       "      <td>0</td>\n",
       "      <td>129.0</td>\n",
       "      <td>-16</td>\n",
       "      <td>-4.0</td>\n",
       "      <td>1020.0</td>\n",
       "      <td>SE</td>\n",
       "      <td>1.79</td>\n",
       "      <td>0</td>\n",
       "      <td>0</td>\n",
       "      <td>0</td>\n",
       "      <td>0</td>\n",
       "      <td>1</td>\n",
       "      <td>0</td>\n",
       "    </tr>\n",
       "    <tr>\n",
       "      <th>1</th>\n",
       "      <td>25</td>\n",
       "      <td>26</td>\n",
       "      <td>2010</td>\n",
       "      <td>1</td>\n",
       "      <td>2</td>\n",
       "      <td>1</td>\n",
       "      <td>148.0</td>\n",
       "      <td>-15</td>\n",
       "      <td>-4.0</td>\n",
       "      <td>1020.0</td>\n",
       "      <td>SE</td>\n",
       "      <td>2.68</td>\n",
       "      <td>0</td>\n",
       "      <td>0</td>\n",
       "      <td>0</td>\n",
       "      <td>0</td>\n",
       "      <td>1</td>\n",
       "      <td>0</td>\n",
       "    </tr>\n",
       "    <tr>\n",
       "      <th>2</th>\n",
       "      <td>26</td>\n",
       "      <td>27</td>\n",
       "      <td>2010</td>\n",
       "      <td>1</td>\n",
       "      <td>2</td>\n",
       "      <td>2</td>\n",
       "      <td>159.0</td>\n",
       "      <td>-11</td>\n",
       "      <td>-5.0</td>\n",
       "      <td>1021.0</td>\n",
       "      <td>SE</td>\n",
       "      <td>3.57</td>\n",
       "      <td>0</td>\n",
       "      <td>0</td>\n",
       "      <td>0</td>\n",
       "      <td>0</td>\n",
       "      <td>1</td>\n",
       "      <td>0</td>\n",
       "    </tr>\n",
       "    <tr>\n",
       "      <th>3</th>\n",
       "      <td>27</td>\n",
       "      <td>28</td>\n",
       "      <td>2010</td>\n",
       "      <td>1</td>\n",
       "      <td>2</td>\n",
       "      <td>3</td>\n",
       "      <td>181.0</td>\n",
       "      <td>-7</td>\n",
       "      <td>-5.0</td>\n",
       "      <td>1022.0</td>\n",
       "      <td>SE</td>\n",
       "      <td>5.36</td>\n",
       "      <td>1</td>\n",
       "      <td>0</td>\n",
       "      <td>0</td>\n",
       "      <td>0</td>\n",
       "      <td>1</td>\n",
       "      <td>0</td>\n",
       "    </tr>\n",
       "    <tr>\n",
       "      <th>4</th>\n",
       "      <td>28</td>\n",
       "      <td>29</td>\n",
       "      <td>2010</td>\n",
       "      <td>1</td>\n",
       "      <td>2</td>\n",
       "      <td>4</td>\n",
       "      <td>138.0</td>\n",
       "      <td>-7</td>\n",
       "      <td>-5.0</td>\n",
       "      <td>1022.0</td>\n",
       "      <td>SE</td>\n",
       "      <td>6.25</td>\n",
       "      <td>2</td>\n",
       "      <td>0</td>\n",
       "      <td>0</td>\n",
       "      <td>0</td>\n",
       "      <td>1</td>\n",
       "      <td>0</td>\n",
       "    </tr>\n",
       "  </tbody>\n",
       "</table>\n",
       "</div>"
      ],
      "text/plain": [
       "   index  No  year  month  day  hour  pm2.5  DEWP  TEMP    PRES cbwd   Iws  \\\n",
       "0     24  25  2010      1    2     0  129.0   -16  -4.0  1020.0   SE  1.79   \n",
       "1     25  26  2010      1    2     1  148.0   -15  -4.0  1020.0   SE  2.68   \n",
       "2     26  27  2010      1    2     2  159.0   -11  -5.0  1021.0   SE  3.57   \n",
       "3     27  28  2010      1    2     3  181.0    -7  -5.0  1022.0   SE  5.36   \n",
       "4     28  29  2010      1    2     4  138.0    -7  -5.0  1022.0   SE  6.25   \n",
       "\n",
       "   Is  Ir  NE  NW  SE  cv  \n",
       "0   0   0   0   0   1   0  \n",
       "1   0   0   0   0   1   0  \n",
       "2   0   0   0   0   1   0  \n",
       "3   1   0   0   0   1   0  \n",
       "4   2   0   0   0   1   0  "
      ]
     },
     "execution_count": 17,
     "metadata": {},
     "output_type": "execute_result"
    }
   ],
   "source": [
    "df2 = pd.concat([df2,cbwd_cat],axis=1) #concatenate\n",
    "df2.head()"
   ]
  },
  {
   "cell_type": "code",
   "execution_count": 18,
   "id": "19f3682f",
   "metadata": {},
   "outputs": [],
   "source": [
    "quant_cols=['DEWP','TEMP','PRES','Iws','Is','Ir','pm2.5'] #select quantitative variables\n",
    "qual_cols=['month','hour','NE','NW','SE','cv'] #select categorical data"
   ]
  },
  {
   "cell_type": "code",
   "execution_count": 19,
   "id": "8a4ab31f",
   "metadata": {},
   "outputs": [],
   "source": [
    "corr_df=pd.DataFrame(np.corrcoef(np.array(df2[quant_cols]).T))"
   ]
  },
  {
   "cell_type": "code",
   "execution_count": 20,
   "id": "0fd90972",
   "metadata": {},
   "outputs": [],
   "source": [
    "corr_df.columns=quant_cols"
   ]
  },
  {
   "cell_type": "code",
   "execution_count": 21,
   "id": "3d412355",
   "metadata": {},
   "outputs": [],
   "source": [
    "corr_df.index = quant_cols"
   ]
  },
  {
   "cell_type": "code",
   "execution_count": 22,
   "id": "05eeb63f",
   "metadata": {},
   "outputs": [
    {
     "data": {
      "image/png": "[encoded data removed]",
      "text/plain": [
       "<Figure size 432x288 with 2 Axes>"
      ]
     },
     "metadata": {
      "needs_background": "light"
     },
     "output_type": "display_data"
    }
   ],
   "source": [
    "import matplotlib.pyplot as plt\n",
    "import seaborn as sns\n",
    "ax = sns.heatmap(corr_df, annot=True, annot_kws=dict(color='g'), cmap='Greys')\n",
    "plt.show()"
   ]
  },
  {
   "cell_type": "code",
   "execution_count": 23,
   "id": "c283872c",
   "metadata": {},
   "outputs": [
    {
     "data": {
      "text/plain": [
       "DEWP     0.171423\n",
       "TEMP    -0.090534\n",
       "PRES    -0.047282\n",
       "Iws     -0.247784\n",
       "Is       0.019266\n",
       "Ir      -0.051369\n",
       "pm2.5    1.000000\n",
       "Name: pm2.5, dtype: float64"
      ]
     },
     "execution_count": 23,
     "metadata": {},
     "output_type": "execute_result"
    }
   ],
   "source": [
    "corr_df['pm2.5'] #correlation with pm2.5"
   ]
  },
  {
   "cell_type": "code",
   "execution_count": 24,
   "id": "ea351532",
   "metadata": {},
   "outputs": [
    {
     "data": {
      "text/plain": [
       "<AxesSubplot:xlabel='month', ylabel='pm2.5'>"
      ]
     },
     "execution_count": 24,
     "metadata": {},
     "output_type": "execute_result"
    },
    {
     "data": {
      "image/png": "[encoded data removed]",
      "text/plain": [
       "<Figure size 432x288 with 1 Axes>"
      ]
     },
     "metadata": {
      "needs_background": "light"
     },
     "output_type": "display_data"
    }
   ],
   "source": [
    "sns.barplot(x='month', y='pm2.5', data=df2)"
   ]
  },
  {
   "cell_type": "code",
   "execution_count": 25,
   "id": "72abc7e7",
   "metadata": {},
   "outputs": [
    {
     "data": {
      "text/plain": [
       "<AxesSubplot:xlabel='hour', ylabel='pm2.5'>"
      ]
     },
     "execution_count": 25,
     "metadata": {},
     "output_type": "execute_result"
    },
    {
     "data": {
      "image/png": "[encoded data removed]",
      "text/plain": [
       "<Figure size 432x288 with 1 Axes>"
      ]
     },
     "metadata": {
      "needs_background": "light"
     },
     "output_type": "display_data"
    }
   ],
   "source": [
    "sns.barplot(x='hour', y='pm2.5', data=df2)"
   ]
  },
  {
   "cell_type": "code",
   "execution_count": 26,
   "id": "c56465e3",
   "metadata": {},
   "outputs": [
    {
     "data": {
      "text/plain": [
       "<AxesSubplot:xlabel='cbwd', ylabel='pm2.5'>"
      ]
     },
     "execution_count": 26,
     "metadata": {},
     "output_type": "execute_result"
    },
    {
     "data": {
      "image/png": "[encoded data removed]",
      "text/plain": [
       "<Figure size 432x288 with 1 Axes>"
      ]
     },
     "metadata": {
      "needs_background": "light"
     },
     "output_type": "display_data"
    }
   ],
   "source": [
    "sns.barplot(x='cbwd', y='pm2.5', data=df2)"
   ]
  },
  {
   "cell_type": "markdown",
   "id": "8dab3067",
   "metadata": {},
   "source": [
    "# Modeling"
   ]
  },
  {
   "cell_type": "code",
   "execution_count": 27,
   "id": "05d47848",
   "metadata": {},
   "outputs": [],
   "source": [
    "cols = quant_cols+qual_cols\n",
    "cols.remove('pm2.5')\n",
    "X,y = np.array(df2[cols]), np.array(df2[\"pm2.5\"])"
   ]
  },
  {
   "cell_type": "code",
   "execution_count": 28,
   "id": "f5a1e07d",
   "metadata": {},
   "outputs": [
    {
     "data": {
      "text/plain": [
       "array([[-1.60e+01, -4.00e+00,  1.02e+03,  1.79e+00,  0.00e+00,  0.00e+00,\n",
       "         1.00e+00,  0.00e+00,  0.00e+00,  0.00e+00,  1.00e+00,  0.00e+00],\n",
       "       [-1.50e+01, -4.00e+00,  1.02e+03,  2.68e+00,  0.00e+00,  0.00e+00,\n",
       "         1.00e+00,  1.00e+00,  0.00e+00,  0.00e+00,  1.00e+00,  0.00e+00]])"
      ]
     },
     "execution_count": 28,
     "metadata": {},
     "output_type": "execute_result"
    }
   ],
   "source": [
    "X[0:2,:]"
   ]
  },
  {
   "cell_type": "code",
   "execution_count": 29,
   "id": "7383a5b9",
   "metadata": {},
   "outputs": [
    {
     "data": {
      "text/plain": [
       "(41757, 12)"
      ]
     },
     "execution_count": 29,
     "metadata": {},
     "output_type": "execute_result"
    }
   ],
   "source": [
    "X.shape"
   ]
  },
  {
   "cell_type": "code",
   "execution_count": 30,
   "id": "4dfb5f74",
   "metadata": {},
   "outputs": [],
   "source": [
    "np.random.seed(1)\n",
    "train_idx=np.random.choice(41757,31757,replace=False)\n",
    "test_idx = np.array(list(set(range(41757))-set(train_idx))) #Take 10000 samples as the test set."
   ]
  },
  {
   "cell_type": "code",
   "execution_count": 31,
   "id": "4c7dbd17",
   "metadata": {},
   "outputs": [],
   "source": [
    "X_train = X[train_idx,]\n",
    "y_train = y[train_idx,]\n",
    "\n",
    "X_test = X[test_idx,]\n",
    "y_test = y[test_idx,]"
   ]
  },
  {
   "cell_type": "code",
   "execution_count": 32,
   "id": "da7caac5",
   "metadata": {},
   "outputs": [
    {
     "name": "stdout",
     "output_type": "stream",
     "text": [
      "(31757, 12)\n",
      "(10000, 12)\n",
      "(31757,)\n",
      "(10000,)\n"
     ]
    }
   ],
   "source": [
    "print(X_train.shape)\n",
    "print(X_test.shape)\n",
    "print(y_train.shape)\n",
    "print(y_test.shape)"
   ]
  },
  {
   "cell_type": "markdown",
   "id": "78391259",
   "metadata": {},
   "source": [
    "## 0. Base (mean of y_train)"
   ]
  },
  {
   "cell_type": "code",
   "execution_count": 33,
   "id": "dec23687",
   "metadata": {},
   "outputs": [
    {
     "data": {
      "text/plain": [
       "93.37689990778144"
      ]
     },
     "execution_count": 33,
     "metadata": {},
     "output_type": "execute_result"
    }
   ],
   "source": [
    "np.sqrt(np.mean((y_test-np.mean(y_train))**2)) #base (y_mean)"
   ]
  },
  {
   "cell_type": "markdown",
   "id": "0b622e87",
   "metadata": {},
   "source": [
    "## 1. OLS"
   ]
  },
  {
   "cell_type": "code",
   "execution_count": 34,
   "id": "5285b04b",
   "metadata": {},
   "outputs": [],
   "source": [
    "from sklearn.linear_model import LinearRegression"
   ]
  },
  {
   "cell_type": "code",
   "execution_count": 35,
   "id": "e48451ed",
   "metadata": {},
   "outputs": [
    {
     "data": {
      "text/plain": [
       "LinearRegression()"
      ]
     },
     "execution_count": 35,
     "metadata": {},
     "output_type": "execute_result"
    }
   ],
   "source": [
    "ols_regr = LinearRegression()\n",
    "ols_regr.fit(X_train,y_train)"
   ]
  },
  {
   "cell_type": "code",
   "execution_count": 36,
   "id": "92eab614",
   "metadata": {},
   "outputs": [],
   "source": [
    "ols_pred = ols_regr.predict(X_test)"
   ]
  },
  {
   "cell_type": "code",
   "execution_count": 37,
   "id": "2b858744",
   "metadata": {},
   "outputs": [
    {
     "data": {
      "text/plain": [
       "array([ 43.44065755, 178.57921986,  67.07205565, ..., 131.9691329 ,\n",
       "        56.35336049,  40.32194833])"
      ]
     },
     "execution_count": 37,
     "metadata": {},
     "output_type": "execute_result"
    }
   ],
   "source": [
    "ols_pred[ols_pred<0,]=0\n",
    "ols_pred"
   ]
  },
  {
   "cell_type": "code",
   "execution_count": 38,
   "id": "1a8d8b1e",
   "metadata": {},
   "outputs": [
    {
     "data": {
      "text/plain": [
       "79.23636933768617"
      ]
     },
     "execution_count": 38,
     "metadata": {},
     "output_type": "execute_result"
    }
   ],
   "source": [
    "np.sqrt(np.mean((y_test-ols_pred)**2))"
   ]
  },
  {
   "cell_type": "code",
   "execution_count": 39,
   "id": "a7d50d5e",
   "metadata": {},
   "outputs": [
    {
     "data": {
      "text/plain": [
       "array([  4.40215676,  -6.58870573,  -1.61106348,  -0.20029049,\n",
       "        -4.12796092,  -6.32214068,  -1.15246671,   1.32612634,\n",
       "       -11.72228683, -14.11758984,  13.0342684 ,  12.80560827])"
      ]
     },
     "execution_count": 39,
     "metadata": {},
     "output_type": "execute_result"
    }
   ],
   "source": [
    "ols_regr.coef_"
   ]
  },
  {
   "cell_type": "markdown",
   "id": "3c62065e",
   "metadata": {},
   "source": [
    "## 2. RandomForest"
   ]
  },
  {
   "cell_type": "code",
   "execution_count": 40,
   "id": "330399c4",
   "metadata": {},
   "outputs": [],
   "source": [
    "from sklearn.ensemble import RandomForestRegressor\n",
    "import time"
   ]
  },
  {
   "cell_type": "code",
   "execution_count": 41,
   "id": "52edca90",
   "metadata": {},
   "outputs": [],
   "source": [
    "rf_regr = RandomForestRegressor(n_estimators=500, criterion='mse', max_features=4, n_jobs=-1, random_state=0)"
   ]
  },
  {
   "cell_type": "code",
   "execution_count": 42,
   "id": "1b6c39a0",
   "metadata": {},
   "outputs": [
    {
     "name": "stdout",
     "output_type": "stream",
     "text": [
      "3.5768868923187256\n"
     ]
    }
   ],
   "source": [
    "start=time.time()\n",
    "rf_regr.fit(X_train,y_train)\n",
    "print(time.time()-start) #one implementation, about 15 seconds"
   ]
  },
  {
   "cell_type": "code",
   "execution_count": 43,
   "id": "e92131a9",
   "metadata": {},
   "outputs": [],
   "source": [
    "rf_pred = rf_regr.predict(X_test)"
   ]
  },
  {
   "cell_type": "code",
   "execution_count": 44,
   "id": "80daff79",
   "metadata": {},
   "outputs": [
    {
     "data": {
      "text/plain": [
       "array([ 32.594, 180.072,  18.088, ..., 175.024,  36.154,  25.918])"
      ]
     },
     "execution_count": 44,
     "metadata": {},
     "output_type": "execute_result"
    }
   ],
   "source": [
    "rf_pred[rf_pred<0,]=0\n",
    "rf_pred"
   ]
  },
  {
   "cell_type": "code",
   "execution_count": 45,
   "id": "56f49a13",
   "metadata": {},
   "outputs": [
    {
     "data": {
      "text/plain": [
       "54.91833675909555"
      ]
     },
     "execution_count": 45,
     "metadata": {},
     "output_type": "execute_result"
    }
   ],
   "source": [
    "np.sqrt(np.mean((y_test-rf_pred)**2))"
   ]
  },
  {
   "cell_type": "code",
   "execution_count": 46,
   "id": "1db46731",
   "metadata": {},
   "outputs": [],
   "source": [
    "# 튜닝\n",
    "\n",
    "param_grid = {'n_estimators':[500,1000,1500,2000],\n",
    "             'max_features':[2,4,6,8,10,12]}"
   ]
  },
  {
   "cell_type": "code",
   "execution_count": 47,
   "id": "c6a391e3",
   "metadata": {},
   "outputs": [
    {
     "name": "stdout",
     "output_type": "stream",
     "text": [
      "30.0\n"
     ]
    }
   ],
   "source": [
    "expected_time = 4*6*5*15\n",
    "print(expected_time/60) #30mins"
   ]
  },
  {
   "cell_type": "code",
   "execution_count": 48,
   "id": "533a5235",
   "metadata": {},
   "outputs": [],
   "source": [
    "from sklearn.model_selection import GridSearchCV\n",
    "\n",
    "grid_search = GridSearchCV(rf_regr,param_grid,cv=5,scoring='neg_root_mean_squared_error') "
   ]
  },
  {
   "cell_type": "code",
   "execution_count": 49,
   "id": "a65b1859",
   "metadata": {},
   "outputs": [
    {
     "data": {
      "text/plain": [
       "GridSearchCV(cv=5,\n",
       "             estimator=RandomForestRegressor(max_features=4, n_estimators=500,\n",
       "                                             n_jobs=-1, random_state=0),\n",
       "             param_grid={'max_features': [2, 4, 6, 8, 10, 12],\n",
       "                         'n_estimators': [500, 1000, 1500, 2000]},\n",
       "             scoring='neg_root_mean_squared_error')"
      ]
     },
     "execution_count": 49,
     "metadata": {},
     "output_type": "execute_result"
    }
   ],
   "source": [
    "grid_search.fit(X_train,y_train) # it may take 30 mins."
   ]
  },
  {
   "cell_type": "code",
   "execution_count": 52,
   "id": "448f7ec9",
   "metadata": {},
   "outputs": [
    {
     "data": {
      "text/plain": [
       "{'max_features': 10, 'n_estimators': 2000}"
      ]
     },
     "execution_count": 52,
     "metadata": {},
     "output_type": "execute_result"
    }
   ],
   "source": [
    "grid_search.best_params_"
   ]
  },
  {
   "cell_type": "code",
   "execution_count": 53,
   "id": "e6ba756b",
   "metadata": {},
   "outputs": [
    {
     "data": {
      "text/plain": [
       "-54.367712944460585"
      ]
     },
     "execution_count": 53,
     "metadata": {},
     "output_type": "execute_result"
    }
   ],
   "source": [
    "grid_search.best_score_"
   ]
  },
  {
   "cell_type": "code",
   "execution_count": 54,
   "id": "c36ab6fc",
   "metadata": {},
   "outputs": [
    {
     "data": {
      "text/html": [
       "<div>\n",
       "<style scoped>\n",
       "    .dataframe tbody tr th:only-of-type {\n",
       "        vertical-align: middle;\n",
       "    }\n",
       "\n",
       "    .dataframe tbody tr th {\n",
       "        vertical-align: top;\n",
       "    }\n",
       "\n",
       "    .dataframe thead th {\n",
       "        text-align: right;\n",
       "    }\n",
       "</style>\n",
       "<table border=\"1\" class=\"dataframe\">\n",
       "  <thead>\n",
       "    <tr style=\"text-align: right;\">\n",
       "      <th></th>\n",
       "      <th>mean_fit_time</th>\n",
       "      <th>std_fit_time</th>\n",
       "      <th>mean_score_time</th>\n",
       "      <th>std_score_time</th>\n",
       "      <th>param_max_features</th>\n",
       "      <th>param_n_estimators</th>\n",
       "      <th>params</th>\n",
       "      <th>split0_test_score</th>\n",
       "      <th>split1_test_score</th>\n",
       "      <th>split2_test_score</th>\n",
       "      <th>split3_test_score</th>\n",
       "      <th>split4_test_score</th>\n",
       "      <th>mean_test_score</th>\n",
       "      <th>std_test_score</th>\n",
       "      <th>rank_test_score</th>\n",
       "    </tr>\n",
       "  </thead>\n",
       "  <tbody>\n",
       "    <tr>\n",
       "      <th>0</th>\n",
       "      <td>3.209715</td>\n",
       "      <td>0.718358</td>\n",
       "      <td>0.188917</td>\n",
       "      <td>0.028930</td>\n",
       "      <td>2</td>\n",
       "      <td>500</td>\n",
       "      <td>{'max_features': 2, 'n_estimators': 500}</td>\n",
       "      <td>-59.259871</td>\n",
       "      <td>-58.038878</td>\n",
       "      <td>-60.189908</td>\n",
       "      <td>-59.472687</td>\n",
       "      <td>-58.940318</td>\n",
       "      <td>-59.180333</td>\n",
       "      <td>0.703074</td>\n",
       "      <td>24</td>\n",
       "    </tr>\n",
       "    <tr>\n",
       "      <th>1</th>\n",
       "      <td>5.690940</td>\n",
       "      <td>0.148551</td>\n",
       "      <td>0.490532</td>\n",
       "      <td>0.011007</td>\n",
       "      <td>2</td>\n",
       "      <td>1000</td>\n",
       "      <td>{'max_features': 2, 'n_estimators': 1000}</td>\n",
       "      <td>-59.127964</td>\n",
       "      <td>-58.012705</td>\n",
       "      <td>-60.117883</td>\n",
       "      <td>-59.408901</td>\n",
       "      <td>-58.844824</td>\n",
       "      <td>-59.102455</td>\n",
       "      <td>0.689867</td>\n",
       "      <td>23</td>\n",
       "    </tr>\n",
       "    <tr>\n",
       "      <th>2</th>\n",
       "      <td>9.827933</td>\n",
       "      <td>0.418316</td>\n",
       "      <td>0.984603</td>\n",
       "      <td>0.023056</td>\n",
       "      <td>2</td>\n",
       "      <td>1500</td>\n",
       "      <td>{'max_features': 2, 'n_estimators': 1500}</td>\n",
       "      <td>-59.102795</td>\n",
       "      <td>-57.969256</td>\n",
       "      <td>-60.130077</td>\n",
       "      <td>-59.341624</td>\n",
       "      <td>-58.863323</td>\n",
       "      <td>-59.081415</td>\n",
       "      <td>0.700331</td>\n",
       "      <td>22</td>\n",
       "    </tr>\n",
       "    <tr>\n",
       "      <th>3</th>\n",
       "      <td>14.297903</td>\n",
       "      <td>1.172277</td>\n",
       "      <td>1.568652</td>\n",
       "      <td>0.320345</td>\n",
       "      <td>2</td>\n",
       "      <td>2000</td>\n",
       "      <td>{'max_features': 2, 'n_estimators': 2000}</td>\n",
       "      <td>-59.073619</td>\n",
       "      <td>-57.982308</td>\n",
       "      <td>-60.122460</td>\n",
       "      <td>-59.322955</td>\n",
       "      <td>-58.881232</td>\n",
       "      <td>-59.076515</td>\n",
       "      <td>0.691399</td>\n",
       "      <td>21</td>\n",
       "    </tr>\n",
       "    <tr>\n",
       "      <th>4</th>\n",
       "      <td>3.853749</td>\n",
       "      <td>0.192942</td>\n",
       "      <td>0.188407</td>\n",
       "      <td>0.015395</td>\n",
       "      <td>4</td>\n",
       "      <td>500</td>\n",
       "      <td>{'max_features': 4, 'n_estimators': 500}</td>\n",
       "      <td>-56.417897</td>\n",
       "      <td>-55.196058</td>\n",
       "      <td>-57.473388</td>\n",
       "      <td>-56.882318</td>\n",
       "      <td>-56.328091</td>\n",
       "      <td>-56.459550</td>\n",
       "      <td>0.751270</td>\n",
       "      <td>20</td>\n",
       "    </tr>\n",
       "  </tbody>\n",
       "</table>\n",
       "</div>"
      ],
      "text/plain": [
       "   mean_fit_time  std_fit_time  mean_score_time  std_score_time  \\\n",
       "0       3.209715      0.718358         0.188917        0.028930   \n",
       "1       5.690940      0.148551         0.490532        0.011007   \n",
       "2       9.827933      0.418316         0.984603        0.023056   \n",
       "3      14.297903      1.172277         1.568652        0.320345   \n",
       "4       3.853749      0.192942         0.188407        0.015395   \n",
       "\n",
       "  param_max_features param_n_estimators  \\\n",
       "0                  2                500   \n",
       "1                  2               1000   \n",
       "2                  2               1500   \n",
       "3                  2               2000   \n",
       "4                  4                500   \n",
       "\n",
       "                                      params  split0_test_score  \\\n",
       "0   {'max_features': 2, 'n_estimators': 500}         -59.259871   \n",
       "1  {'max_features': 2, 'n_estimators': 1000}         -59.127964   \n",
       "2  {'max_features': 2, 'n_estimators': 1500}         -59.102795   \n",
       "3  {'max_features': 2, 'n_estimators': 2000}         -59.073619   \n",
       "4   {'max_features': 4, 'n_estimators': 500}         -56.417897   \n",
       "\n",
       "   split1_test_score  split2_test_score  split3_test_score  split4_test_score  \\\n",
       "0         -58.038878         -60.189908         -59.472687         -58.940318   \n",
       "1         -58.012705         -60.117883         -59.408901         -58.844824   \n",
       "2         -57.969256         -60.130077         -59.341624         -58.863323   \n",
       "3         -57.982308         -60.122460         -59.322955         -58.881232   \n",
       "4         -55.196058         -57.473388         -56.882318         -56.328091   \n",
       "\n",
       "   mean_test_score  std_test_score  rank_test_score  \n",
       "0       -59.180333        0.703074               24  \n",
       "1       -59.102455        0.689867               23  \n",
       "2       -59.081415        0.700331               22  \n",
       "3       -59.076515        0.691399               21  \n",
       "4       -56.459550        0.751270               20  "
      ]
     },
     "metadata": {},
     "output_type": "display_data"
    }
   ],
   "source": [
    "import pandas as pd\n",
    "results = pd.DataFrame(grid_search.cv_results_)\n",
    "display(results.head(5))"
   ]
  },
  {
   "cell_type": "code",
   "execution_count": 55,
   "id": "cddbc99e",
   "metadata": {},
   "outputs": [
    {
     "data": {
      "text/plain": [
       "<matplotlib.collections.PolyCollection at 0x7fb8e38dd790>"
      ]
     },
     "execution_count": 55,
     "metadata": {},
     "output_type": "execute_result"
    },
    {
     "data": {
      "image/png": "[encoded data removed]",
      "text/plain": [
       "<Figure size 432x288 with 1 Axes>"
      ]
     },
     "metadata": {
      "needs_background": "light"
     },
     "output_type": "display_data"
    }
   ],
   "source": [
    "import mglearn\n",
    "\n",
    "scores=np.array(results.mean_test_score).reshape(6,4)\n",
    "\n",
    "mglearn.tools.heatmap(scores,xlabel='n_estimators', xticklabels=param_grid['n_estimators'], ylabel='max_features',yticklabels=param_grid['max_features'],cmap='viridis')"
   ]
  },
  {
   "cell_type": "code",
   "execution_count": 56,
   "id": "033804af",
   "metadata": {},
   "outputs": [],
   "source": [
    "rft_pred = grid_search.predict(X_test)"
   ]
  },
  {
   "cell_type": "code",
   "execution_count": 57,
   "id": "27410d03",
   "metadata": {},
   "outputs": [
    {
     "data": {
      "text/plain": [
       "array([ 41.407 , 214.9665,  18.566 , ..., 206.4885,  32.243 ,  25.8585])"
      ]
     },
     "execution_count": 57,
     "metadata": {},
     "output_type": "execute_result"
    }
   ],
   "source": [
    "rft_pred[rft_pred<0,]=0\n",
    "rft_pred"
   ]
  },
  {
   "cell_type": "code",
   "execution_count": 58,
   "id": "de491310",
   "metadata": {},
   "outputs": [
    {
     "data": {
      "text/plain": [
       "52.94212291306083"
      ]
     },
     "execution_count": 58,
     "metadata": {},
     "output_type": "execute_result"
    }
   ],
   "source": [
    "np.sqrt(np.mean((y_test-rft_pred)**2))"
   ]
  },
  {
   "cell_type": "markdown",
   "id": "44bb0dac",
   "metadata": {},
   "source": [
    "## 3. SVM (RBF kernel)"
   ]
  },
  {
   "cell_type": "code",
   "execution_count": 79,
   "id": "abdebd6c",
   "metadata": {},
   "outputs": [],
   "source": [
    "from sklearn.svm import SVR"
   ]
  },
  {
   "cell_type": "code",
   "execution_count": 80,
   "id": "27671e8c",
   "metadata": {},
   "outputs": [],
   "source": [
    "#Implement normalization for svm\n",
    "Xn_train = X_train-np.min(X_train,axis=0)\n",
    "Xn_train = Xn_train/(np.max(X_train,axis=0)-np.min(X_train,axis=0))\n",
    "\n",
    "Xn_test = X_test-np.min(X_train,axis=0)\n",
    "Xn_test = Xn_test/(np.max(X_train,axis=0)-np.min(X_train,axis=0))"
   ]
  },
  {
   "cell_type": "code",
   "execution_count": 81,
   "id": "486125e5",
   "metadata": {},
   "outputs": [],
   "source": [
    "svm_regr = SVR(kernel='rbf',C=2**-3, gamma=2**3)"
   ]
  },
  {
   "cell_type": "code",
   "execution_count": 82,
   "id": "5f7fed13",
   "metadata": {},
   "outputs": [
    {
     "name": "stdout",
     "output_type": "stream",
     "text": [
      "67.4991672039032\n"
     ]
    }
   ],
   "source": [
    "start=time.time()\n",
    "svm_regr.fit(Xn_train,y_train)\n",
    "print(time.time()-start) #one implementation, about 67 seconds... "
   ]
  },
  {
   "cell_type": "code",
   "execution_count": 83,
   "id": "a8f95ced",
   "metadata": {},
   "outputs": [
    {
     "name": "stdout",
     "output_type": "stream",
     "text": [
      "33.81905913352966\n"
     ]
    }
   ],
   "source": [
    "start=time.time()\n",
    "svm_pred = svm_regr.predict(Xn_test) \n",
    "print(time.time()-start) #inference is also demanding, about 32 seconds..."
   ]
  },
  {
   "cell_type": "code",
   "execution_count": 84,
   "id": "9c1c934d",
   "metadata": {},
   "outputs": [
    {
     "data": {
      "text/plain": [
       "array([55.38548456, 85.88205656, 63.85062897, ..., 77.50121515,\n",
       "       55.14311824, 53.71417643])"
      ]
     },
     "execution_count": 84,
     "metadata": {},
     "output_type": "execute_result"
    }
   ],
   "source": [
    "svm_pred[svm_pred<0,]=0\n",
    "svm_pred"
   ]
  },
  {
   "cell_type": "code",
   "execution_count": 85,
   "id": "efc4b94e",
   "metadata": {},
   "outputs": [
    {
     "data": {
      "text/plain": [
       "92.92957249195852"
      ]
     },
     "execution_count": 85,
     "metadata": {},
     "output_type": "execute_result"
    }
   ],
   "source": [
    "np.sqrt(np.mean((y_test-svm_pred)**2))"
   ]
  },
  {
   "cell_type": "code",
   "execution_count": 87,
   "id": "b0608c2f",
   "metadata": {},
   "outputs": [],
   "source": [
    "# 튜닝\n",
    "\n",
    "expc_list = [6,7,8,9] \n",
    "expg_list = [3,4,5,6] \n",
    "\n",
    "param_grid = {'C':[2**i for i in expc_list],\n",
    "             'gamma':[2**i for i in expg_list]} #coarse tuning -> fine tuning"
   ]
  },
  {
   "cell_type": "code",
   "execution_count": 88,
   "id": "e7b7566a",
   "metadata": {},
   "outputs": [
    {
     "data": {
      "text/plain": [
       "{'C': [64, 128, 256, 512], 'gamma': [8, 16, 32, 64]}"
      ]
     },
     "execution_count": 88,
     "metadata": {},
     "output_type": "execute_result"
    }
   ],
   "source": [
    "param_grid"
   ]
  },
  {
   "cell_type": "code",
   "execution_count": 89,
   "id": "5fbd9761",
   "metadata": {},
   "outputs": [],
   "source": [
    "param_grid_visual = {'C':list(np.round(np.array([2**i for i in expc_list]),3)),\n",
    "             'gamma':list(np.round(np.array([2**i for i in expg_list]),3))} #for visualization later"
   ]
  },
  {
   "cell_type": "code",
   "execution_count": 90,
   "id": "b797faba",
   "metadata": {},
   "outputs": [],
   "source": [
    "from sklearn.model_selection import GridSearchCV\n",
    "\n",
    "grid_search = GridSearchCV(svm_regr,param_grid,cv=2,scoring='neg_root_mean_squared_error',n_jobs=-1)"
   ]
  },
  {
   "cell_type": "code",
   "execution_count": 91,
   "id": "b252ecd0",
   "metadata": {},
   "outputs": [
    {
     "name": "stdout",
     "output_type": "stream",
     "text": [
      "3767.1978521347046\n"
     ]
    }
   ],
   "source": [
    "start=time.time()\n",
    "grid_search.fit(Xn_train,y_train)\n",
    "print(time.time()-start) #required time"
   ]
  },
  {
   "cell_type": "code",
   "execution_count": 92,
   "id": "fcb1261b",
   "metadata": {},
   "outputs": [
    {
     "data": {
      "text/plain": [
       "62.8"
      ]
     },
     "execution_count": 92,
     "metadata": {},
     "output_type": "execute_result"
    }
   ],
   "source": [
    "3768/60 #mins"
   ]
  },
  {
   "cell_type": "code",
   "execution_count": 93,
   "id": "06e0d76e",
   "metadata": {},
   "outputs": [
    {
     "data": {
      "text/plain": [
       "{'C': 512, 'gamma': 16}"
      ]
     },
     "execution_count": 93,
     "metadata": {},
     "output_type": "execute_result"
    }
   ],
   "source": [
    "grid_search.best_params_"
   ]
  },
  {
   "cell_type": "code",
   "execution_count": 94,
   "id": "080033c1",
   "metadata": {},
   "outputs": [
    {
     "data": {
      "text/html": [
       "<div>\n",
       "<style scoped>\n",
       "    .dataframe tbody tr th:only-of-type {\n",
       "        vertical-align: middle;\n",
       "    }\n",
       "\n",
       "    .dataframe tbody tr th {\n",
       "        vertical-align: top;\n",
       "    }\n",
       "\n",
       "    .dataframe thead th {\n",
       "        text-align: right;\n",
       "    }\n",
       "</style>\n",
       "<table border=\"1\" class=\"dataframe\">\n",
       "  <thead>\n",
       "    <tr style=\"text-align: right;\">\n",
       "      <th></th>\n",
       "      <th>mean_fit_time</th>\n",
       "      <th>std_fit_time</th>\n",
       "      <th>mean_score_time</th>\n",
       "      <th>std_score_time</th>\n",
       "      <th>param_C</th>\n",
       "      <th>param_gamma</th>\n",
       "      <th>params</th>\n",
       "      <th>split0_test_score</th>\n",
       "      <th>split1_test_score</th>\n",
       "      <th>mean_test_score</th>\n",
       "      <th>std_test_score</th>\n",
       "      <th>rank_test_score</th>\n",
       "    </tr>\n",
       "  </thead>\n",
       "  <tbody>\n",
       "    <tr>\n",
       "      <th>0</th>\n",
       "      <td>26.424459</td>\n",
       "      <td>0.179336</td>\n",
       "      <td>42.721589</td>\n",
       "      <td>0.159555</td>\n",
       "      <td>64</td>\n",
       "      <td>8</td>\n",
       "      <td>{'C': 64, 'gamma': 8}</td>\n",
       "      <td>-65.463382</td>\n",
       "      <td>-68.218947</td>\n",
       "      <td>-66.841165</td>\n",
       "      <td>1.377783</td>\n",
       "      <td>15</td>\n",
       "    </tr>\n",
       "    <tr>\n",
       "      <th>1</th>\n",
       "      <td>28.690531</td>\n",
       "      <td>0.534860</td>\n",
       "      <td>43.271354</td>\n",
       "      <td>0.587814</td>\n",
       "      <td>64</td>\n",
       "      <td>16</td>\n",
       "      <td>{'C': 64, 'gamma': 16}</td>\n",
       "      <td>-64.276424</td>\n",
       "      <td>-66.908181</td>\n",
       "      <td>-65.592303</td>\n",
       "      <td>1.315879</td>\n",
       "      <td>12</td>\n",
       "    </tr>\n",
       "    <tr>\n",
       "      <th>2</th>\n",
       "      <td>46.059854</td>\n",
       "      <td>0.945924</td>\n",
       "      <td>45.820955</td>\n",
       "      <td>0.060590</td>\n",
       "      <td>64</td>\n",
       "      <td>32</td>\n",
       "      <td>{'C': 64, 'gamma': 32}</td>\n",
       "      <td>-64.104630</td>\n",
       "      <td>-66.133478</td>\n",
       "      <td>-65.119054</td>\n",
       "      <td>1.014424</td>\n",
       "      <td>10</td>\n",
       "    </tr>\n",
       "    <tr>\n",
       "      <th>3</th>\n",
       "      <td>101.605004</td>\n",
       "      <td>0.497966</td>\n",
       "      <td>46.559772</td>\n",
       "      <td>0.088395</td>\n",
       "      <td>64</td>\n",
       "      <td>64</td>\n",
       "      <td>{'C': 64, 'gamma': 64}</td>\n",
       "      <td>-64.948414</td>\n",
       "      <td>-67.155527</td>\n",
       "      <td>-66.051971</td>\n",
       "      <td>1.103557</td>\n",
       "      <td>14</td>\n",
       "    </tr>\n",
       "    <tr>\n",
       "      <th>4</th>\n",
       "      <td>32.979020</td>\n",
       "      <td>0.071058</td>\n",
       "      <td>45.848537</td>\n",
       "      <td>0.092295</td>\n",
       "      <td>128</td>\n",
       "      <td>8</td>\n",
       "      <td>{'C': 128, 'gamma': 8}</td>\n",
       "      <td>-64.420055</td>\n",
       "      <td>-67.048551</td>\n",
       "      <td>-65.734303</td>\n",
       "      <td>1.314248</td>\n",
       "      <td>13</td>\n",
       "    </tr>\n",
       "  </tbody>\n",
       "</table>\n",
       "</div>"
      ],
      "text/plain": [
       "   mean_fit_time  std_fit_time  mean_score_time  std_score_time param_C  \\\n",
       "0      26.424459      0.179336        42.721589        0.159555      64   \n",
       "1      28.690531      0.534860        43.271354        0.587814      64   \n",
       "2      46.059854      0.945924        45.820955        0.060590      64   \n",
       "3     101.605004      0.497966        46.559772        0.088395      64   \n",
       "4      32.979020      0.071058        45.848537        0.092295     128   \n",
       "\n",
       "  param_gamma                  params  split0_test_score  split1_test_score  \\\n",
       "0           8   {'C': 64, 'gamma': 8}         -65.463382         -68.218947   \n",
       "1          16  {'C': 64, 'gamma': 16}         -64.276424         -66.908181   \n",
       "2          32  {'C': 64, 'gamma': 32}         -64.104630         -66.133478   \n",
       "3          64  {'C': 64, 'gamma': 64}         -64.948414         -67.155527   \n",
       "4           8  {'C': 128, 'gamma': 8}         -64.420055         -67.048551   \n",
       "\n",
       "   mean_test_score  std_test_score  rank_test_score  \n",
       "0       -66.841165        1.377783               15  \n",
       "1       -65.592303        1.315879               12  \n",
       "2       -65.119054        1.014424               10  \n",
       "3       -66.051971        1.103557               14  \n",
       "4       -65.734303        1.314248               13  "
      ]
     },
     "metadata": {},
     "output_type": "display_data"
    }
   ],
   "source": [
    "import pandas as pd\n",
    "results = pd.DataFrame(grid_search.cv_results_)\n",
    "display(results.head(5))"
   ]
  },
  {
   "cell_type": "code",
   "execution_count": 96,
   "id": "285d719e",
   "metadata": {},
   "outputs": [
    {
     "data": {
      "text/plain": [
       "<matplotlib.collections.PolyCollection at 0x7fb821332b80>"
      ]
     },
     "execution_count": 96,
     "metadata": {},
     "output_type": "execute_result"
    },
    {
     "data": {
      "image/png": "[encoded data removed]",
      "text/plain": [
       "<Figure size 720x720 with 1 Axes>"
      ]
     },
     "metadata": {
      "needs_background": "light"
     },
     "output_type": "display_data"
    }
   ],
   "source": [
    "import mglearn\n",
    "\n",
    "%matplotlib inline\n",
    "import matplotlib.pylab as plt\n",
    "\n",
    "plt.rcParams[\"figure.figsize\"] = (10,10)\n",
    "plt.rcParams['lines.linewidth'] = 2\n",
    "plt.rcParams['lines.color'] = 'r'\n",
    "plt.rcParams['axes.grid'] = True \n",
    "\n",
    "scores=np.array(results.mean_test_score).reshape(4,4)\n",
    "\n",
    "mglearn.tools.heatmap(scores,xlabel='gamma', xticklabels=param_grid_visual['gamma'], ylabel='C',yticklabels=param_grid_visual['C'],cmap='viridis')"
   ]
  },
  {
   "cell_type": "code",
   "execution_count": 97,
   "id": "f65af87d",
   "metadata": {},
   "outputs": [],
   "source": [
    "svmt_pred = grid_search.predict(Xn_test)"
   ]
  },
  {
   "cell_type": "code",
   "execution_count": 98,
   "id": "f1ca22b6",
   "metadata": {},
   "outputs": [
    {
     "data": {
      "text/plain": [
       "array([ 30.96605221, 151.90373598,   8.89091142, ..., 144.55076265,\n",
       "         7.83334625,  24.76907943])"
      ]
     },
     "execution_count": 98,
     "metadata": {},
     "output_type": "execute_result"
    }
   ],
   "source": [
    "svmt_pred[svmt_pred<0,]=0\n",
    "svmt_pred"
   ]
  },
  {
   "cell_type": "code",
   "execution_count": 99,
   "id": "1054d342",
   "metadata": {},
   "outputs": [
    {
     "data": {
      "text/plain": [
       "59.851333148561515"
      ]
     },
     "execution_count": 99,
     "metadata": {},
     "output_type": "execute_result"
    }
   ],
   "source": [
    "np.sqrt(np.mean((y_test-svmt_pred)**2))"
   ]
  },
  {
   "cell_type": "markdown",
   "id": "699f4b2b",
   "metadata": {},
   "source": [
    "## 4. XGBoost"
   ]
  },
  {
   "cell_type": "code",
   "execution_count": 100,
   "id": "cc34460e",
   "metadata": {},
   "outputs": [],
   "source": [
    "#Import libraries:\n",
    "import pandas as pd\n",
    "import numpy as np\n",
    "import xgboost as xgb\n",
    "from xgboost.sklearn import XGBClassifier\n",
    "from sklearn.model_selection import train_test_split\n",
    "from sklearn import metrics   #Additional scklearn functions\n",
    "\n",
    "import matplotlib.pylab as plt\n",
    "%matplotlib inline\n",
    "from matplotlib.pylab import rcParams\n",
    "rcParams['figure.figsize'] = 12, 4"
   ]
  },
  {
   "cell_type": "code",
   "execution_count": 101,
   "id": "0b364da2",
   "metadata": {},
   "outputs": [
    {
     "name": "stdout",
     "output_type": "stream",
     "text": [
      "1.3.3\n"
     ]
    }
   ],
   "source": [
    "print(xgb.__version__)"
   ]
  },
  {
   "cell_type": "code",
   "execution_count": 102,
   "id": "5b207f8f",
   "metadata": {},
   "outputs": [],
   "source": [
    "def modelfit(alg, dtrain, predictors,useTrainCV=True, cv_folds=5, early_stopping_rounds=50): #find the best n_estimators\n",
    "    \n",
    "    if useTrainCV:\n",
    "        xgb_param = alg.get_xgb_params()\n",
    "        xgtrain = xgb.DMatrix(dtrain[predictors].values, label=dtrain[target].values)\n",
    "        cvresult = xgb.cv(xgb_param, xgtrain, num_boost_round=alg.get_params()['n_estimators'], nfold=cv_folds,\n",
    "            metrics='rmse', early_stopping_rounds=early_stopping_rounds)\n",
    "        alg.set_params(n_estimators=cvresult.shape[0])\n",
    "    \n",
    "    #print the best n_estimators\n",
    "    #print(cvresult)\n",
    "    print(\"n_estimators:\", cvresult.shape[0])"
   ]
  },
  {
   "cell_type": "code",
   "execution_count": 103,
   "id": "a84eaee4",
   "metadata": {},
   "outputs": [],
   "source": [
    "import xgboost as xgb \n",
    "from xgboost.sklearn import XGBRegressor\n",
    "xgb_regr = xgb.XGBRegressor( #just arbitrary xgboost\n",
    "    learning_rate=0.1,\n",
    "    n_estimators=1000,\n",
    "    max_depth=5,\n",
    "    min_child_weight=1,\n",
    "    gamma=0,\n",
    "    subsample=0.8,\n",
    "    colsample_bytree=0.8,\n",
    "    objective='reg:squarederror',\n",
    "    nthread=3,\n",
    "    scale_pos_weight=1,\n",
    "    seed=1\n",
    "    )"
   ]
  },
  {
   "cell_type": "code",
   "execution_count": 104,
   "id": "4a336622",
   "metadata": {},
   "outputs": [
    {
     "name": "stdout",
     "output_type": "stream",
     "text": [
      "   index     No  year  month  day  hour  pm2.5  DEWP  TEMP    PRES cbwd  \\\n",
      "0    631    632  2010      1   27     7  140.0   -11  -4.0  1015.0   NW   \n",
      "1  11516  11517  2011      4   25    20   93.0     7  14.0  1003.0   SE   \n",
      "2  42226  42227  2014     10   26    10   10.0    -8  15.0  1027.0   NE   \n",
      "3  29825  29826  2013      5   27    17   86.0    15  23.0  1005.0   NW   \n",
      "4   7882   7883  2010     11   25    10   80.0   -12   0.0  1027.0   NW   \n",
      "\n",
      "     Iws  Is  Ir  NE  NW  SE  cv  \n",
      "0  18.79   0   0   0   1   0   0  \n",
      "1  33.98   0   0   0   0   1   0  \n",
      "2  28.16   0   0   1   0   0   0  \n",
      "3   1.79   0   0   0   1   0   0  \n",
      "4   5.37   0   0   0   1   0   0  \n"
     ]
    }
   ],
   "source": [
    "#make new format of train set for xgboost\n",
    "train=df2.iloc[train_idx,]\n",
    "train.reset_index(drop=True,inplace=True)\n",
    "print(train.head())"
   ]
  },
  {
   "cell_type": "code",
   "execution_count": 105,
   "id": "3a4db1fb",
   "metadata": {},
   "outputs": [
    {
     "name": "stdout",
     "output_type": "stream",
     "text": [
      "   index     No  year  month  day  hour  pm2.5  DEWP  TEMP    PRES cbwd  \\\n",
      "0  34717  34718  2013     12   17    13   24.0   -19   1.0  1033.0   NE   \n",
      "1     33     34  2010      1    2     9  132.0    -7  -5.0  1025.0   SE   \n",
      "2  34726  34727  2013     12   17    22   13.0   -21  -4.0  1037.0   NE   \n",
      "3  34729  34730  2013     12   18     1   12.0   -21  -6.0  1037.0   NE   \n",
      "4     38     39  2010      1    2    14  158.0    -9  -5.0  1025.0   SE   \n",
      "\n",
      "     Iws  Is  Ir  NE  NW  SE  cv  \n",
      "0   3.13   0   0   1   0   0   0  \n",
      "1  14.30   0   0   0   0   1   0  \n",
      "2  33.08   0   0   1   0   0   0  \n",
      "3  46.94   0   0   1   0   0   0  \n",
      "4  31.73   0   0   0   0   1   0  \n"
     ]
    }
   ],
   "source": [
    "#make new format of test set for xgboost\n",
    "test=df2.iloc[test_idx,]\n",
    "test.reset_index(drop=True,inplace=True)\n",
    "print(test.head())"
   ]
  },
  {
   "cell_type": "code",
   "execution_count": 106,
   "id": "098b16f1",
   "metadata": {},
   "outputs": [],
   "source": [
    "target = 'pm2.5'\n",
    "predictors = cols"
   ]
  },
  {
   "cell_type": "code",
   "execution_count": 107,
   "id": "7ddc7831",
   "metadata": {},
   "outputs": [],
   "source": [
    "xgb_regr.fit(train[predictors],train[target])\n",
    "xgb_pred=xgb_regr.predict(test[predictors])"
   ]
  },
  {
   "cell_type": "code",
   "execution_count": 108,
   "id": "f180e22c",
   "metadata": {},
   "outputs": [
    {
     "data": {
      "text/plain": [
       "56.91627766681695"
      ]
     },
     "execution_count": 108,
     "metadata": {},
     "output_type": "execute_result"
    }
   ],
   "source": [
    "np.sqrt(np.mean((y_test-xgb_pred)**2)) #not tuned xgboost, already beat SVM."
   ]
  },
  {
   "cell_type": "code",
   "execution_count": 109,
   "id": "4a98ed0b",
   "metadata": {},
   "outputs": [
    {
     "name": "stdout",
     "output_type": "stream",
     "text": [
      "n_estimators: 767\n"
     ]
    }
   ],
   "source": [
    "# find the best n_estimators given other parameters are fixed\n",
    "modelfit(xgb_regr,train,predictors) "
   ]
  },
  {
   "cell_type": "code",
   "execution_count": 110,
   "id": "23a53b1e",
   "metadata": {},
   "outputs": [],
   "source": [
    "import xgboost as xgb\n",
    "from xgboost.sklearn import XGBRegressor\n",
    "xgb1_regr = xgb.XGBRegressor(\n",
    "    learning_rate=0.5,\n",
    "    n_estimators=1000,\n",
    "    max_depth=5,\n",
    "    min_child_weight=1,\n",
    "    gamma=0,\n",
    "    subsample=0.8,\n",
    "    colsample_bytree=0.8,\n",
    "    objective='reg:squarederror',\n",
    "    nthread=3,\n",
    "    scale_pos_weight=1,\n",
    "    seed=1\n",
    "    )"
   ]
  },
  {
   "cell_type": "code",
   "execution_count": 111,
   "id": "ab52a17e",
   "metadata": {},
   "outputs": [
    {
     "name": "stdout",
     "output_type": "stream",
     "text": [
      "n_estimators: 100\n"
     ]
    }
   ],
   "source": [
    "modelfit(xgb1_regr,train,predictors) #select this n_estimators."
   ]
  },
  {
   "cell_type": "code",
   "execution_count": 116,
   "id": "2bdbace0",
   "metadata": {},
   "outputs": [],
   "source": [
    "from sklearn.model_selection import GridSearchCV\n",
    "param_test1={\n",
    "    'max_depth':range(3,15,2),\n",
    "    'min_child_weight':range(1,8,2)\n",
    "}\n",
    "\n",
    "gsearch1 = GridSearchCV(estimator=XGBRegressor(learning_rate=0.1, n_estimators=100, max_depth=5, min_child_weight=1,\n",
    "                                              gamma=0, subsample=0.8, colsample_bytree=0.8,\n",
    "                                              objective='reg:squarederror', scale_pos_weight=1, seed=1),\n",
    "                       param_grid = param_test1, scoring='neg_root_mean_squared_error', n_jobs=-1, cv=5)"
   ]
  },
  {
   "cell_type": "code",
   "execution_count": 117,
   "id": "6cb6ed5f",
   "metadata": {},
   "outputs": [
    {
     "data": {
      "text/plain": [
       "({'max_depth': 13, 'min_child_weight': 7}, -56.12428533566238)"
      ]
     },
     "execution_count": 117,
     "metadata": {},
     "output_type": "execute_result"
    }
   ],
   "source": [
    "gsearch1.fit(train[predictors],train[target])\n",
    "gsearch1.best_params_, gsearch1.best_score_ "
   ]
  },
  {
   "cell_type": "code",
   "execution_count": 118,
   "id": "6f0e775c",
   "metadata": {},
   "outputs": [],
   "source": [
    "param_test2={\n",
    "    'gamma':[0,0.1,0.2,0.3,0.4,0.5,0.6,0.7]\n",
    "}\n",
    "\n",
    "gsearch2 = GridSearchCV(estimator=XGBRegressor(learning_rate=0.1, n_estimators=100, max_depth=13, min_child_weight=7,\n",
    "                                              gamma=0, subsample=0.8, colsample_bytree=0.8,\n",
    "                                              objective='reg:squarederror', scale_pos_weight=1, seed=1),\n",
    "                       param_grid = param_test2, scoring='neg_root_mean_squared_error', n_jobs=3, cv=5)"
   ]
  },
  {
   "cell_type": "code",
   "execution_count": 119,
   "id": "6103a2dd",
   "metadata": {},
   "outputs": [
    {
     "data": {
      "text/plain": [
       "({'gamma': 0}, -56.12428533566238)"
      ]
     },
     "execution_count": 119,
     "metadata": {},
     "output_type": "execute_result"
    }
   ],
   "source": [
    "gsearch2.fit(train[predictors],train[target])\n",
    "gsearch2.best_params_, gsearch2.best_score_"
   ]
  },
  {
   "cell_type": "code",
   "execution_count": 120,
   "id": "2a21f3c0",
   "metadata": {},
   "outputs": [
    {
     "name": "stdout",
     "output_type": "stream",
     "text": [
      "n_estimators: 73\n"
     ]
    }
   ],
   "source": [
    "xgb2_regr = xgb.XGBRegressor(\n",
    "    learning_rate=0.1,\n",
    "    n_estimators=1000,\n",
    "    max_depth=13,\n",
    "    min_child_weight=7,\n",
    "    gamma=0,\n",
    "    subsample=0.8,\n",
    "    colsample_bytree=0.8,\n",
    "    objective='reg:squarederror',\n",
    "    nthread=3,\n",
    "    scale_pos_weight=1,\n",
    "    seed=1\n",
    "    )\n",
    "\n",
    "modelfit(xgb2_regr, train, predictors)"
   ]
  },
  {
   "cell_type": "code",
   "execution_count": 121,
   "id": "77358064",
   "metadata": {},
   "outputs": [],
   "source": [
    "param_test3 = {\n",
    "    'subsample': [0.5,0.6,0.7,0.8,0.9],  #[i/10.0 for i in range(6,10)],\n",
    "    'colsample_bytree': [0.5,0.6,0.7,0.8,0.9]  #[1/10.0 for i in range(6,10)]\n",
    "}\n",
    "\n",
    "gsearch3 = GridSearchCV(estimator=XGBRegressor(learning_rate=0.1, n_estimators=73, max_depth=13, min_child_weight=7,\n",
    "                                              gamma=0, subsample=0.8, colsample_bytree=0.8,\n",
    "                                              objective='reg:squarederror', scale_pos_weight=1, seed=1),\n",
    "                       param_grid = param_test3, scoring='neg_root_mean_squared_error', n_jobs=3, cv=5)"
   ]
  },
  {
   "cell_type": "code",
   "execution_count": 122,
   "id": "450b0f60",
   "metadata": {},
   "outputs": [
    {
     "data": {
      "text/plain": [
       "({'colsample_bytree': 0.9, 'subsample': 0.9}, -55.46338744252314)"
      ]
     },
     "execution_count": 122,
     "metadata": {},
     "output_type": "execute_result"
    }
   ],
   "source": [
    "gsearch3.fit(train[predictors],train[target])\n",
    "gsearch3.best_params_, gsearch3.best_score_"
   ]
  },
  {
   "cell_type": "code",
   "execution_count": 128,
   "id": "edd18dfd",
   "metadata": {},
   "outputs": [],
   "source": [
    "param_test4 = {\n",
    "    'reg_alpha': [0,10**-5,10**-2,0.1,1,100],\n",
    "    'reg_lambda': [0,10**-5,10**-2,0.1,1,100]  \n",
    "}\n",
    "\n",
    "gsearch4 = GridSearchCV(estimator=XGBRegressor(learning_rate=0.1, n_estimators=73, max_depth=13, min_child_weight=7,\n",
    "                                              gamma=0, subsample=0.9, colsample_bytree=0.9,\n",
    "                                              objective='reg:squarederror', scale_pos_weight=1, seed=1),\n",
    "                       param_grid = param_test4, scoring='neg_root_mean_squared_error', n_jobs=3, cv=5)"
   ]
  },
  {
   "cell_type": "code",
   "execution_count": 129,
   "id": "4c761036",
   "metadata": {},
   "outputs": [
    {
     "data": {
      "text/plain": [
       "({'reg_alpha': 100, 'reg_lambda': 0.1}, -55.46229828534162)"
      ]
     },
     "execution_count": 129,
     "metadata": {},
     "output_type": "execute_result"
    }
   ],
   "source": [
    "gsearch4.fit(train[predictors],train[target])\n",
    "gsearch4.best_params_, gsearch4.best_score_"
   ]
  },
  {
   "cell_type": "code",
   "execution_count": 130,
   "id": "95210030",
   "metadata": {},
   "outputs": [],
   "source": [
    "param_test4 = {\n",
    "    'reg_alpha': [10,20,50,100],\n",
    "    'reg_lambda': [0.05,0.1,0.2,0.5]  \n",
    "}\n",
    "\n",
    "gsearch4 = GridSearchCV(estimator=XGBRegressor(learning_rate=0.1, n_estimators=73, max_depth=13, min_child_weight=7,\n",
    "                                              gamma=0, subsample=0.9, colsample_bytree=0.9,\n",
    "                                              objective='reg:squarederror', scale_pos_weight=1, seed=1),\n",
    "                       param_grid = param_test4, scoring='neg_root_mean_squared_error', n_jobs=3, cv=5)"
   ]
  },
  {
   "cell_type": "code",
   "execution_count": 131,
   "id": "a75e9183",
   "metadata": {},
   "outputs": [
    {
     "data": {
      "text/plain": [
       "({'reg_alpha': 50, 'reg_lambda': 0.05}, -55.38576886555485)"
      ]
     },
     "execution_count": 131,
     "metadata": {},
     "output_type": "execute_result"
    }
   ],
   "source": [
    "gsearch4.fit(train[predictors],train[target])\n",
    "gsearch4.best_params_, gsearch4.best_score_"
   ]
  },
  {
   "cell_type": "code",
   "execution_count": 132,
   "id": "53ace45b",
   "metadata": {},
   "outputs": [
    {
     "name": "stdout",
     "output_type": "stream",
     "text": [
      "n_estimators: 77\n"
     ]
    }
   ],
   "source": [
    "xgb3_regr = xgb.XGBRegressor(\n",
    "    learning_rate=0.1,\n",
    "    n_estimators=1000,\n",
    "    max_depth=13,\n",
    "    min_child_weight=7,\n",
    "    gamma=0,\n",
    "    subsample=0.9,\n",
    "    colsample_bytree=0.9,\n",
    "    objective='reg:squarederror',\n",
    "    nthread=3,\n",
    "    scale_pos_weight=1,\n",
    "    reg_alpha=50,\n",
    "    reg_lambda=0.05,\n",
    "    seed=1\n",
    "    )\n",
    "\n",
    "modelfit(xgb3_regr, train, predictors)"
   ]
  },
  {
   "cell_type": "code",
   "execution_count": 133,
   "id": "b6132136",
   "metadata": {},
   "outputs": [
    {
     "name": "stdout",
     "output_type": "stream",
     "text": [
      "n_estimators: 890\n"
     ]
    }
   ],
   "source": [
    "xgb4_regr = xgb.XGBRegressor(\n",
    "    learning_rate=0.01,\n",
    "    n_estimators=1000,\n",
    "    max_depth=13,\n",
    "    min_child_weight=7,\n",
    "    gamma=0,\n",
    "    subsample=0.9,\n",
    "    colsample_bytree=0.9,\n",
    "    objective='reg:squarederror',\n",
    "    nthread=3,\n",
    "    scale_pos_weight=1,\n",
    "    reg_alpha=50,\n",
    "    reg_lambda=0.05,\n",
    "    seed=1\n",
    "    )\n",
    "\n",
    "modelfit(xgb4_regr, train, predictors)"
   ]
  },
  {
   "cell_type": "code",
   "execution_count": 134,
   "id": "bd2539b6",
   "metadata": {},
   "outputs": [],
   "source": [
    "param_test5 = {\n",
    "    'learning_rate': [0.1,0.01],  #[i/10.0 for i in range(6,10)],\n",
    "    'n_estimators': [77,890]  #[1/10.0 for i in range(6,10)]\n",
    "}\n",
    "\n",
    "gsearch5 = GridSearchCV(estimator=XGBRegressor(learning_rate=0.1, n_estimators=5, max_depth=13, min_child_weight=7,\n",
    "                                              gamma=0, subsample=0.9, colsample_bytree=0.9,\n",
    "                                              objective='reg:squarederror', scale_pos_weight=1,reg_alpha=50,\n",
    "                                               reg_lambda=0.05, seed=1),\n",
    "                       param_grid = param_test5, scoring='neg_root_mean_squared_error', n_jobs=3, cv=5)"
   ]
  },
  {
   "cell_type": "code",
   "execution_count": 135,
   "id": "dcd243d0",
   "metadata": {},
   "outputs": [
    {
     "data": {
      "text/plain": [
       "({'learning_rate': 0.01, 'n_estimators': 890}, -54.600899387228786)"
      ]
     },
     "execution_count": 135,
     "metadata": {},
     "output_type": "execute_result"
    }
   ],
   "source": [
    "gsearch5.fit(train[predictors],train[target])\n",
    "gsearch5.best_params_, gsearch5.best_score_"
   ]
  },
  {
   "cell_type": "code",
   "execution_count": 136,
   "id": "b303f573",
   "metadata": {},
   "outputs": [],
   "source": [
    "xgbt_regr = xgb.XGBRegressor(\n",
    "    learning_rate=0.01,\n",
    "    n_estimators=890,\n",
    "    max_depth=13,\n",
    "    min_child_weight=7,\n",
    "    gamma=0,\n",
    "    subsample=0.9,\n",
    "    colsample_bytree=0.9,\n",
    "    objective='reg:squarederror',\n",
    "    nthread=3,\n",
    "    scale_pos_weight=1,\n",
    "    reg_alpha=50,\n",
    "    reg_lambda=0.05,\n",
    "    seed=1\n",
    "    )"
   ]
  },
  {
   "cell_type": "code",
   "execution_count": 137,
   "id": "d62c3217",
   "metadata": {},
   "outputs": [],
   "source": [
    "xgbt_regr.fit(train[predictors],train[target])\n",
    "xgbt_pred=xgbt_regr.predict(test[predictors])"
   ]
  },
  {
   "cell_type": "code",
   "execution_count": 138,
   "id": "87c32af0",
   "metadata": {},
   "outputs": [
    {
     "data": {
      "text/plain": [
       "array([ 41.60661 , 198.37718 ,  13.011922, ..., 204.16077 ,  47.88999 ,\n",
       "        26.341387], dtype=float32)"
      ]
     },
     "execution_count": 138,
     "metadata": {},
     "output_type": "execute_result"
    }
   ],
   "source": [
    "xgbt_pred"
   ]
  },
  {
   "cell_type": "code",
   "execution_count": 139,
   "id": "773419a9",
   "metadata": {},
   "outputs": [
    {
     "data": {
      "text/plain": [
       "52.88686343503121"
      ]
     },
     "execution_count": 139,
     "metadata": {},
     "output_type": "execute_result"
    }
   ],
   "source": [
    "np.sqrt(np.mean((y_test-xgbt_pred)**2)) #tuned xgboost. it outperforms tuned RandomForest and SVM."
   ]
  }
 ],
 "metadata": {
  "kernelspec": {
   "display_name": "Python 3",
   "language": "python",
   "name": "python3"
  },
  "language_info": {
   "codemirror_mode": {
    "name": "ipython",
    "version": 3
   },
   "file_extension": ".py",
   "mimetype": "text/x-python",
   "name": "python",
   "nbconvert_exporter": "python",
   "pygments_lexer": "ipython3",
   "version": "3.8.8"
  }
 },
 "nbformat": 4,
 "nbformat_minor": 5
}
