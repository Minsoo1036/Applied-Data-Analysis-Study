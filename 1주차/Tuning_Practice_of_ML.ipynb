{
 "cells": [
  {
   "cell_type": "markdown",
   "id": "0af0d0a4",
   "metadata": {},
   "source": [
    "# Tuning Practice of ML (SVM, RF, XGBoost)"
   ]
  },
  {
   "cell_type": "code",
   "execution_count": 1,
   "id": "7b03bb3a",
   "metadata": {},
   "outputs": [],
   "source": [
    "import pandas as pd\n",
    "import numpy as np\n",
    "import seaborn as sns\n",
    "pd.set_option('display.max_rows',None)"
   ]
  },
  {
   "cell_type": "code",
   "execution_count": 2,
   "id": "4db8e417",
   "metadata": {},
   "outputs": [],
   "source": [
    "df=pd.read_csv(\"forestfires.csv\")"
   ]
  },
  {
   "cell_type": "code",
   "execution_count": 3,
   "id": "ef65e1eb",
   "metadata": {},
   "outputs": [
    {
     "data": {
      "text/html": [
       "<div>\n",
       "<style scoped>\n",
       "    .dataframe tbody tr th:only-of-type {\n",
       "        vertical-align: middle;\n",
       "    }\n",
       "\n",
       "    .dataframe tbody tr th {\n",
       "        vertical-align: top;\n",
       "    }\n",
       "\n",
       "    .dataframe thead th {\n",
       "        text-align: right;\n",
       "    }\n",
       "</style>\n",
       "<table border=\"1\" class=\"dataframe\">\n",
       "  <thead>\n",
       "    <tr style=\"text-align: right;\">\n",
       "      <th></th>\n",
       "      <th>X</th>\n",
       "      <th>Y</th>\n",
       "      <th>month</th>\n",
       "      <th>day</th>\n",
       "      <th>FFMC</th>\n",
       "      <th>DMC</th>\n",
       "      <th>DC</th>\n",
       "      <th>ISI</th>\n",
       "      <th>temp</th>\n",
       "      <th>RH</th>\n",
       "      <th>wind</th>\n",
       "      <th>rain</th>\n",
       "      <th>area</th>\n",
       "    </tr>\n",
       "  </thead>\n",
       "  <tbody>\n",
       "    <tr>\n",
       "      <th>0</th>\n",
       "      <td>7</td>\n",
       "      <td>5</td>\n",
       "      <td>mar</td>\n",
       "      <td>fri</td>\n",
       "      <td>86.2</td>\n",
       "      <td>26.2</td>\n",
       "      <td>94.3</td>\n",
       "      <td>5.1</td>\n",
       "      <td>8.2</td>\n",
       "      <td>51</td>\n",
       "      <td>6.7</td>\n",
       "      <td>0.0</td>\n",
       "      <td>0.0</td>\n",
       "    </tr>\n",
       "    <tr>\n",
       "      <th>1</th>\n",
       "      <td>7</td>\n",
       "      <td>4</td>\n",
       "      <td>oct</td>\n",
       "      <td>tue</td>\n",
       "      <td>90.6</td>\n",
       "      <td>35.4</td>\n",
       "      <td>669.1</td>\n",
       "      <td>6.7</td>\n",
       "      <td>18.0</td>\n",
       "      <td>33</td>\n",
       "      <td>0.9</td>\n",
       "      <td>0.0</td>\n",
       "      <td>0.0</td>\n",
       "    </tr>\n",
       "    <tr>\n",
       "      <th>2</th>\n",
       "      <td>7</td>\n",
       "      <td>4</td>\n",
       "      <td>oct</td>\n",
       "      <td>sat</td>\n",
       "      <td>90.6</td>\n",
       "      <td>43.7</td>\n",
       "      <td>686.9</td>\n",
       "      <td>6.7</td>\n",
       "      <td>14.6</td>\n",
       "      <td>33</td>\n",
       "      <td>1.3</td>\n",
       "      <td>0.0</td>\n",
       "      <td>0.0</td>\n",
       "    </tr>\n",
       "    <tr>\n",
       "      <th>3</th>\n",
       "      <td>8</td>\n",
       "      <td>6</td>\n",
       "      <td>mar</td>\n",
       "      <td>fri</td>\n",
       "      <td>91.7</td>\n",
       "      <td>33.3</td>\n",
       "      <td>77.5</td>\n",
       "      <td>9.0</td>\n",
       "      <td>8.3</td>\n",
       "      <td>97</td>\n",
       "      <td>4.0</td>\n",
       "      <td>0.2</td>\n",
       "      <td>0.0</td>\n",
       "    </tr>\n",
       "    <tr>\n",
       "      <th>4</th>\n",
       "      <td>8</td>\n",
       "      <td>6</td>\n",
       "      <td>mar</td>\n",
       "      <td>sun</td>\n",
       "      <td>89.3</td>\n",
       "      <td>51.3</td>\n",
       "      <td>102.2</td>\n",
       "      <td>9.6</td>\n",
       "      <td>11.4</td>\n",
       "      <td>99</td>\n",
       "      <td>1.8</td>\n",
       "      <td>0.0</td>\n",
       "      <td>0.0</td>\n",
       "    </tr>\n",
       "    <tr>\n",
       "      <th>5</th>\n",
       "      <td>8</td>\n",
       "      <td>6</td>\n",
       "      <td>aug</td>\n",
       "      <td>sun</td>\n",
       "      <td>92.3</td>\n",
       "      <td>85.3</td>\n",
       "      <td>488.0</td>\n",
       "      <td>14.7</td>\n",
       "      <td>22.2</td>\n",
       "      <td>29</td>\n",
       "      <td>5.4</td>\n",
       "      <td>0.0</td>\n",
       "      <td>0.0</td>\n",
       "    </tr>\n",
       "    <tr>\n",
       "      <th>6</th>\n",
       "      <td>8</td>\n",
       "      <td>6</td>\n",
       "      <td>aug</td>\n",
       "      <td>mon</td>\n",
       "      <td>92.3</td>\n",
       "      <td>88.9</td>\n",
       "      <td>495.6</td>\n",
       "      <td>8.5</td>\n",
       "      <td>24.1</td>\n",
       "      <td>27</td>\n",
       "      <td>3.1</td>\n",
       "      <td>0.0</td>\n",
       "      <td>0.0</td>\n",
       "    </tr>\n",
       "    <tr>\n",
       "      <th>7</th>\n",
       "      <td>8</td>\n",
       "      <td>6</td>\n",
       "      <td>aug</td>\n",
       "      <td>mon</td>\n",
       "      <td>91.5</td>\n",
       "      <td>145.4</td>\n",
       "      <td>608.2</td>\n",
       "      <td>10.7</td>\n",
       "      <td>8.0</td>\n",
       "      <td>86</td>\n",
       "      <td>2.2</td>\n",
       "      <td>0.0</td>\n",
       "      <td>0.0</td>\n",
       "    </tr>\n",
       "    <tr>\n",
       "      <th>8</th>\n",
       "      <td>8</td>\n",
       "      <td>6</td>\n",
       "      <td>sep</td>\n",
       "      <td>tue</td>\n",
       "      <td>91.0</td>\n",
       "      <td>129.5</td>\n",
       "      <td>692.6</td>\n",
       "      <td>7.0</td>\n",
       "      <td>13.1</td>\n",
       "      <td>63</td>\n",
       "      <td>5.4</td>\n",
       "      <td>0.0</td>\n",
       "      <td>0.0</td>\n",
       "    </tr>\n",
       "    <tr>\n",
       "      <th>9</th>\n",
       "      <td>7</td>\n",
       "      <td>5</td>\n",
       "      <td>sep</td>\n",
       "      <td>sat</td>\n",
       "      <td>92.5</td>\n",
       "      <td>88.0</td>\n",
       "      <td>698.6</td>\n",
       "      <td>7.1</td>\n",
       "      <td>22.8</td>\n",
       "      <td>40</td>\n",
       "      <td>4.0</td>\n",
       "      <td>0.0</td>\n",
       "      <td>0.0</td>\n",
       "    </tr>\n",
       "  </tbody>\n",
       "</table>\n",
       "</div>"
      ],
      "text/plain": [
       "   X  Y month  day  FFMC    DMC     DC   ISI  temp  RH  wind  rain  area\n",
       "0  7  5   mar  fri  86.2   26.2   94.3   5.1   8.2  51   6.7   0.0   0.0\n",
       "1  7  4   oct  tue  90.6   35.4  669.1   6.7  18.0  33   0.9   0.0   0.0\n",
       "2  7  4   oct  sat  90.6   43.7  686.9   6.7  14.6  33   1.3   0.0   0.0\n",
       "3  8  6   mar  fri  91.7   33.3   77.5   9.0   8.3  97   4.0   0.2   0.0\n",
       "4  8  6   mar  sun  89.3   51.3  102.2   9.6  11.4  99   1.8   0.0   0.0\n",
       "5  8  6   aug  sun  92.3   85.3  488.0  14.7  22.2  29   5.4   0.0   0.0\n",
       "6  8  6   aug  mon  92.3   88.9  495.6   8.5  24.1  27   3.1   0.0   0.0\n",
       "7  8  6   aug  mon  91.5  145.4  608.2  10.7   8.0  86   2.2   0.0   0.0\n",
       "8  8  6   sep  tue  91.0  129.5  692.6   7.0  13.1  63   5.4   0.0   0.0\n",
       "9  7  5   sep  sat  92.5   88.0  698.6   7.1  22.8  40   4.0   0.0   0.0"
      ]
     },
     "execution_count": 3,
     "metadata": {},
     "output_type": "execute_result"
    }
   ],
   "source": [
    "df.head(10)"
   ]
  },
  {
   "cell_type": "code",
   "execution_count": 4,
   "id": "4d67af86",
   "metadata": {},
   "outputs": [
    {
     "data": {
      "text/html": [
       "<div>\n",
       "<style scoped>\n",
       "    .dataframe tbody tr th:only-of-type {\n",
       "        vertical-align: middle;\n",
       "    }\n",
       "\n",
       "    .dataframe tbody tr th {\n",
       "        vertical-align: top;\n",
       "    }\n",
       "\n",
       "    .dataframe thead th {\n",
       "        text-align: right;\n",
       "    }\n",
       "</style>\n",
       "<table border=\"1\" class=\"dataframe\">\n",
       "  <thead>\n",
       "    <tr style=\"text-align: right;\">\n",
       "      <th></th>\n",
       "      <th>X</th>\n",
       "      <th>Y</th>\n",
       "      <th>FFMC</th>\n",
       "      <th>DMC</th>\n",
       "      <th>DC</th>\n",
       "      <th>ISI</th>\n",
       "      <th>temp</th>\n",
       "      <th>RH</th>\n",
       "      <th>wind</th>\n",
       "      <th>rain</th>\n",
       "      <th>area</th>\n",
       "    </tr>\n",
       "  </thead>\n",
       "  <tbody>\n",
       "    <tr>\n",
       "      <th>count</th>\n",
       "      <td>517.000000</td>\n",
       "      <td>517.000000</td>\n",
       "      <td>517.000000</td>\n",
       "      <td>517.000000</td>\n",
       "      <td>517.000000</td>\n",
       "      <td>517.000000</td>\n",
       "      <td>517.000000</td>\n",
       "      <td>517.000000</td>\n",
       "      <td>517.000000</td>\n",
       "      <td>517.000000</td>\n",
       "      <td>517.000000</td>\n",
       "    </tr>\n",
       "    <tr>\n",
       "      <th>mean</th>\n",
       "      <td>4.669246</td>\n",
       "      <td>4.299807</td>\n",
       "      <td>90.644681</td>\n",
       "      <td>110.872340</td>\n",
       "      <td>547.940039</td>\n",
       "      <td>9.021663</td>\n",
       "      <td>18.889168</td>\n",
       "      <td>44.288201</td>\n",
       "      <td>4.017602</td>\n",
       "      <td>0.021663</td>\n",
       "      <td>12.847292</td>\n",
       "    </tr>\n",
       "    <tr>\n",
       "      <th>std</th>\n",
       "      <td>2.313778</td>\n",
       "      <td>1.229900</td>\n",
       "      <td>5.520111</td>\n",
       "      <td>64.046482</td>\n",
       "      <td>248.066192</td>\n",
       "      <td>4.559477</td>\n",
       "      <td>5.806625</td>\n",
       "      <td>16.317469</td>\n",
       "      <td>1.791653</td>\n",
       "      <td>0.295959</td>\n",
       "      <td>63.655818</td>\n",
       "    </tr>\n",
       "    <tr>\n",
       "      <th>min</th>\n",
       "      <td>1.000000</td>\n",
       "      <td>2.000000</td>\n",
       "      <td>18.700000</td>\n",
       "      <td>1.100000</td>\n",
       "      <td>7.900000</td>\n",
       "      <td>0.000000</td>\n",
       "      <td>2.200000</td>\n",
       "      <td>15.000000</td>\n",
       "      <td>0.400000</td>\n",
       "      <td>0.000000</td>\n",
       "      <td>0.000000</td>\n",
       "    </tr>\n",
       "    <tr>\n",
       "      <th>25%</th>\n",
       "      <td>3.000000</td>\n",
       "      <td>4.000000</td>\n",
       "      <td>90.200000</td>\n",
       "      <td>68.600000</td>\n",
       "      <td>437.700000</td>\n",
       "      <td>6.500000</td>\n",
       "      <td>15.500000</td>\n",
       "      <td>33.000000</td>\n",
       "      <td>2.700000</td>\n",
       "      <td>0.000000</td>\n",
       "      <td>0.000000</td>\n",
       "    </tr>\n",
       "    <tr>\n",
       "      <th>50%</th>\n",
       "      <td>4.000000</td>\n",
       "      <td>4.000000</td>\n",
       "      <td>91.600000</td>\n",
       "      <td>108.300000</td>\n",
       "      <td>664.200000</td>\n",
       "      <td>8.400000</td>\n",
       "      <td>19.300000</td>\n",
       "      <td>42.000000</td>\n",
       "      <td>4.000000</td>\n",
       "      <td>0.000000</td>\n",
       "      <td>0.520000</td>\n",
       "    </tr>\n",
       "    <tr>\n",
       "      <th>75%</th>\n",
       "      <td>7.000000</td>\n",
       "      <td>5.000000</td>\n",
       "      <td>92.900000</td>\n",
       "      <td>142.400000</td>\n",
       "      <td>713.900000</td>\n",
       "      <td>10.800000</td>\n",
       "      <td>22.800000</td>\n",
       "      <td>53.000000</td>\n",
       "      <td>4.900000</td>\n",
       "      <td>0.000000</td>\n",
       "      <td>6.570000</td>\n",
       "    </tr>\n",
       "    <tr>\n",
       "      <th>max</th>\n",
       "      <td>9.000000</td>\n",
       "      <td>9.000000</td>\n",
       "      <td>96.200000</td>\n",
       "      <td>291.300000</td>\n",
       "      <td>860.600000</td>\n",
       "      <td>56.100000</td>\n",
       "      <td>33.300000</td>\n",
       "      <td>100.000000</td>\n",
       "      <td>9.400000</td>\n",
       "      <td>6.400000</td>\n",
       "      <td>1090.840000</td>\n",
       "    </tr>\n",
       "  </tbody>\n",
       "</table>\n",
       "</div>"
      ],
      "text/plain": [
       "                X           Y        FFMC         DMC          DC         ISI  \\\n",
       "count  517.000000  517.000000  517.000000  517.000000  517.000000  517.000000   \n",
       "mean     4.669246    4.299807   90.644681  110.872340  547.940039    9.021663   \n",
       "std      2.313778    1.229900    5.520111   64.046482  248.066192    4.559477   \n",
       "min      1.000000    2.000000   18.700000    1.100000    7.900000    0.000000   \n",
       "25%      3.000000    4.000000   90.200000   68.600000  437.700000    6.500000   \n",
       "50%      4.000000    4.000000   91.600000  108.300000  664.200000    8.400000   \n",
       "75%      7.000000    5.000000   92.900000  142.400000  713.900000   10.800000   \n",
       "max      9.000000    9.000000   96.200000  291.300000  860.600000   56.100000   \n",
       "\n",
       "             temp          RH        wind        rain         area  \n",
       "count  517.000000  517.000000  517.000000  517.000000   517.000000  \n",
       "mean    18.889168   44.288201    4.017602    0.021663    12.847292  \n",
       "std      5.806625   16.317469    1.791653    0.295959    63.655818  \n",
       "min      2.200000   15.000000    0.400000    0.000000     0.000000  \n",
       "25%     15.500000   33.000000    2.700000    0.000000     0.000000  \n",
       "50%     19.300000   42.000000    4.000000    0.000000     0.520000  \n",
       "75%     22.800000   53.000000    4.900000    0.000000     6.570000  \n",
       "max     33.300000  100.000000    9.400000    6.400000  1090.840000  "
      ]
     },
     "execution_count": 4,
     "metadata": {},
     "output_type": "execute_result"
    }
   ],
   "source": [
    "df.describe()"
   ]
  },
  {
   "cell_type": "code",
   "execution_count": 5,
   "id": "0f9db6fa",
   "metadata": {},
   "outputs": [],
   "source": [
    "cols=['X','Y','temp','RH','wind','rain','area']"
   ]
  },
  {
   "cell_type": "code",
   "execution_count": 6,
   "id": "2d1b6adf",
   "metadata": {},
   "outputs": [
    {
     "data": {
      "text/plain": [
       "array([[ 1.        ,  0.53954817, -0.05125826,  0.08522319,  0.01879782,\n",
       "         0.06538717,  0.0633853 ],\n",
       "       [ 0.53954817,  1.        , -0.02410308,  0.06222073, -0.02034085,\n",
       "         0.0332341 ,  0.04487323],\n",
       "       [-0.05125826, -0.02410308,  1.        , -0.52739034, -0.22711622,\n",
       "         0.06949055,  0.09784411],\n",
       "       [ 0.08522319,  0.06222073, -0.52739034,  1.        ,  0.06941007,\n",
       "         0.09975122, -0.07551856],\n",
       "       [ 0.01879782, -0.02034085, -0.22711622,  0.06941007,  1.        ,\n",
       "         0.06111888,  0.01231728],\n",
       "       [ 0.06538717,  0.0332341 ,  0.06949055,  0.09975122,  0.06111888,\n",
       "         1.        , -0.00736573],\n",
       "       [ 0.0633853 ,  0.04487323,  0.09784411, -0.07551856,  0.01231728,\n",
       "        -0.00736573,  1.        ]])"
      ]
     },
     "execution_count": 6,
     "metadata": {},
     "output_type": "execute_result"
    }
   ],
   "source": [
    "np.corrcoef(np.array(df[cols]).T)"
   ]
  },
  {
   "cell_type": "code",
   "execution_count": 7,
   "id": "92d74092",
   "metadata": {},
   "outputs": [
    {
     "data": {
      "text/plain": [
       "<AxesSubplot:xlabel='month', ylabel='area'>"
      ]
     },
     "execution_count": 7,
     "metadata": {},
     "output_type": "execute_result"
    },
    {
     "data": {
      "image/png": "[encoded data removed]",
      "text/plain": [
       "<Figure size 432x288 with 1 Axes>"
      ]
     },
     "metadata": {
      "needs_background": "light"
     },
     "output_type": "display_data"
    }
   ],
   "source": [
    "sns.barplot(x='month', y='area', data=df,order=[\"jan\",\"feb\",\"mar\",\"apr\",\"may\",\"jun\",\"jul\",\"aug\",\"sep\",\"oct\",\"nov\",\"dec\"])"
   ]
  },
  {
   "cell_type": "code",
   "execution_count": 8,
   "id": "f5382c3d",
   "metadata": {},
   "outputs": [
    {
     "data": {
      "text/plain": [
       "<AxesSubplot:xlabel='day', ylabel='area'>"
      ]
     },
     "execution_count": 8,
     "metadata": {},
     "output_type": "execute_result"
    },
    {
     "data": {
      "image/png": "[encoded data removed]",
      "text/plain": [
       "<Figure size 432x288 with 1 Axes>"
      ]
     },
     "metadata": {
      "needs_background": "light"
     },
     "output_type": "display_data"
    }
   ],
   "source": [
    "sns.barplot(x='day', y='area', data=df,order=['mon','tue','wed','thu','fri','sat','sun'])"
   ]
  },
  {
   "cell_type": "markdown",
   "id": "5e3143f3",
   "metadata": {},
   "source": [
    "## Modeling"
   ]
  },
  {
   "cell_type": "code",
   "execution_count": 9,
   "id": "f1567b72",
   "metadata": {},
   "outputs": [],
   "source": [
    "X,y = np.array(df[[\"X\",\"Y\",\"wind\",\"temp\",\"RH\",\"rain\"]]), np.array(df[\"area\"])"
   ]
  },
  {
   "cell_type": "code",
   "execution_count": 10,
   "id": "ebe7a2c9",
   "metadata": {},
   "outputs": [],
   "source": [
    "np.random.seed(1)\n",
    "train_idx=np.random.choice(517,414,replace=False)\n",
    "test_idx = np.array(list(set(range(517))-set(train_idx)))"
   ]
  },
  {
   "cell_type": "code",
   "execution_count": 11,
   "id": "6baf1b41",
   "metadata": {},
   "outputs": [],
   "source": [
    "X_train = X[train_idx,]\n",
    "y_train = y[train_idx,]\n",
    "\n",
    "X_test = X[test_idx,]\n",
    "y_test = y[test_idx,]"
   ]
  },
  {
   "cell_type": "code",
   "execution_count": 12,
   "id": "7c85ad85",
   "metadata": {},
   "outputs": [
    {
     "name": "stdout",
     "output_type": "stream",
     "text": [
      "(414, 6)\n",
      "(103, 6)\n",
      "(414,)\n",
      "(103,)\n"
     ]
    }
   ],
   "source": [
    "print(X_train.shape)\n",
    "print(X_test.shape)\n",
    "print(y_train.shape)\n",
    "print(y_test.shape)"
   ]
  },
  {
   "cell_type": "markdown",
   "id": "76e3a542",
   "metadata": {},
   "source": [
    "### 0. Base (mean of y_train)"
   ]
  },
  {
   "cell_type": "code",
   "execution_count": 13,
   "id": "d4adf044",
   "metadata": {},
   "outputs": [
    {
     "data": {
      "text/plain": [
       "39.590538800986764"
      ]
     },
     "execution_count": 13,
     "metadata": {},
     "output_type": "execute_result"
    }
   ],
   "source": [
    "np.sqrt(np.mean((y_test-np.mean(y_train))**2)) #base (y_mean)"
   ]
  },
  {
   "cell_type": "markdown",
   "id": "e49d24fe",
   "metadata": {},
   "source": [
    "### 1. Ordinary Least Squares"
   ]
  },
  {
   "cell_type": "code",
   "execution_count": 14,
   "id": "f0e36805",
   "metadata": {},
   "outputs": [],
   "source": [
    "from sklearn.linear_model import LinearRegression"
   ]
  },
  {
   "cell_type": "code",
   "execution_count": 15,
   "id": "90561a58",
   "metadata": {},
   "outputs": [
    {
     "data": {
      "text/plain": [
       "LinearRegression()"
      ]
     },
     "execution_count": 15,
     "metadata": {},
     "output_type": "execute_result"
    }
   ],
   "source": [
    "ols_regr = LinearRegression()\n",
    "ols_regr.fit(X_train,y_train)"
   ]
  },
  {
   "cell_type": "code",
   "execution_count": 16,
   "id": "b3e5f301",
   "metadata": {},
   "outputs": [],
   "source": [
    "ols_pred = ols_regr.predict(X_test)"
   ]
  },
  {
   "cell_type": "code",
   "execution_count": 17,
   "id": "e604d91d",
   "metadata": {},
   "outputs": [
    {
     "data": {
      "text/plain": [
       "array([12.5392075 ,  0.        ,  0.        , 22.86630035, 19.22258636,\n",
       "       12.18265086, 20.45069653, 23.55373232,  6.31037111,  9.97562266,\n",
       "        4.59648089, 14.81480927, 11.50656004, 11.56083497, 12.52963491,\n",
       "       15.82084389, 21.9901982 , 22.10018358,  0.        , 12.18023111,\n",
       "        7.43648839,  0.        , 11.40372353, 14.04203276, 10.26398739,\n",
       "        0.        ,  3.45775966,  5.17998072, 12.2606301 ,  1.8257471 ,\n",
       "       20.19338614, 15.29575398,  8.7835219 , 20.59061087,  8.59703137,\n",
       "        6.95391865,  9.65544782, 19.14369229,  1.60390458, 25.36587798,\n",
       "       13.68622693,  2.73784258, 14.36082101, 24.58711594,  2.16241137,\n",
       "        2.68220753, 12.01539354, 16.18952219, 20.60823898, 12.25075903,\n",
       "       12.25192308, 18.77709929, 14.86329477,  5.24675169,  5.24675169,\n",
       "        0.        ,  9.82027064,  0.        , 21.2646094 , 13.87930093,\n",
       "        2.09016542, 26.76906414, 18.95612088, 16.79304783, 22.3445618 ,\n",
       "       13.9818977 ,  6.9061387 , 17.65770751, 16.75444541,  6.99188351,\n",
       "       12.74623485,  2.26829832, 12.38600096, 21.03042209,  7.44209209,\n",
       "        1.19914229, 20.63482028, 13.86422969,  0.        , 13.16519849,\n",
       "       35.51243453, 16.57186993, 27.81125558, 18.14358413, 27.81324165,\n",
       "       11.58464551, 10.45516485, 10.98051504,  4.40112658,  1.62352499,\n",
       "        8.15445336, 12.01641928,  9.72652579,  9.30921756, 19.39949908,\n",
       "       30.36152354, 23.12760755,  7.43200813, 25.11189022,  4.94292894,\n",
       "       12.30138717, 14.20825058, 30.89118947])"
      ]
     },
     "execution_count": 17,
     "metadata": {},
     "output_type": "execute_result"
    }
   ],
   "source": [
    "ols_pred[ols_pred<0,]=0\n",
    "ols_pred"
   ]
  },
  {
   "cell_type": "code",
   "execution_count": 18,
   "id": "ddcd1c4e",
   "metadata": {},
   "outputs": [
    {
     "data": {
      "text/plain": [
       "39.968369858070886"
      ]
     },
     "execution_count": 18,
     "metadata": {},
     "output_type": "execute_result"
    }
   ],
   "source": [
    "np.sqrt(np.mean((y_test-ols_pred)**2))"
   ]
  },
  {
   "cell_type": "code",
   "execution_count": 19,
   "id": "65548c8e",
   "metadata": {},
   "outputs": [
    {
     "data": {
      "text/plain": [
       "array([ 1.45549894,  1.59831088,  1.41048415,  1.17445595, -0.17433927,\n",
       "       -3.40673666])"
      ]
     },
     "execution_count": 19,
     "metadata": {},
     "output_type": "execute_result"
    }
   ],
   "source": [
    "ols_regr.coef_"
   ]
  },
  {
   "cell_type": "markdown",
   "id": "ebe8b503",
   "metadata": {},
   "source": [
    "### 2. RandomForest"
   ]
  },
  {
   "cell_type": "code",
   "execution_count": 20,
   "id": "ea5d775a",
   "metadata": {},
   "outputs": [],
   "source": [
    "from sklearn.ensemble import RandomForestRegressor"
   ]
  },
  {
   "cell_type": "code",
   "execution_count": 21,
   "id": "1f359de8",
   "metadata": {},
   "outputs": [],
   "source": [
    "rf_regr = RandomForestRegressor(n_estimators=500, criterion='mse', max_features=2, n_jobs=-1, random_state=0)"
   ]
  },
  {
   "cell_type": "code",
   "execution_count": 22,
   "id": "7b11872d",
   "metadata": {},
   "outputs": [
    {
     "data": {
      "text/plain": [
       "RandomForestRegressor(max_features=2, n_estimators=500, n_jobs=-1,\n",
       "                      random_state=0)"
      ]
     },
     "execution_count": 22,
     "metadata": {},
     "output_type": "execute_result"
    }
   ],
   "source": [
    "rf_regr.fit(X_train,y_train)"
   ]
  },
  {
   "cell_type": "code",
   "execution_count": 23,
   "id": "8a655fce",
   "metadata": {},
   "outputs": [],
   "source": [
    "rf_pred = rf_regr.predict(X_test)"
   ]
  },
  {
   "cell_type": "code",
   "execution_count": 24,
   "id": "bdb05d12",
   "metadata": {},
   "outputs": [
    {
     "data": {
      "text/plain": [
       "array([  3.90768   ,  10.69790333,   2.86541   ,   6.43664   ,\n",
       "        10.10318   ,   8.3162    ,   4.95328   ,  70.89267   ,\n",
       "         8.16162   ,   4.66616   ,  14.71809   ,  14.20354   ,\n",
       "         9.54934667,   2.50818   ,   9.23508   ,   9.50886   ,\n",
       "        14.68166   ,  19.65586   ,  42.43626   ,  28.60506   ,\n",
       "        34.36      ,   4.916558  ,   3.61928   ,   4.40128   ,\n",
       "         2.66486   ,   3.551644  ,   7.75726   ,   3.0081    ,\n",
       "         6.51162667,   4.24146   ,   3.54404   ,  12.39542   ,\n",
       "         5.83446   ,  14.61362   ,   5.46874   ,  12.67034   ,\n",
       "         6.64664   ,   3.92684   ,   4.62076   ,  20.05369333,\n",
       "        18.14686   ,   2.87738   ,  13.54702   ,   4.04722   ,\n",
       "        21.9328    ,   2.82426   ,  45.43222   ,  15.49206   ,\n",
       "         3.62272   ,   7.98212   ,   6.50808   ,  13.91982   ,\n",
       "         9.91174   ,  20.01168   ,  20.01168   ,   6.72319333,\n",
       "         6.47068   ,   6.81910133,   2.47896   ,   9.51992   ,\n",
       "        13.3758    , 111.57491667,  12.43632   ,  11.74728   ,\n",
       "         8.35606   ,   6.95514   ,   6.59146   ,  12.74494   ,\n",
       "        12.35102   ,   4.393635  ,  21.54542   ,   5.26294333,\n",
       "        13.76262267,   9.7127    ,   3.92412333,   9.855056  ,\n",
       "         6.76496   ,   5.81353667,   1.78689233,   6.45210333,\n",
       "       134.64803257,  23.83028333,  28.624768  ,  10.36522667,\n",
       "        11.04355   ,  12.60838   ,  16.11602   ,   6.38212   ,\n",
       "         3.87059333,   5.46444   ,   7.09042667,  47.78814   ,\n",
       "         3.15264   ,   8.43105333,  12.42688   ,  42.52434   ,\n",
       "        10.2084    ,   2.57104   ,  12.02286   ,  10.801     ,\n",
       "         8.67864333,   3.86446   ,  26.954928  ])"
      ]
     },
     "execution_count": 24,
     "metadata": {},
     "output_type": "execute_result"
    }
   ],
   "source": [
    "rf_pred[rf_pred<0,]=0\n",
    "rf_pred"
   ]
  },
  {
   "cell_type": "code",
   "execution_count": 25,
   "id": "3e01c15f",
   "metadata": {},
   "outputs": [
    {
     "data": {
      "text/plain": [
       "44.306771067179525"
      ]
     },
     "execution_count": 25,
     "metadata": {},
     "output_type": "execute_result"
    }
   ],
   "source": [
    "np.sqrt(np.mean((y_test-rf_pred)**2))"
   ]
  },
  {
   "cell_type": "code",
   "execution_count": 26,
   "id": "f7506ae8",
   "metadata": {},
   "outputs": [],
   "source": [
    "# 튜닝\n",
    "\n",
    "param_grid = {'n_estimators':[500,1000,1500,2000],\n",
    "             'max_features':[1,2,3,4,5,6]}"
   ]
  },
  {
   "cell_type": "code",
   "execution_count": 27,
   "id": "24b5dcd5",
   "metadata": {},
   "outputs": [],
   "source": [
    "from sklearn.model_selection import GridSearchCV\n",
    "\n",
    "grid_search = GridSearchCV(rf_regr,param_grid,cv=5,scoring='neg_root_mean_squared_error')"
   ]
  },
  {
   "cell_type": "code",
   "execution_count": 28,
   "id": "dba3384b",
   "metadata": {},
   "outputs": [
    {
     "data": {
      "text/plain": [
       "GridSearchCV(cv=5,\n",
       "             estimator=RandomForestRegressor(max_features=2, n_estimators=500,\n",
       "                                             n_jobs=-1, random_state=0),\n",
       "             param_grid={'max_features': [1, 2, 3, 4, 5, 6],\n",
       "                         'n_estimators': [500, 1000, 1500, 2000]},\n",
       "             scoring='neg_root_mean_squared_error')"
      ]
     },
     "execution_count": 28,
     "metadata": {},
     "output_type": "execute_result"
    }
   ],
   "source": [
    "grid_search.fit(X_train,y_train)"
   ]
  },
  {
   "cell_type": "code",
   "execution_count": 29,
   "id": "c42528a6",
   "metadata": {},
   "outputs": [
    {
     "data": {
      "text/plain": [
       "{'max_features': 2, 'n_estimators': 1000}"
      ]
     },
     "execution_count": 29,
     "metadata": {},
     "output_type": "execute_result"
    }
   ],
   "source": [
    "grid_search.best_params_"
   ]
  },
  {
   "cell_type": "code",
   "execution_count": 30,
   "id": "938768c8",
   "metadata": {},
   "outputs": [
    {
     "data": {
      "text/plain": [
       "-60.06067653367994"
      ]
     },
     "execution_count": 30,
     "metadata": {},
     "output_type": "execute_result"
    }
   ],
   "source": [
    "grid_search.best_score_"
   ]
  },
  {
   "cell_type": "code",
   "execution_count": 31,
   "id": "f054206d",
   "metadata": {},
   "outputs": [
    {
     "data": {
      "text/html": [
       "<div>\n",
       "<style scoped>\n",
       "    .dataframe tbody tr th:only-of-type {\n",
       "        vertical-align: middle;\n",
       "    }\n",
       "\n",
       "    .dataframe tbody tr th {\n",
       "        vertical-align: top;\n",
       "    }\n",
       "\n",
       "    .dataframe thead th {\n",
       "        text-align: right;\n",
       "    }\n",
       "</style>\n",
       "<table border=\"1\" class=\"dataframe\">\n",
       "  <thead>\n",
       "    <tr style=\"text-align: right;\">\n",
       "      <th></th>\n",
       "      <th>mean_fit_time</th>\n",
       "      <th>std_fit_time</th>\n",
       "      <th>mean_score_time</th>\n",
       "      <th>std_score_time</th>\n",
       "      <th>param_max_features</th>\n",
       "      <th>param_n_estimators</th>\n",
       "      <th>params</th>\n",
       "      <th>split0_test_score</th>\n",
       "      <th>split1_test_score</th>\n",
       "      <th>split2_test_score</th>\n",
       "      <th>split3_test_score</th>\n",
       "      <th>split4_test_score</th>\n",
       "      <th>mean_test_score</th>\n",
       "      <th>std_test_score</th>\n",
       "      <th>rank_test_score</th>\n",
       "    </tr>\n",
       "  </thead>\n",
       "  <tbody>\n",
       "    <tr>\n",
       "      <th>0</th>\n",
       "      <td>1.785376</td>\n",
       "      <td>2.205785</td>\n",
       "      <td>0.097330</td>\n",
       "      <td>0.005124</td>\n",
       "      <td>1</td>\n",
       "      <td>500</td>\n",
       "      <td>{'max_features': 1, 'n_estimators': 500}</td>\n",
       "      <td>-80.701532</td>\n",
       "      <td>-120.974253</td>\n",
       "      <td>-28.971621</td>\n",
       "      <td>-41.860092</td>\n",
       "      <td>-34.929122</td>\n",
       "      <td>-61.487324</td>\n",
       "      <td>34.801488</td>\n",
       "      <td>22</td>\n",
       "    </tr>\n",
       "    <tr>\n",
       "      <th>1</th>\n",
       "      <td>1.185809</td>\n",
       "      <td>0.029650</td>\n",
       "      <td>0.196974</td>\n",
       "      <td>0.028571</td>\n",
       "      <td>1</td>\n",
       "      <td>1000</td>\n",
       "      <td>{'max_features': 1, 'n_estimators': 1000}</td>\n",
       "      <td>-80.521173</td>\n",
       "      <td>-120.992679</td>\n",
       "      <td>-28.525524</td>\n",
       "      <td>-40.812035</td>\n",
       "      <td>-34.876771</td>\n",
       "      <td>-61.145636</td>\n",
       "      <td>34.999029</td>\n",
       "      <td>14</td>\n",
       "    </tr>\n",
       "    <tr>\n",
       "      <th>2</th>\n",
       "      <td>1.898916</td>\n",
       "      <td>0.125490</td>\n",
       "      <td>0.298997</td>\n",
       "      <td>0.030896</td>\n",
       "      <td>1</td>\n",
       "      <td>1500</td>\n",
       "      <td>{'max_features': 1, 'n_estimators': 1500}</td>\n",
       "      <td>-80.614486</td>\n",
       "      <td>-120.989393</td>\n",
       "      <td>-28.556277</td>\n",
       "      <td>-40.950933</td>\n",
       "      <td>-35.346399</td>\n",
       "      <td>-61.291497</td>\n",
       "      <td>34.916179</td>\n",
       "      <td>16</td>\n",
       "    </tr>\n",
       "    <tr>\n",
       "      <th>3</th>\n",
       "      <td>2.490170</td>\n",
       "      <td>0.145652</td>\n",
       "      <td>0.366586</td>\n",
       "      <td>0.018738</td>\n",
       "      <td>1</td>\n",
       "      <td>2000</td>\n",
       "      <td>{'max_features': 1, 'n_estimators': 2000}</td>\n",
       "      <td>-80.527912</td>\n",
       "      <td>-120.980330</td>\n",
       "      <td>-28.795006</td>\n",
       "      <td>-40.603300</td>\n",
       "      <td>-35.731831</td>\n",
       "      <td>-61.327676</td>\n",
       "      <td>34.842818</td>\n",
       "      <td>17</td>\n",
       "    </tr>\n",
       "    <tr>\n",
       "      <th>4</th>\n",
       "      <td>0.702794</td>\n",
       "      <td>0.038537</td>\n",
       "      <td>0.095526</td>\n",
       "      <td>0.011222</td>\n",
       "      <td>2</td>\n",
       "      <td>500</td>\n",
       "      <td>{'max_features': 2, 'n_estimators': 500}</td>\n",
       "      <td>-79.956396</td>\n",
       "      <td>-121.186121</td>\n",
       "      <td>-29.287390</td>\n",
       "      <td>-34.928405</td>\n",
       "      <td>-35.299730</td>\n",
       "      <td>-60.131608</td>\n",
       "      <td>35.563648</td>\n",
       "      <td>3</td>\n",
       "    </tr>\n",
       "  </tbody>\n",
       "</table>\n",
       "</div>"
      ],
      "text/plain": [
       "   mean_fit_time  std_fit_time  mean_score_time  std_score_time  \\\n",
       "0       1.785376      2.205785         0.097330        0.005124   \n",
       "1       1.185809      0.029650         0.196974        0.028571   \n",
       "2       1.898916      0.125490         0.298997        0.030896   \n",
       "3       2.490170      0.145652         0.366586        0.018738   \n",
       "4       0.702794      0.038537         0.095526        0.011222   \n",
       "\n",
       "  param_max_features param_n_estimators  \\\n",
       "0                  1                500   \n",
       "1                  1               1000   \n",
       "2                  1               1500   \n",
       "3                  1               2000   \n",
       "4                  2                500   \n",
       "\n",
       "                                      params  split0_test_score  \\\n",
       "0   {'max_features': 1, 'n_estimators': 500}         -80.701532   \n",
       "1  {'max_features': 1, 'n_estimators': 1000}         -80.521173   \n",
       "2  {'max_features': 1, 'n_estimators': 1500}         -80.614486   \n",
       "3  {'max_features': 1, 'n_estimators': 2000}         -80.527912   \n",
       "4   {'max_features': 2, 'n_estimators': 500}         -79.956396   \n",
       "\n",
       "   split1_test_score  split2_test_score  split3_test_score  split4_test_score  \\\n",
       "0        -120.974253         -28.971621         -41.860092         -34.929122   \n",
       "1        -120.992679         -28.525524         -40.812035         -34.876771   \n",
       "2        -120.989393         -28.556277         -40.950933         -35.346399   \n",
       "3        -120.980330         -28.795006         -40.603300         -35.731831   \n",
       "4        -121.186121         -29.287390         -34.928405         -35.299730   \n",
       "\n",
       "   mean_test_score  std_test_score  rank_test_score  \n",
       "0       -61.487324       34.801488               22  \n",
       "1       -61.145636       34.999029               14  \n",
       "2       -61.291497       34.916179               16  \n",
       "3       -61.327676       34.842818               17  \n",
       "4       -60.131608       35.563648                3  "
      ]
     },
     "metadata": {},
     "output_type": "display_data"
    }
   ],
   "source": [
    "import pandas as pd\n",
    "results = pd.DataFrame(grid_search.cv_results_)\n",
    "display(results.head(5))"
   ]
  },
  {
   "cell_type": "code",
   "execution_count": 32,
   "id": "95ea1c87",
   "metadata": {},
   "outputs": [
    {
     "data": {
      "text/plain": [
       "<matplotlib.collections.PolyCollection at 0x1f972699760>"
      ]
     },
     "execution_count": 32,
     "metadata": {},
     "output_type": "execute_result"
    },
    {
     "data": {
      "image/png": "[encoded data removed]",
      "text/plain": [
       "<Figure size 432x288 with 1 Axes>"
      ]
     },
     "metadata": {
      "needs_background": "light"
     },
     "output_type": "display_data"
    }
   ],
   "source": [
    "import mglearn\n",
    "\n",
    "scores=np.array(results.mean_test_score).reshape(6,4)\n",
    "\n",
    "mglearn.tools.heatmap(scores,xlabel='n_estimators', xticklabels=param_grid['n_estimators'], ylabel='max_features',yticklabels=param_grid['max_features'],cmap='viridis')"
   ]
  },
  {
   "cell_type": "code",
   "execution_count": 33,
   "id": "2e9ee278",
   "metadata": {},
   "outputs": [],
   "source": [
    "rft_pred = grid_search.predict(X_test)"
   ]
  },
  {
   "cell_type": "code",
   "execution_count": 34,
   "id": "4c5fa2aa",
   "metadata": {},
   "outputs": [
    {
     "data": {
      "text/plain": [
       "array([  3.65525   ,  10.42159333,   2.79986333,   6.42975   ,\n",
       "         9.60544   ,   8.29722   ,   5.30477333,  72.75286833,\n",
       "         8.22702   ,   4.22794   ,  14.823275  ,  15.06821   ,\n",
       "         9.852065  ,   2.40903   ,   8.25121   ,   9.3284    ,\n",
       "        13.933594  ,  21.43822   ,  44.59116   ,  33.02769333,\n",
       "        35.79455   ,   5.32738133,   3.88799   ,   3.81706   ,\n",
       "         2.77329   ,   3.415742  ,   8.3404    ,   3.14898   ,\n",
       "         6.05816   ,   3.91856   ,   3.69501   ,  11.47985   ,\n",
       "         6.27289   ,  13.92114   ,   6.01153   ,  12.12865   ,\n",
       "         7.57917   ,   3.45125   ,   4.4906    ,  26.60305667,\n",
       "        19.14862   ,   2.44684   ,  12.97778   ,   4.10291467,\n",
       "        23.14547   ,   2.59013   ,  41.73864   ,  15.49178   ,\n",
       "         3.9669    ,   8.3752    ,   6.08548   ,  14.5168    ,\n",
       "         9.666016  ,  20.31607   ,  20.31607   ,   6.62225333,\n",
       "         8.10389   ,   7.36881067,   2.76798   ,   9.57288   ,\n",
       "        15.0139    , 117.78208833,  13.32312   ,  12.52075333,\n",
       "         8.13025   ,   6.94264   ,   7.15082   ,  12.714216  ,\n",
       "        12.31498   ,   4.8396375 ,  29.69609   ,   5.757045  ,\n",
       "        12.33310248,   9.768     ,   3.88306833,   9.82959633,\n",
       "         6.4351    ,   5.786255  ,   1.75793067,   6.44691167,\n",
       "       137.25609029,  24.44809667,  21.716108  ,  11.04379667,\n",
       "        12.37421667,  12.24028   ,  16.39828   ,   6.11966333,\n",
       "         3.73685667,   5.34636   ,   6.69109333,  57.75185   ,\n",
       "         2.98635   ,   8.83296333,  12.19465   ,  43.69520167,\n",
       "         9.97846   ,   2.33352   ,  13.95352   ,   9.58831   ,\n",
       "         8.61937167,   3.92811   ,  28.03076   ])"
      ]
     },
     "execution_count": 34,
     "metadata": {},
     "output_type": "execute_result"
    }
   ],
   "source": [
    "rft_pred[rft_pred<0,]=0\n",
    "rft_pred"
   ]
  },
  {
   "cell_type": "code",
   "execution_count": 35,
   "id": "e13b8009",
   "metadata": {},
   "outputs": [
    {
     "data": {
      "text/plain": [
       "44.70334439868336"
      ]
     },
     "execution_count": 35,
     "metadata": {},
     "output_type": "execute_result"
    }
   ],
   "source": [
    "np.sqrt(np.mean((y_test-rft_pred)**2))"
   ]
  },
  {
   "cell_type": "markdown",
   "id": "10d8285a",
   "metadata": {},
   "source": [
    "### 3. SVM (RBF kernel)"
   ]
  },
  {
   "cell_type": "code",
   "execution_count": 36,
   "id": "e3781594",
   "metadata": {},
   "outputs": [],
   "source": [
    "from sklearn.svm import SVR"
   ]
  },
  {
   "cell_type": "code",
   "execution_count": 37,
   "id": "dd9ab071",
   "metadata": {},
   "outputs": [],
   "source": [
    "#Implement normalization for svm\n",
    "Xn_train = X_train-np.min(X_train,axis=0)\n",
    "Xn_train = Xn_train/(np.max(X_train,axis=0)-np.min(X_train,axis=0))\n",
    "\n",
    "Xn_test = X_test-np.min(X_train,axis=0)\n",
    "Xn_test = Xn_test/(np.max(X_train,axis=0)-np.min(X_train,axis=0))"
   ]
  },
  {
   "cell_type": "code",
   "execution_count": 38,
   "id": "b6c2b4a0",
   "metadata": {},
   "outputs": [],
   "source": [
    "svm_regr = SVR(kernel='rbf',C=2**-3, gamma=2**3)"
   ]
  },
  {
   "cell_type": "code",
   "execution_count": 39,
   "id": "d1f77a6c",
   "metadata": {},
   "outputs": [
    {
     "data": {
      "text/plain": [
       "SVR(C=0.125, gamma=8)"
      ]
     },
     "execution_count": 39,
     "metadata": {},
     "output_type": "execute_result"
    }
   ],
   "source": [
    "svm_regr.fit(Xn_train,y_train)"
   ]
  },
  {
   "cell_type": "code",
   "execution_count": 40,
   "id": "1a13eb29",
   "metadata": {},
   "outputs": [],
   "source": [
    "svm_pred = svm_regr.predict(Xn_test)"
   ]
  },
  {
   "cell_type": "code",
   "execution_count": 41,
   "id": "962ed4cf",
   "metadata": {},
   "outputs": [
    {
     "data": {
      "text/plain": [
       "array([0.90471427, 1.00602932, 0.99647449, 1.01291886, 1.02323108,\n",
       "       1.27048332, 1.04433045, 0.84068559, 1.46917357, 0.45848201,\n",
       "       0.48819462, 1.16631598, 0.83380159, 0.39828356, 0.17726965,\n",
       "       0.52208216, 1.319635  , 1.10132128, 0.80306134, 1.02889471,\n",
       "       0.86352681, 0.80509149, 0.42560598, 0.19149432, 0.11516732,\n",
       "       0.57489639, 1.08233165, 0.65902943, 0.65101219, 0.46219589,\n",
       "       0.94801961, 0.53827712, 1.01594495, 1.70970706, 0.93465433,\n",
       "       1.01060593, 0.81613969, 0.94067204, 1.43387548, 1.00634123,\n",
       "       0.043831  , 0.49767695, 1.26745372, 1.17331104, 0.6832127 ,\n",
       "       1.10314363, 0.4269433 , 1.17748147, 0.83528857, 0.49987273,\n",
       "       0.63318211, 1.1056897 , 0.88846851, 1.22378682, 1.22378682,\n",
       "       1.18077761, 1.25967228, 1.17525482, 0.89315732, 1.4949497 ,\n",
       "       0.84450373, 0.9363435 , 0.27791448, 0.24150986, 0.74731424,\n",
       "       0.93280848, 0.35807908, 0.95535757, 0.37362109, 0.68846243,\n",
       "       0.20696603, 0.2785115 , 1.483808  , 1.21817165, 0.73306865,\n",
       "       1.52390135, 1.44718496, 0.57448857, 0.55975075, 0.95931424,\n",
       "       1.29542134, 1.23519244, 1.06535731, 1.03962766, 1.43701858,\n",
       "       0.90602426, 1.23280591, 1.14482546, 0.34702901, 0.68376973,\n",
       "       0.9208339 , 0.71414788, 0.1445763 , 1.04049668, 1.080916  ,\n",
       "       1.52192588, 1.12073553, 0.69363251, 1.47041092, 1.05649735,\n",
       "       0.855668  , 0.99309501, 1.22490341])"
      ]
     },
     "execution_count": 41,
     "metadata": {},
     "output_type": "execute_result"
    }
   ],
   "source": [
    "svm_pred[svm_pred<0,]=0\n",
    "svm_pred"
   ]
  },
  {
   "cell_type": "code",
   "execution_count": 42,
   "id": "a3c4e0ce",
   "metadata": {},
   "outputs": [
    {
     "data": {
      "text/plain": [
       "40.900412505947735"
      ]
     },
     "execution_count": 42,
     "metadata": {},
     "output_type": "execute_result"
    }
   ],
   "source": [
    "np.sqrt(np.mean((y_test-svm_pred)**2))"
   ]
  },
  {
   "cell_type": "code",
   "execution_count": 43,
   "id": "9bce37ee",
   "metadata": {},
   "outputs": [],
   "source": [
    "# 튜닝\n",
    "\n",
    "param_grid = {'C':[2**4.75,2**5,2**5.25,2**5.5,2**5.75],\n",
    "             'gamma':[2**6.25,2**6.5,2**6.75,2**7,2**7.25]} #coarse tuning -> fine tuning"
   ]
  },
  {
   "cell_type": "code",
   "execution_count": 67,
   "id": "94f74d9e",
   "metadata": {},
   "outputs": [],
   "source": [
    "param_grid_visual = {'C':list(np.round(np.array([2**4.75,2**5,2**5.25,2**5.5,2**5.75]),3)),\n",
    "             'gamma':list(np.round(np.array([2**6.25,2**6.5,2**6.75,2**7,2**7.25]),3))} #for visualization later"
   ]
  },
  {
   "cell_type": "code",
   "execution_count": 44,
   "id": "922974c9",
   "metadata": {},
   "outputs": [],
   "source": [
    "from sklearn.model_selection import GridSearchCV\n",
    "\n",
    "grid_search = GridSearchCV(svm_regr,param_grid,cv=5,scoring='neg_root_mean_squared_error')"
   ]
  },
  {
   "cell_type": "code",
   "execution_count": 45,
   "id": "d79bfdc0",
   "metadata": {},
   "outputs": [
    {
     "data": {
      "text/plain": [
       "GridSearchCV(cv=5, estimator=SVR(C=0.125, gamma=8),\n",
       "             param_grid={'C': [26.908685288118864, 32, 38.05462768008707,\n",
       "                               45.254833995939045, 53.81737057623773],\n",
       "                         'gamma': [76.10925536017415, 90.50966799187809,\n",
       "                                   107.63474115247546, 128,\n",
       "                                   152.2185107203483]},\n",
       "             scoring='neg_root_mean_squared_error')"
      ]
     },
     "execution_count": 45,
     "metadata": {},
     "output_type": "execute_result"
    }
   ],
   "source": [
    "grid_search.fit(Xn_train,y_train)"
   ]
  },
  {
   "cell_type": "code",
   "execution_count": 46,
   "id": "5959843f",
   "metadata": {},
   "outputs": [
    {
     "data": {
      "text/plain": [
       "{'C': 38.05462768008707, 'gamma': 76.10925536017415}"
      ]
     },
     "execution_count": 46,
     "metadata": {},
     "output_type": "execute_result"
    }
   ],
   "source": [
    "grid_search.best_params_"
   ]
  },
  {
   "cell_type": "code",
   "execution_count": 48,
   "id": "709da0eb",
   "metadata": {},
   "outputs": [
    {
     "data": {
      "text/html": [
       "<div>\n",
       "<style scoped>\n",
       "    .dataframe tbody tr th:only-of-type {\n",
       "        vertical-align: middle;\n",
       "    }\n",
       "\n",
       "    .dataframe tbody tr th {\n",
       "        vertical-align: top;\n",
       "    }\n",
       "\n",
       "    .dataframe thead th {\n",
       "        text-align: right;\n",
       "    }\n",
       "</style>\n",
       "<table border=\"1\" class=\"dataframe\">\n",
       "  <thead>\n",
       "    <tr style=\"text-align: right;\">\n",
       "      <th></th>\n",
       "      <th>mean_fit_time</th>\n",
       "      <th>std_fit_time</th>\n",
       "      <th>mean_score_time</th>\n",
       "      <th>std_score_time</th>\n",
       "      <th>param_C</th>\n",
       "      <th>param_gamma</th>\n",
       "      <th>params</th>\n",
       "      <th>split0_test_score</th>\n",
       "      <th>split1_test_score</th>\n",
       "      <th>split2_test_score</th>\n",
       "      <th>split3_test_score</th>\n",
       "      <th>split4_test_score</th>\n",
       "      <th>mean_test_score</th>\n",
       "      <th>std_test_score</th>\n",
       "      <th>rank_test_score</th>\n",
       "    </tr>\n",
       "  </thead>\n",
       "  <tbody>\n",
       "    <tr>\n",
       "      <th>0</th>\n",
       "      <td>0.018988</td>\n",
       "      <td>0.002528</td>\n",
       "      <td>0.005002</td>\n",
       "      <td>1.094442e-03</td>\n",
       "      <td>26.908685</td>\n",
       "      <td>76.109255</td>\n",
       "      <td>{'C': 26.908685288118864, 'gamma': 76.10925536...</td>\n",
       "      <td>-85.202148</td>\n",
       "      <td>-120.426979</td>\n",
       "      <td>-26.820995</td>\n",
       "      <td>-24.048597</td>\n",
       "      <td>-23.288857</td>\n",
       "      <td>-55.957515</td>\n",
       "      <td>39.864564</td>\n",
       "      <td>16</td>\n",
       "    </tr>\n",
       "    <tr>\n",
       "      <th>1</th>\n",
       "      <td>0.019584</td>\n",
       "      <td>0.000486</td>\n",
       "      <td>0.004602</td>\n",
       "      <td>4.848425e-04</td>\n",
       "      <td>26.908685</td>\n",
       "      <td>90.509668</td>\n",
       "      <td>{'C': 26.908685288118864, 'gamma': 90.50966799...</td>\n",
       "      <td>-85.321729</td>\n",
       "      <td>-120.386541</td>\n",
       "      <td>-26.850596</td>\n",
       "      <td>-23.983633</td>\n",
       "      <td>-23.270146</td>\n",
       "      <td>-55.962529</td>\n",
       "      <td>39.878220</td>\n",
       "      <td>18</td>\n",
       "    </tr>\n",
       "    <tr>\n",
       "      <th>2</th>\n",
       "      <td>0.021987</td>\n",
       "      <td>0.000632</td>\n",
       "      <td>0.003998</td>\n",
       "      <td>5.840039e-07</td>\n",
       "      <td>26.908685</td>\n",
       "      <td>107.634741</td>\n",
       "      <td>{'C': 26.908685288118864, 'gamma': 107.6347411...</td>\n",
       "      <td>-85.429978</td>\n",
       "      <td>-120.343093</td>\n",
       "      <td>-26.897300</td>\n",
       "      <td>-23.913669</td>\n",
       "      <td>-23.258896</td>\n",
       "      <td>-55.968587</td>\n",
       "      <td>39.886418</td>\n",
       "      <td>19</td>\n",
       "    </tr>\n",
       "    <tr>\n",
       "      <th>3</th>\n",
       "      <td>0.024178</td>\n",
       "      <td>0.000395</td>\n",
       "      <td>0.004402</td>\n",
       "      <td>4.945157e-04</td>\n",
       "      <td>26.908685</td>\n",
       "      <td>128</td>\n",
       "      <td>{'C': 26.908685288118864, 'gamma': 128}</td>\n",
       "      <td>-85.519433</td>\n",
       "      <td>-120.291202</td>\n",
       "      <td>-26.945169</td>\n",
       "      <td>-23.843551</td>\n",
       "      <td>-23.247859</td>\n",
       "      <td>-55.969443</td>\n",
       "      <td>39.889031</td>\n",
       "      <td>20</td>\n",
       "    </tr>\n",
       "    <tr>\n",
       "      <th>4</th>\n",
       "      <td>0.032376</td>\n",
       "      <td>0.006212</td>\n",
       "      <td>0.005602</td>\n",
       "      <td>1.750374e-03</td>\n",
       "      <td>26.908685</td>\n",
       "      <td>152.218511</td>\n",
       "      <td>{'C': 26.908685288118864, 'gamma': 152.2185107...</td>\n",
       "      <td>-85.586588</td>\n",
       "      <td>-120.234170</td>\n",
       "      <td>-26.982438</td>\n",
       "      <td>-23.777792</td>\n",
       "      <td>-23.231358</td>\n",
       "      <td>-55.962469</td>\n",
       "      <td>39.888498</td>\n",
       "      <td>17</td>\n",
       "    </tr>\n",
       "  </tbody>\n",
       "</table>\n",
       "</div>"
      ],
      "text/plain": [
       "   mean_fit_time  std_fit_time  mean_score_time  std_score_time    param_C  \\\n",
       "0       0.018988      0.002528         0.005002    1.094442e-03  26.908685   \n",
       "1       0.019584      0.000486         0.004602    4.848425e-04  26.908685   \n",
       "2       0.021987      0.000632         0.003998    5.840039e-07  26.908685   \n",
       "3       0.024178      0.000395         0.004402    4.945157e-04  26.908685   \n",
       "4       0.032376      0.006212         0.005602    1.750374e-03  26.908685   \n",
       "\n",
       "  param_gamma                                             params  \\\n",
       "0   76.109255  {'C': 26.908685288118864, 'gamma': 76.10925536...   \n",
       "1   90.509668  {'C': 26.908685288118864, 'gamma': 90.50966799...   \n",
       "2  107.634741  {'C': 26.908685288118864, 'gamma': 107.6347411...   \n",
       "3         128            {'C': 26.908685288118864, 'gamma': 128}   \n",
       "4  152.218511  {'C': 26.908685288118864, 'gamma': 152.2185107...   \n",
       "\n",
       "   split0_test_score  split1_test_score  split2_test_score  split3_test_score  \\\n",
       "0         -85.202148        -120.426979         -26.820995         -24.048597   \n",
       "1         -85.321729        -120.386541         -26.850596         -23.983633   \n",
       "2         -85.429978        -120.343093         -26.897300         -23.913669   \n",
       "3         -85.519433        -120.291202         -26.945169         -23.843551   \n",
       "4         -85.586588        -120.234170         -26.982438         -23.777792   \n",
       "\n",
       "   split4_test_score  mean_test_score  std_test_score  rank_test_score  \n",
       "0         -23.288857       -55.957515       39.864564               16  \n",
       "1         -23.270146       -55.962529       39.878220               18  \n",
       "2         -23.258896       -55.968587       39.886418               19  \n",
       "3         -23.247859       -55.969443       39.889031               20  \n",
       "4         -23.231358       -55.962469       39.888498               17  "
      ]
     },
     "metadata": {},
     "output_type": "display_data"
    }
   ],
   "source": [
    "import pandas as pd\n",
    "results = pd.DataFrame(grid_search.cv_results_)\n",
    "display(results.head(5))"
   ]
  },
  {
   "cell_type": "code",
   "execution_count": 68,
   "id": "8f802d62",
   "metadata": {},
   "outputs": [
    {
     "data": {
      "text/plain": [
       "<matplotlib.collections.PolyCollection at 0x1f96d346970>"
      ]
     },
     "execution_count": 68,
     "metadata": {},
     "output_type": "execute_result"
    },
    {
     "data": {
      "image/png": "[encoded data removed]",
      "text/plain": [
       "<Figure size 720x720 with 1 Axes>"
      ]
     },
     "metadata": {
      "needs_background": "light"
     },
     "output_type": "display_data"
    }
   ],
   "source": [
    "import mglearn\n",
    "\n",
    "%matplotlib inline\n",
    "import matplotlib.pylab as plt\n",
    "\n",
    "plt.rcParams[\"figure.figsize\"] = (10,10)\n",
    "plt.rcParams['lines.linewidth'] = 2\n",
    "plt.rcParams['lines.color'] = 'r'\n",
    "plt.rcParams['axes.grid'] = True \n",
    "\n",
    "scores=np.array(results.mean_test_score).reshape(5,5)\n",
    "\n",
    "mglearn.tools.heatmap(scores,xlabel='gamma', xticklabels=param_grid_visual['gamma'], ylabel='C',yticklabels=param_grid_visual['C'],cmap='viridis')"
   ]
  },
  {
   "cell_type": "code",
   "execution_count": 69,
   "id": "d5aa1afe",
   "metadata": {},
   "outputs": [],
   "source": [
    "svmt_pred = grid_search.predict(Xn_test)"
   ]
  },
  {
   "cell_type": "code",
   "execution_count": 70,
   "id": "b76404a9",
   "metadata": {},
   "outputs": [
    {
     "data": {
      "text/plain": [
       "array([3.89955616e+00, 6.31029333e+00, 5.99503626e+00, 3.69855942e+00,\n",
       "       2.02105296e+01, 7.49786266e+00, 1.58958275e+00, 5.07116571e+00,\n",
       "       8.86583951e+00, 2.95705703e+00, 8.58271393e+00, 9.91036840e+00,\n",
       "       0.00000000e+00, 3.78722165e+00, 0.00000000e+00, 1.86399195e+00,\n",
       "       5.91644605e+00, 3.27243576e+00, 7.68730729e+00, 5.06910328e+00,\n",
       "       7.45941009e+00, 6.14081042e+00, 3.94793706e+00, 4.80611517e+00,\n",
       "       0.00000000e+00, 5.93558978e+00, 6.22173706e+00, 5.95241675e+00,\n",
       "       5.31547730e+00, 4.39806829e+00, 3.21121189e+00, 4.24324809e+00,\n",
       "       3.25386528e+00, 3.21614789e+00, 4.71487066e+00, 4.37246684e+00,\n",
       "       8.15756958e+00, 2.11935903e+00, 4.51006118e+00, 5.25831498e+00,\n",
       "       2.85599381e+01, 1.47472620e+00, 6.27904163e+00, 4.23723053e-02,\n",
       "       2.05230399e+00, 5.93140477e+00, 2.02615152e+01, 6.60632687e+00,\n",
       "       8.55719189e+00, 2.21914946e+00, 5.38660503e+00, 7.10055729e+00,\n",
       "       1.23593592e+01, 2.19296973e+01, 2.19296973e+01, 5.97377820e+00,\n",
       "       6.36515139e+00, 6.28335577e+00, 2.58007763e-01, 0.00000000e+00,\n",
       "       3.83456889e+00, 6.61445145e+00, 4.90309925e+00, 1.72311005e+01,\n",
       "       5.18486263e+00, 3.49859658e+00, 1.25400444e+01, 1.43940212e-02,\n",
       "       1.31598700e+01, 3.47779872e+00, 7.36998386e+00, 7.36954083e+00,\n",
       "       2.38899456e+01, 1.14109203e+01, 4.59445922e+00, 6.09969533e+00,\n",
       "       2.70468602e+00, 5.45840585e+00, 5.74402876e+00, 1.83523384e+00,\n",
       "       7.82052676e+00, 5.84098356e+00, 7.67853784e+00, 2.08273626e+00,\n",
       "       4.33659605e+00, 1.80649711e+01, 1.72090981e+01, 9.02914687e+00,\n",
       "       1.08224961e+01, 5.50202474e+00, 7.26108503e+00, 1.97843819e+01,\n",
       "       4.78511095e+00, 6.13328163e+00, 8.61984332e+00, 5.43944753e+00,\n",
       "       6.95863804e+00, 2.74574478e+00, 1.28913702e+01, 5.24304313e+00,\n",
       "       1.27945336e+00, 6.23215346e+00, 1.99239875e+00])"
      ]
     },
     "execution_count": 70,
     "metadata": {},
     "output_type": "execute_result"
    }
   ],
   "source": [
    "svmt_pred[svmt_pred<0,]=0\n",
    "svmt_pred"
   ]
  },
  {
   "cell_type": "code",
   "execution_count": 71,
   "id": "c2f73607",
   "metadata": {},
   "outputs": [
    {
     "data": {
      "text/plain": [
       "40.425152310564165"
      ]
     },
     "execution_count": 71,
     "metadata": {},
     "output_type": "execute_result"
    }
   ],
   "source": [
    "np.sqrt(np.mean((y_test-svmt_pred)**2))"
   ]
  },
  {
   "cell_type": "markdown",
   "id": "ab617beb",
   "metadata": {},
   "source": [
    "### 4. XGBoost"
   ]
  },
  {
   "cell_type": "code",
   "execution_count": 73,
   "id": "d19019be",
   "metadata": {},
   "outputs": [
    {
     "name": "stdout",
     "output_type": "stream",
     "text": [
      "Collecting xgboost\n",
      "  Downloading xgboost-1.5.1-py3-none-win_amd64.whl (106.6 MB)\n",
      "Requirement already satisfied: numpy in c:\\users\\key10\\anaconda3\\lib\\site-packages (from xgboost) (1.20.1)\n",
      "Requirement already satisfied: scipy in c:\\users\\key10\\anaconda3\\lib\\site-packages (from xgboost) (1.6.2)\n",
      "Installing collected packages: xgboost\n",
      "Successfully installed xgboost-1.5.1\n"
     ]
    }
   ],
   "source": [
    "!pip install xgboost"
   ]
  },
  {
   "cell_type": "code",
   "execution_count": 74,
   "id": "374bdffe",
   "metadata": {},
   "outputs": [],
   "source": [
    "#Import libraries:\n",
    "import pandas as pd\n",
    "import numpy as np\n",
    "import xgboost as xgb\n",
    "from xgboost.sklearn import XGBClassifier\n",
    "from sklearn.model_selection import train_test_split\n",
    "from sklearn import metrics   #Additional scklearn functions\n",
    "\n",
    "import matplotlib.pylab as plt\n",
    "%matplotlib inline\n",
    "from matplotlib.pylab import rcParams\n",
    "rcParams['figure.figsize'] = 12, 4"
   ]
  },
  {
   "cell_type": "code",
   "execution_count": 75,
   "id": "d7305ca9",
   "metadata": {},
   "outputs": [],
   "source": [
    "def modelfit(alg, dtrain, predictors,useTrainCV=True, cv_folds=5, early_stopping_rounds=50): #find the best n_estimators\n",
    "    \n",
    "    if useTrainCV:\n",
    "        xgb_param = alg.get_xgb_params()\n",
    "        xgtrain = xgb.DMatrix(dtrain[predictors].values, label=dtrain[target].values)\n",
    "        cvresult = xgb.cv(xgb_param, xgtrain, num_boost_round=alg.get_params()['n_estimators'], nfold=cv_folds,\n",
    "            metrics='rmse', early_stopping_rounds=early_stopping_rounds)\n",
    "        alg.set_params(n_estimators=cvresult.shape[0])\n",
    "    \n",
    "    #print the best n_estimators\n",
    "    print(\"n_estimators:\", cvresult.shape[0])"
   ]
  },
  {
   "cell_type": "code",
   "execution_count": 76,
   "id": "ff6174bb",
   "metadata": {},
   "outputs": [],
   "source": [
    "import xgboost as xgb \n",
    "from xgboost.sklearn import XGBRegressor\n",
    "xgb_regr = xgb.XGBRegressor( #just arbitrary xgboost\n",
    "    learning_rate=0.1,\n",
    "    n_estimators=1000,\n",
    "    max_depth=5,\n",
    "    min_child_weight=1,\n",
    "    gamma=0,\n",
    "    subsample=0.8,\n",
    "    colsample_bytree=0.8,\n",
    "    objective='reg:squarederror',\n",
    "    nthread=3,\n",
    "    scale_pos_weight=1,\n",
    "    seed=1\n",
    "    )"
   ]
  },
  {
   "cell_type": "code",
   "execution_count": 79,
   "id": "ec649f60",
   "metadata": {},
   "outputs": [
    {
     "name": "stdout",
     "output_type": "stream",
     "text": [
      "   X  Y month  day  FFMC    DMC     DC   ISI  temp  RH  wind  rain   area\n",
      "0  2  2   aug  tue  92.1  152.6  658.2  14.3  21.8  56   3.1   0.0   0.52\n",
      "1  6  5   aug  sat  90.2   96.9  624.2   8.9  14.7  59   5.8   0.0   0.00\n",
      "2  4  6   sep  thu  93.7   80.9  685.2  17.9  17.6  42   3.1   0.0   0.00\n",
      "3  3  4   sep  fri  93.3  141.2  713.9  13.9  18.6  49   3.6   0.0  35.88\n",
      "4  7  4   sep  wed  90.1   82.9  735.7   6.2  15.4  57   4.5   0.0  37.71\n"
     ]
    }
   ],
   "source": [
    "#make new format of train set for xgboost\n",
    "train=df.iloc[train_idx,]\n",
    "train.reset_index(drop=True,inplace=True)\n",
    "print(train.head())"
   ]
  },
  {
   "cell_type": "code",
   "execution_count": 80,
   "id": "11c353b1",
   "metadata": {},
   "outputs": [
    {
     "name": "stdout",
     "output_type": "stream",
     "text": [
      "   X  Y month  day  FFMC    DMC     DC   ISI  temp  RH  wind  rain  area\n",
      "0  7  4   oct  tue  90.6   35.4  669.1   6.7  18.0  33   0.9   0.0   0.0\n",
      "1  8  6   mar  fri  91.7   33.3   77.5   9.0   8.3  97   4.0   0.2   0.0\n",
      "2  8  6   aug  mon  91.5  145.4  608.2  10.7   8.0  86   2.2   0.0   0.0\n",
      "3  6  5   sep  fri  93.3  141.2  713.9  13.9  22.9  44   5.4   0.0   0.0\n",
      "4  7  4   jun  sun  94.3   96.3  200.0  56.1  21.0  44   4.5   0.0   0.0\n"
     ]
    }
   ],
   "source": [
    "#make new format of test set for xgboost\n",
    "test=df.iloc[test_idx,]\n",
    "test.reset_index(drop=True,inplace=True)\n",
    "print(test.head())"
   ]
  },
  {
   "cell_type": "code",
   "execution_count": 81,
   "id": "ab25faf1",
   "metadata": {},
   "outputs": [],
   "source": [
    "target = 'area'\n",
    "predictors = [\"X\",\"Y\",\"wind\",\"temp\",\"RH\",\"rain\"]"
   ]
  },
  {
   "cell_type": "code",
   "execution_count": 82,
   "id": "e4ab9bc9",
   "metadata": {},
   "outputs": [],
   "source": [
    "xgb_regr.fit(train[predictors],train[target])\n",
    "xgb_pred=xgb_regr.predict(test[predictors])"
   ]
  },
  {
   "cell_type": "code",
   "execution_count": 83,
   "id": "b032efee",
   "metadata": {},
   "outputs": [
    {
     "data": {
      "text/plain": [
       "94.73871699024137"
      ]
     },
     "execution_count": 83,
     "metadata": {},
     "output_type": "execute_result"
    }
   ],
   "source": [
    "np.sqrt(np.mean((y_test-xgb_pred)**2)) #not tuned xgboost"
   ]
  },
  {
   "cell_type": "code",
   "execution_count": 84,
   "id": "2a7c037c",
   "metadata": {},
   "outputs": [
    {
     "name": "stdout",
     "output_type": "stream",
     "text": [
      "n_estimators: 1\n"
     ]
    }
   ],
   "source": [
    "# find the best n_estimators given other parameters are fixed\n",
    "modelfit(xgb_regr,train,predictors) # 1 is too small, we can increase the learning_rate"
   ]
  },
  {
   "cell_type": "code",
   "execution_count": 85,
   "id": "0c1431ae",
   "metadata": {},
   "outputs": [],
   "source": [
    "import xgboost as xgb\n",
    "from xgboost.sklearn import XGBRegressor\n",
    "xgb1_regr = xgb.XGBRegressor(\n",
    "    learning_rate=0.01,\n",
    "    n_estimators=1000,\n",
    "    max_depth=5,\n",
    "    min_child_weight=1,\n",
    "    gamma=0,\n",
    "    subsample=0.8,\n",
    "    colsample_bytree=0.8,\n",
    "    objective='reg:squarederror',\n",
    "    nthread=3,\n",
    "    scale_pos_weight=1,\n",
    "    seed=1\n",
    "    )"
   ]
  },
  {
   "cell_type": "code",
   "execution_count": 86,
   "id": "6e9f1a5f",
   "metadata": {},
   "outputs": [
    {
     "name": "stdout",
     "output_type": "stream",
     "text": [
      "n_estimators: 37\n"
     ]
    }
   ],
   "source": [
    "modelfit(xgb1_regr,train,predictors) #ok. we select this n_estimators."
   ]
  },
  {
   "cell_type": "markdown",
   "id": "343db419",
   "metadata": {},
   "source": [
    "Choose the parameters in the order of (max_depth,min_child_weight) -> (gamma) -> (n_estimators) -> (subsample,colsample_bytree) -> (reg_alpha,reg_lambda) -> (n_estimators)  ((( optional : -> (learning_rate, n_estimators) ))) "
   ]
  },
  {
   "cell_type": "code",
   "execution_count": 87,
   "id": "4926f53b",
   "metadata": {},
   "outputs": [],
   "source": [
    "param_test1={\n",
    "    'max_depth':range(3,10,2),\n",
    "    'min_child_weight':range(1,6,2)\n",
    "}\n",
    "\n",
    "gsearch1 = GridSearchCV(estimator=XGBRegressor(learning_rate=0.01, n_estimators=37, max_depth=5, min_child_weight=1,\n",
    "                                              gamma=0, subsample=0.8, colsample_bytree=0.8,\n",
    "                                              objective='reg:squarederror', nthread=3, scale_pos_weight=1, seed=1),\n",
    "                       param_grid = param_test1, scoring='neg_root_mean_squared_error', n_jobs=3, cv=5)"
   ]
  },
  {
   "cell_type": "code",
   "execution_count": 88,
   "id": "4523ca06",
   "metadata": {},
   "outputs": [
    {
     "data": {
      "text/plain": [
       "({'max_depth': 7, 'min_child_weight': 5}, -56.02301483434967)"
      ]
     },
     "execution_count": 88,
     "metadata": {},
     "output_type": "execute_result"
    }
   ],
   "source": [
    "gsearch1.fit(train[predictors],train[target])\n",
    "gsearch1.best_params_, gsearch1.best_score_ #note that it's already 56 ! The best performance of SVM was 55.93, of RF was 60.06. "
   ]
  },
  {
   "cell_type": "code",
   "execution_count": 89,
   "id": "a5a337f8",
   "metadata": {},
   "outputs": [],
   "source": [
    "param_test2={\n",
    "    'min_child_weight':[3,5,7,9,11,13,15,17,19,21]\n",
    "}\n",
    "\n",
    "gsearch2 = GridSearchCV(estimator=XGBRegressor(learning_rate=0.01, n_estimators=37, max_depth=7, min_child_weight=1,\n",
    "                                              gamma=0, subsample=0.8, colsample_bytree=0.8,\n",
    "                                              objective='reg:squarederror', nthread=3, scale_pos_weight=1, seed=1),\n",
    "                       param_grid = param_test2, scoring='neg_root_mean_squared_error', n_jobs=3, cv=5)"
   ]
  },
  {
   "cell_type": "code",
   "execution_count": 90,
   "id": "2e98b4c7",
   "metadata": {},
   "outputs": [
    {
     "data": {
      "text/plain": [
       "({'min_child_weight': 15}, -55.76562851105839)"
      ]
     },
     "execution_count": 90,
     "metadata": {},
     "output_type": "execute_result"
    }
   ],
   "source": [
    "gsearch2.fit(train[predictors],train[target])\n",
    "gsearch2.best_params_, gsearch2.best_score_"
   ]
  },
  {
   "cell_type": "code",
   "execution_count": 91,
   "id": "75bcb31b",
   "metadata": {},
   "outputs": [],
   "source": [
    "param_test3={\n",
    "    'gamma':[0,0.1,0.2,0.3,0.4,0.5,0.6,0.7]\n",
    "}\n",
    "\n",
    "gsearch3 = GridSearchCV(estimator=XGBRegressor(learning_rate=0.01, n_estimators=37, max_depth=7, min_child_weight=15,\n",
    "                                              gamma=0, subsample=0.8, colsample_bytree=0.8,\n",
    "                                              objective='reg:squarederror', nthread=3, scale_pos_weight=1, seed=1),\n",
    "                       param_grid = param_test3, scoring='neg_root_mean_squared_error', n_jobs=3, cv=5)"
   ]
  },
  {
   "cell_type": "code",
   "execution_count": 92,
   "id": "ba764b83",
   "metadata": {},
   "outputs": [
    {
     "data": {
      "text/plain": [
       "({'gamma': 0.3}, -55.765625655909595)"
      ]
     },
     "execution_count": 92,
     "metadata": {},
     "output_type": "execute_result"
    }
   ],
   "source": [
    "gsearch3.fit(train[predictors],train[target])\n",
    "gsearch3.best_params_, gsearch3.best_score_"
   ]
  },
  {
   "cell_type": "code",
   "execution_count": 93,
   "id": "3c580c95",
   "metadata": {},
   "outputs": [
    {
     "name": "stdout",
     "output_type": "stream",
     "text": [
      "n_estimators: 42\n"
     ]
    }
   ],
   "source": [
    "xgb2_regr = xgb.XGBRegressor(\n",
    "    learning_rate=0.01,\n",
    "    n_estimators=1000,\n",
    "    max_depth=7,\n",
    "    min_child_weight=15,\n",
    "    gamma=0.3,\n",
    "    subsample=0.8,\n",
    "    colsample_bytree=0.8,\n",
    "    objective='reg:squarederror',\n",
    "    nthread=3,\n",
    "    scale_pos_weight=1,\n",
    "    seed=1\n",
    "    )\n",
    "\n",
    "modelfit(xgb2_regr, train, predictors)"
   ]
  },
  {
   "cell_type": "code",
   "execution_count": 94,
   "id": "532d1f44",
   "metadata": {},
   "outputs": [],
   "source": [
    "param_test4 = {\n",
    "    'subsample': [0.6,0.7,0.8,0.9],  #[i/10.0 for i in range(6,10)],\n",
    "    'colsample_bytree': [0.6,0.7,0.8,0.9]  #[1/10.0 for i in range(6,10)]\n",
    "}\n",
    "\n",
    "gsearch4 = GridSearchCV(estimator=XGBRegressor(learning_rate=0.01, n_estimators=42, max_depth=7, min_child_weight=15,\n",
    "                                              gamma=0.3, subsample=0.8, colsample_bytree=0.8,\n",
    "                                              objective='reg:squarederror', nthread=3, scale_pos_weight=1, seed=1),\n",
    "                       param_grid = param_test4, scoring='neg_root_mean_squared_error', n_jobs=3, cv=5)"
   ]
  },
  {
   "cell_type": "code",
   "execution_count": 95,
   "id": "9508c876",
   "metadata": {},
   "outputs": [
    {
     "data": {
      "text/plain": [
       "({'colsample_bytree': 0.9, 'subsample': 0.8}, -55.68311098343096)"
      ]
     },
     "execution_count": 95,
     "metadata": {},
     "output_type": "execute_result"
    }
   ],
   "source": [
    "gsearch4.fit(train[predictors],train[target])\n",
    "gsearch4.best_params_, gsearch4.best_score_"
   ]
  },
  {
   "cell_type": "code",
   "execution_count": 96,
   "id": "e9bdadb3",
   "metadata": {},
   "outputs": [],
   "source": [
    "param_test5 = {\n",
    "    'subsample': [0.7,0.75,0.8,0.85,0.9],  #[i/10.0 for i in range(6,10)],\n",
    "    'colsample_bytree': [0.8,0.85,0.9,0.95,1]  #[1/10.0 for i in range(6,10)]\n",
    "}\n",
    "\n",
    "gsearch5 = GridSearchCV(estimator=XGBRegressor(learning_rate=0.01, n_estimators=42, max_depth=7, min_child_weight=15,\n",
    "                                              gamma=0.3, subsample=0.8, colsample_bytree=0.9,\n",
    "                                              objective='reg:squarederror', nthread=3, scale_pos_weight=1, seed=1),\n",
    "                       param_grid = param_test5, scoring='neg_root_mean_squared_error', n_jobs=3, cv=5)"
   ]
  },
  {
   "cell_type": "code",
   "execution_count": 97,
   "id": "b0c59d45",
   "metadata": {},
   "outputs": [
    {
     "data": {
      "text/plain": [
       "({'colsample_bytree': 0.85, 'subsample': 0.8}, -55.68311098343096)"
      ]
     },
     "execution_count": 97,
     "metadata": {},
     "output_type": "execute_result"
    }
   ],
   "source": [
    "gsearch5.fit(train[predictors],train[target])\n",
    "gsearch5.best_params_, gsearch5.best_score_"
   ]
  },
  {
   "cell_type": "code",
   "execution_count": 98,
   "id": "4ec0923d",
   "metadata": {},
   "outputs": [],
   "source": [
    "param_test6 = {\n",
    "    'reg_alpha': [0.005,0.01,0.02,0.05],  #[i/10.0 for i in range(6,10)],\n",
    "    'reg_lambda': [10**-7,10**-6,10**-5,10**-4,10**-3]  #[1/10.0 for i in range(6,10)]\n",
    "}\n",
    "\n",
    "gsearch6 = GridSearchCV(estimator=XGBRegressor(learning_rate=0.01, n_estimators=42, max_depth=7, min_child_weight=15,\n",
    "                                              gamma=0.3, subsample=0.8, colsample_bytree=0.9,\n",
    "                                              objective='reg:squarederror', nthread=3, scale_pos_weight=1, seed=1),\n",
    "                       param_grid = param_test6, scoring='neg_root_mean_squared_error', n_jobs=3, cv=5)"
   ]
  },
  {
   "cell_type": "code",
   "execution_count": 99,
   "id": "5cd863df",
   "metadata": {},
   "outputs": [
    {
     "data": {
      "text/plain": [
       "({'reg_alpha': 0.01, 'reg_lambda': 1e-06}, -55.65397206879766)"
      ]
     },
     "execution_count": 99,
     "metadata": {},
     "output_type": "execute_result"
    }
   ],
   "source": [
    "gsearch6.fit(train[predictors],train[target])\n",
    "gsearch6.best_params_, gsearch6.best_score_"
   ]
  },
  {
   "cell_type": "code",
   "execution_count": 100,
   "id": "49de2f5e",
   "metadata": {},
   "outputs": [
    {
     "name": "stdout",
     "output_type": "stream",
     "text": [
      "n_estimators: 46\n"
     ]
    }
   ],
   "source": [
    "xgb3_regr = xgb.XGBRegressor(\n",
    "    learning_rate=0.01,\n",
    "    n_estimators=1000,\n",
    "    max_depth=7,\n",
    "    min_child_weight=15,\n",
    "    gamma=0.3,\n",
    "    subsample=0.8,\n",
    "    colsample_bytree=0.9,\n",
    "    objective='reg:squarederror',\n",
    "    nthread=3,\n",
    "    scale_pos_weight=1,\n",
    "    reg_alpha=0.01,\n",
    "    reg_lambda=10**-6,\n",
    "    seed=1\n",
    "    )\n",
    "\n",
    "modelfit(xgb3_regr, train, predictors)"
   ]
  },
  {
   "cell_type": "code",
   "execution_count": 101,
   "id": "93cd234b",
   "metadata": {},
   "outputs": [
    {
     "name": "stdout",
     "output_type": "stream",
     "text": [
      "n_estimators: 18\n"
     ]
    }
   ],
   "source": [
    "xgb4_regr = xgb.XGBRegressor(\n",
    "    learning_rate=0.02,\n",
    "    n_estimators=1000,\n",
    "    max_depth=7,\n",
    "    min_child_weight=15,\n",
    "    gamma=0.3,\n",
    "    subsample=0.8,\n",
    "    colsample_bytree=0.9,\n",
    "    objective='reg:squarederror',\n",
    "    nthread=3,\n",
    "    scale_pos_weight=1,\n",
    "    reg_alpha=0.01,\n",
    "    reg_lambda=10**-6,\n",
    "    seed=1\n",
    "    )\n",
    "\n",
    "modelfit(xgb4_regr, train, predictors)"
   ]
  },
  {
   "cell_type": "code",
   "execution_count": 102,
   "id": "8421ae3a",
   "metadata": {},
   "outputs": [],
   "source": [
    "param_test7 = {\n",
    "    'learning_rate': [0.005,0.01,0.02],  #[i/10.0 for i in range(6,10)],\n",
    "    'n_estimators': [18,46,89]  #[1/10.0 for i in range(6,10)]\n",
    "}\n",
    "\n",
    "gsearch7 = GridSearchCV(estimator=XGBRegressor(learning_rate=0.1, n_estimators=5, max_depth=7, min_child_weight=15,\n",
    "                                              gamma=0.3, subsample=0.8, colsample_bytree=0.9,\n",
    "                                              objective='reg:squarederror', nthread=3, scale_pos_weight=1,reg_alpha=0.01,\n",
    "                                               reg_lambda=10**-6, seed=1),\n",
    "                       param_grid = param_test7, scoring='neg_root_mean_squared_error', n_jobs=3, cv=5)"
   ]
  },
  {
   "cell_type": "code",
   "execution_count": 103,
   "id": "a44d8f58",
   "metadata": {},
   "outputs": [
    {
     "data": {
      "text/plain": [
       "({'learning_rate': 0.01, 'n_estimators': 46}, -55.64963607256725)"
      ]
     },
     "execution_count": 103,
     "metadata": {},
     "output_type": "execute_result"
    }
   ],
   "source": [
    "gsearch7.fit(train[predictors],train[target])\n",
    "gsearch7.best_params_, gsearch7.best_score_"
   ]
  },
  {
   "cell_type": "code",
   "execution_count": 104,
   "id": "e14f33eb",
   "metadata": {},
   "outputs": [],
   "source": [
    "xgbt_regr = xgb.XGBRegressor(\n",
    "    learning_rate=0.01,\n",
    "    n_estimators=46,\n",
    "    max_depth=7,\n",
    "    min_child_weight=15,\n",
    "    gamma=0.3,\n",
    "    subsample=0.8,\n",
    "    colsample_bytree=0.9,\n",
    "    objective='reg:squarederror',\n",
    "    nthread=3,\n",
    "    scale_pos_weight=1,\n",
    "    reg_alpha=0.01,\n",
    "    reg_lambda=10**-6,\n",
    "    seed=1\n",
    "    )"
   ]
  },
  {
   "cell_type": "code",
   "execution_count": 105,
   "id": "2ac7a9f0",
   "metadata": {},
   "outputs": [],
   "source": [
    "xgbt_regr.fit(train[predictors],train[target])\n",
    "xgbt_pred=xgbt_regr.predict(test[predictors])"
   ]
  },
  {
   "cell_type": "code",
   "execution_count": 106,
   "id": "ecd2ac33",
   "metadata": {},
   "outputs": [
    {
     "data": {
      "text/plain": [
       "array([ 3.0180979,  3.577935 ,  2.4866655,  2.948749 ,  3.400522 ,\n",
       "        3.1897247,  4.9539013, 17.009241 ,  3.0490654,  2.9285686,\n",
       "        3.3205633,  4.0906773,  5.3551817,  4.9829464,  2.1435077,\n",
       "        3.8335695,  4.9744463,  4.8128066,  5.4169207, 19.541767 ,\n",
       "        6.5943837,  2.1218498,  1.731364 ,  9.288298 ,  1.6131312,\n",
       "        1.7965729,  1.505385 ,  1.400155 ,  5.191183 ,  4.6888843,\n",
       "        1.3915389,  3.9521277,  2.466811 , 15.39504  ,  2.2841794,\n",
       "        3.2001216,  3.802073 ,  1.882374 ,  2.6420152,  3.4833074,\n",
       "        7.674549 ,  1.4987941,  3.2575886,  3.4953473,  5.440016 ,\n",
       "        1.5336863,  4.823927 ,  4.7291794,  2.3922539,  3.3875937,\n",
       "        3.2115114,  4.514327 ,  3.407075 ,  4.3285303,  4.3285303,\n",
       "        2.3574953,  5.9988775,  2.803961 ,  1.7105207,  3.293053 ,\n",
       "        1.7391751, 10.127837 ,  6.639465 ,  4.271304 ,  2.9926188,\n",
       "        3.4619606,  2.2906263,  3.5106976,  3.0389917,  2.9641411,\n",
       "       10.427482 ,  2.3798056,  3.0734928,  4.535181 ,  2.2770033,\n",
       "        3.174337 ,  3.709338 ,  3.4172597,  1.3567203,  8.376627 ,\n",
       "       24.652775 , 15.527288 , 17.062323 ,  3.8647475, 17.189487 ,\n",
       "        4.3691044,  5.3454266,  3.6228359,  1.9595091,  2.0952697,\n",
       "        3.6084769, 10.697728 ,  2.857339 ,  3.7805226,  4.6877966,\n",
       "       24.507402 ,  8.167787 ,  2.3580105, 10.710916 ,  6.067323 ,\n",
       "        8.646317 ,  2.9921117, 14.47989  ], dtype=float32)"
      ]
     },
     "execution_count": 106,
     "metadata": {},
     "output_type": "execute_result"
    }
   ],
   "source": [
    "xgbt_pred"
   ]
  },
  {
   "cell_type": "code",
   "execution_count": 107,
   "id": "5793b368",
   "metadata": {},
   "outputs": [
    {
     "data": {
      "text/plain": [
       "40.44555974929067"
      ]
     },
     "execution_count": 107,
     "metadata": {},
     "output_type": "execute_result"
    }
   ],
   "source": [
    "np.sqrt(np.mean((y_test-xgbt_pred)**2)) #Note that initial performance(not tuned) of xgboost was 94. and it is comparable to SVM(40.43)."
   ]
  }
 ],
 "metadata": {
  "kernelspec": {
   "display_name": "Python 3",
   "language": "python",
   "name": "python3"
  },
  "language_info": {
   "codemirror_mode": {
    "name": "ipython",
    "version": 3
   },
   "file_extension": ".py",
   "mimetype": "text/x-python",
   "name": "python",
   "nbconvert_exporter": "python",
   "pygments_lexer": "ipython3",
   "version": "3.8.8"
  }
 },
 "nbformat": 4,
 "nbformat_minor": 5
}
