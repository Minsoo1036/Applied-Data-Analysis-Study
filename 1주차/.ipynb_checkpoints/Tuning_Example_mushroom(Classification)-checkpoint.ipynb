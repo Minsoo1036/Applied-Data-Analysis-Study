{
 "cells": [
  {
   "cell_type": "markdown",
   "id": "c016f499",
   "metadata": {},
   "source": [
    "# Tuning ML models (classification / agaricus data)"
   ]
  },
  {
   "cell_type": "code",
   "execution_count": 24,
   "id": "5c71d8ee",
   "metadata": {},
   "outputs": [],
   "source": [
    "import pandas as pd\n",
    "import numpy as np\n",
    "import seaborn as sns\n",
    "pd.set_option('display.max_rows',None)\n",
    "import matplotlib.pyplot as plt\n",
    "sns.set_theme(style=\"ticks\", color_codes=True)\n",
    "import scipy.stats as ss"
   ]
  },
  {
   "cell_type": "code",
   "execution_count": 25,
   "id": "8a3f5604",
   "metadata": {},
   "outputs": [],
   "source": [
    "df=pd.read_csv(\"data/agaricus-lepiota.txt\",header=None)"
   ]
  },
  {
   "cell_type": "code",
   "execution_count": 26,
   "id": "137c250b",
   "metadata": {},
   "outputs": [
    {
     "data": {
      "text/html": [
       "<div>\n",
       "<style scoped>\n",
       "    .dataframe tbody tr th:only-of-type {\n",
       "        vertical-align: middle;\n",
       "    }\n",
       "\n",
       "    .dataframe tbody tr th {\n",
       "        vertical-align: top;\n",
       "    }\n",
       "\n",
       "    .dataframe thead th {\n",
       "        text-align: right;\n",
       "    }\n",
       "</style>\n",
       "<table border=\"1\" class=\"dataframe\">\n",
       "  <thead>\n",
       "    <tr style=\"text-align: right;\">\n",
       "      <th></th>\n",
       "      <th>0</th>\n",
       "      <th>1</th>\n",
       "      <th>2</th>\n",
       "      <th>3</th>\n",
       "      <th>4</th>\n",
       "      <th>5</th>\n",
       "      <th>6</th>\n",
       "      <th>7</th>\n",
       "      <th>8</th>\n",
       "      <th>9</th>\n",
       "      <th>...</th>\n",
       "      <th>13</th>\n",
       "      <th>14</th>\n",
       "      <th>15</th>\n",
       "      <th>16</th>\n",
       "      <th>17</th>\n",
       "      <th>18</th>\n",
       "      <th>19</th>\n",
       "      <th>20</th>\n",
       "      <th>21</th>\n",
       "      <th>22</th>\n",
       "    </tr>\n",
       "  </thead>\n",
       "  <tbody>\n",
       "    <tr>\n",
       "      <th>0</th>\n",
       "      <td>p</td>\n",
       "      <td>x</td>\n",
       "      <td>s</td>\n",
       "      <td>n</td>\n",
       "      <td>t</td>\n",
       "      <td>p</td>\n",
       "      <td>f</td>\n",
       "      <td>c</td>\n",
       "      <td>n</td>\n",
       "      <td>k</td>\n",
       "      <td>...</td>\n",
       "      <td>s</td>\n",
       "      <td>w</td>\n",
       "      <td>w</td>\n",
       "      <td>p</td>\n",
       "      <td>w</td>\n",
       "      <td>o</td>\n",
       "      <td>p</td>\n",
       "      <td>k</td>\n",
       "      <td>s</td>\n",
       "      <td>u</td>\n",
       "    </tr>\n",
       "    <tr>\n",
       "      <th>1</th>\n",
       "      <td>e</td>\n",
       "      <td>x</td>\n",
       "      <td>s</td>\n",
       "      <td>y</td>\n",
       "      <td>t</td>\n",
       "      <td>a</td>\n",
       "      <td>f</td>\n",
       "      <td>c</td>\n",
       "      <td>b</td>\n",
       "      <td>k</td>\n",
       "      <td>...</td>\n",
       "      <td>s</td>\n",
       "      <td>w</td>\n",
       "      <td>w</td>\n",
       "      <td>p</td>\n",
       "      <td>w</td>\n",
       "      <td>o</td>\n",
       "      <td>p</td>\n",
       "      <td>n</td>\n",
       "      <td>n</td>\n",
       "      <td>g</td>\n",
       "    </tr>\n",
       "    <tr>\n",
       "      <th>2</th>\n",
       "      <td>e</td>\n",
       "      <td>b</td>\n",
       "      <td>s</td>\n",
       "      <td>w</td>\n",
       "      <td>t</td>\n",
       "      <td>l</td>\n",
       "      <td>f</td>\n",
       "      <td>c</td>\n",
       "      <td>b</td>\n",
       "      <td>n</td>\n",
       "      <td>...</td>\n",
       "      <td>s</td>\n",
       "      <td>w</td>\n",
       "      <td>w</td>\n",
       "      <td>p</td>\n",
       "      <td>w</td>\n",
       "      <td>o</td>\n",
       "      <td>p</td>\n",
       "      <td>n</td>\n",
       "      <td>n</td>\n",
       "      <td>m</td>\n",
       "    </tr>\n",
       "    <tr>\n",
       "      <th>3</th>\n",
       "      <td>p</td>\n",
       "      <td>x</td>\n",
       "      <td>y</td>\n",
       "      <td>w</td>\n",
       "      <td>t</td>\n",
       "      <td>p</td>\n",
       "      <td>f</td>\n",
       "      <td>c</td>\n",
       "      <td>n</td>\n",
       "      <td>n</td>\n",
       "      <td>...</td>\n",
       "      <td>s</td>\n",
       "      <td>w</td>\n",
       "      <td>w</td>\n",
       "      <td>p</td>\n",
       "      <td>w</td>\n",
       "      <td>o</td>\n",
       "      <td>p</td>\n",
       "      <td>k</td>\n",
       "      <td>s</td>\n",
       "      <td>u</td>\n",
       "    </tr>\n",
       "    <tr>\n",
       "      <th>4</th>\n",
       "      <td>e</td>\n",
       "      <td>x</td>\n",
       "      <td>s</td>\n",
       "      <td>g</td>\n",
       "      <td>f</td>\n",
       "      <td>n</td>\n",
       "      <td>f</td>\n",
       "      <td>w</td>\n",
       "      <td>b</td>\n",
       "      <td>k</td>\n",
       "      <td>...</td>\n",
       "      <td>s</td>\n",
       "      <td>w</td>\n",
       "      <td>w</td>\n",
       "      <td>p</td>\n",
       "      <td>w</td>\n",
       "      <td>o</td>\n",
       "      <td>e</td>\n",
       "      <td>n</td>\n",
       "      <td>a</td>\n",
       "      <td>g</td>\n",
       "    </tr>\n",
       "  </tbody>\n",
       "</table>\n",
       "<p>5 rows × 23 columns</p>\n",
       "</div>"
      ],
      "text/plain": [
       "  0  1  2  3  4  5  6  7  8  9   ... 13 14 15 16 17 18 19 20 21 22\n",
       "0  p  x  s  n  t  p  f  c  n  k  ...  s  w  w  p  w  o  p  k  s  u\n",
       "1  e  x  s  y  t  a  f  c  b  k  ...  s  w  w  p  w  o  p  n  n  g\n",
       "2  e  b  s  w  t  l  f  c  b  n  ...  s  w  w  p  w  o  p  n  n  m\n",
       "3  p  x  y  w  t  p  f  c  n  n  ...  s  w  w  p  w  o  p  k  s  u\n",
       "4  e  x  s  g  f  n  f  w  b  k  ...  s  w  w  p  w  o  e  n  a  g\n",
       "\n",
       "[5 rows x 23 columns]"
      ]
     },
     "execution_count": 26,
     "metadata": {},
     "output_type": "execute_result"
    }
   ],
   "source": [
    "df.head()"
   ]
  },
  {
   "cell_type": "code",
   "execution_count": 27,
   "id": "910b1d6b",
   "metadata": {},
   "outputs": [],
   "source": [
    "df.columns = [\"y\"]+[\"x\"+str(i) for i in range(1,23,1)]"
   ]
  },
  {
   "cell_type": "code",
   "execution_count": 28,
   "id": "3ec6aead",
   "metadata": {},
   "outputs": [
    {
     "name": "stdout",
     "output_type": "stream",
     "text": [
      "<class 'pandas.core.frame.DataFrame'>\n",
      "RangeIndex: 8124 entries, 0 to 8123\n",
      "Data columns (total 23 columns):\n",
      " #   Column  Non-Null Count  Dtype \n",
      "---  ------  --------------  ----- \n",
      " 0   y       8124 non-null   object\n",
      " 1   x1      8124 non-null   object\n",
      " 2   x2      8124 non-null   object\n",
      " 3   x3      8124 non-null   object\n",
      " 4   x4      8124 non-null   object\n",
      " 5   x5      8124 non-null   object\n",
      " 6   x6      8124 non-null   object\n",
      " 7   x7      8124 non-null   object\n",
      " 8   x8      8124 non-null   object\n",
      " 9   x9      8124 non-null   object\n",
      " 10  x10     8124 non-null   object\n",
      " 11  x11     8124 non-null   object\n",
      " 12  x12     8124 non-null   object\n",
      " 13  x13     8124 non-null   object\n",
      " 14  x14     8124 non-null   object\n",
      " 15  x15     8124 non-null   object\n",
      " 16  x16     8124 non-null   object\n",
      " 17  x17     8124 non-null   object\n",
      " 18  x18     8124 non-null   object\n",
      " 19  x19     8124 non-null   object\n",
      " 20  x20     8124 non-null   object\n",
      " 21  x21     8124 non-null   object\n",
      " 22  x22     8124 non-null   object\n",
      "dtypes: object(23)\n",
      "memory usage: 1.4+ MB\n"
     ]
    }
   ],
   "source": [
    "df.info()"
   ]
  },
  {
   "cell_type": "code",
   "execution_count": 29,
   "id": "2888b363",
   "metadata": {},
   "outputs": [
    {
     "data": {
      "text/html": [
       "<div>\n",
       "<style scoped>\n",
       "    .dataframe tbody tr th:only-of-type {\n",
       "        vertical-align: middle;\n",
       "    }\n",
       "\n",
       "    .dataframe tbody tr th {\n",
       "        vertical-align: top;\n",
       "    }\n",
       "\n",
       "    .dataframe thead th {\n",
       "        text-align: right;\n",
       "    }\n",
       "</style>\n",
       "<table border=\"1\" class=\"dataframe\">\n",
       "  <thead>\n",
       "    <tr style=\"text-align: right;\">\n",
       "      <th></th>\n",
       "      <th>index</th>\n",
       "      <th>y</th>\n",
       "      <th>x1</th>\n",
       "      <th>x2</th>\n",
       "      <th>x3</th>\n",
       "      <th>x4</th>\n",
       "      <th>x5</th>\n",
       "      <th>x6</th>\n",
       "      <th>x7</th>\n",
       "      <th>x8</th>\n",
       "      <th>...</th>\n",
       "      <th>x13</th>\n",
       "      <th>x14</th>\n",
       "      <th>x15</th>\n",
       "      <th>x16</th>\n",
       "      <th>x17</th>\n",
       "      <th>x18</th>\n",
       "      <th>x19</th>\n",
       "      <th>x20</th>\n",
       "      <th>x21</th>\n",
       "      <th>x22</th>\n",
       "    </tr>\n",
       "  </thead>\n",
       "  <tbody>\n",
       "    <tr>\n",
       "      <th>0</th>\n",
       "      <td>1</td>\n",
       "      <td>e</td>\n",
       "      <td>x</td>\n",
       "      <td>s</td>\n",
       "      <td>y</td>\n",
       "      <td>t</td>\n",
       "      <td>a</td>\n",
       "      <td>f</td>\n",
       "      <td>c</td>\n",
       "      <td>b</td>\n",
       "      <td>...</td>\n",
       "      <td>s</td>\n",
       "      <td>w</td>\n",
       "      <td>w</td>\n",
       "      <td>p</td>\n",
       "      <td>w</td>\n",
       "      <td>o</td>\n",
       "      <td>p</td>\n",
       "      <td>n</td>\n",
       "      <td>n</td>\n",
       "      <td>g</td>\n",
       "    </tr>\n",
       "    <tr>\n",
       "      <th>1</th>\n",
       "      <td>2</td>\n",
       "      <td>e</td>\n",
       "      <td>b</td>\n",
       "      <td>s</td>\n",
       "      <td>w</td>\n",
       "      <td>t</td>\n",
       "      <td>l</td>\n",
       "      <td>f</td>\n",
       "      <td>c</td>\n",
       "      <td>b</td>\n",
       "      <td>...</td>\n",
       "      <td>s</td>\n",
       "      <td>w</td>\n",
       "      <td>w</td>\n",
       "      <td>p</td>\n",
       "      <td>w</td>\n",
       "      <td>o</td>\n",
       "      <td>p</td>\n",
       "      <td>n</td>\n",
       "      <td>n</td>\n",
       "      <td>m</td>\n",
       "    </tr>\n",
       "    <tr>\n",
       "      <th>2</th>\n",
       "      <td>4</td>\n",
       "      <td>e</td>\n",
       "      <td>x</td>\n",
       "      <td>s</td>\n",
       "      <td>g</td>\n",
       "      <td>f</td>\n",
       "      <td>n</td>\n",
       "      <td>f</td>\n",
       "      <td>w</td>\n",
       "      <td>b</td>\n",
       "      <td>...</td>\n",
       "      <td>s</td>\n",
       "      <td>w</td>\n",
       "      <td>w</td>\n",
       "      <td>p</td>\n",
       "      <td>w</td>\n",
       "      <td>o</td>\n",
       "      <td>e</td>\n",
       "      <td>n</td>\n",
       "      <td>a</td>\n",
       "      <td>g</td>\n",
       "    </tr>\n",
       "    <tr>\n",
       "      <th>3</th>\n",
       "      <td>5</td>\n",
       "      <td>e</td>\n",
       "      <td>x</td>\n",
       "      <td>y</td>\n",
       "      <td>y</td>\n",
       "      <td>t</td>\n",
       "      <td>a</td>\n",
       "      <td>f</td>\n",
       "      <td>c</td>\n",
       "      <td>b</td>\n",
       "      <td>...</td>\n",
       "      <td>s</td>\n",
       "      <td>w</td>\n",
       "      <td>w</td>\n",
       "      <td>p</td>\n",
       "      <td>w</td>\n",
       "      <td>o</td>\n",
       "      <td>p</td>\n",
       "      <td>k</td>\n",
       "      <td>n</td>\n",
       "      <td>g</td>\n",
       "    </tr>\n",
       "    <tr>\n",
       "      <th>4</th>\n",
       "      <td>6</td>\n",
       "      <td>e</td>\n",
       "      <td>b</td>\n",
       "      <td>s</td>\n",
       "      <td>w</td>\n",
       "      <td>t</td>\n",
       "      <td>a</td>\n",
       "      <td>f</td>\n",
       "      <td>c</td>\n",
       "      <td>b</td>\n",
       "      <td>...</td>\n",
       "      <td>s</td>\n",
       "      <td>w</td>\n",
       "      <td>w</td>\n",
       "      <td>p</td>\n",
       "      <td>w</td>\n",
       "      <td>o</td>\n",
       "      <td>p</td>\n",
       "      <td>k</td>\n",
       "      <td>n</td>\n",
       "      <td>m</td>\n",
       "    </tr>\n",
       "  </tbody>\n",
       "</table>\n",
       "<p>5 rows × 24 columns</p>\n",
       "</div>"
      ],
      "text/plain": [
       "   index  y x1 x2 x3 x4 x5 x6 x7 x8  ... x13 x14 x15 x16 x17 x18 x19 x20 x21  \\\n",
       "0      1  e  x  s  y  t  a  f  c  b  ...   s   w   w   p   w   o   p   n   n   \n",
       "1      2  e  b  s  w  t  l  f  c  b  ...   s   w   w   p   w   o   p   n   n   \n",
       "2      4  e  x  s  g  f  n  f  w  b  ...   s   w   w   p   w   o   e   n   a   \n",
       "3      5  e  x  y  y  t  a  f  c  b  ...   s   w   w   p   w   o   p   k   n   \n",
       "4      6  e  b  s  w  t  a  f  c  b  ...   s   w   w   p   w   o   p   k   n   \n",
       "\n",
       "  x22  \n",
       "0   g  \n",
       "1   m  \n",
       "2   g  \n",
       "3   g  \n",
       "4   m  \n",
       "\n",
       "[5 rows x 24 columns]"
      ]
     },
     "execution_count": 29,
     "metadata": {},
     "output_type": "execute_result"
    }
   ],
   "source": [
    "df_p=df.loc[df['y']=='p']\n",
    "df_p=df_p.reset_index()\n",
    "df_p.head()\n",
    "\n",
    "df_e=df.loc[df['y']=='e']\n",
    "df_e=df_e.reset_index()\n",
    "df_e.head()"
   ]
  },
  {
   "cell_type": "code",
   "execution_count": 30,
   "id": "788ca490",
   "metadata": {},
   "outputs": [],
   "source": [
    "order_list = set(df['x1'])"
   ]
  },
  {
   "cell_type": "code",
   "execution_count": 116,
   "id": "00d5a9ce",
   "metadata": {},
   "outputs": [
    {
     "data": {
      "text/plain": [
       "Text(0.5, 0.98, 'distribution of x1 corresponding to mushroom type')"
      ]
     },
     "execution_count": 116,
     "metadata": {},
     "output_type": "execute_result"
    },
    {
     "data": {
      "image/png": "[encoded data removed]",
      "text/plain": [
       "<Figure size 1080x360 with 2 Axes>"
      ]
     },
     "metadata": {},
     "output_type": "display_data"
    }
   ],
   "source": [
    "f, ax = plt.subplots(1,2,figsize=(15,5))\n",
    "sns.countplot(y=\"x1\", data=df_p, color=\"c\", order=order_list,ax=ax[0])\n",
    "sns.countplot(y=\"x1\", data=df_e, color=\"c\", order=order_list,ax=ax[1])\n",
    "ax[0].set_title(\"Poison\")\n",
    "ax[1].set_title(\"Edible\")\n",
    "plt.suptitle(\"distribution of x1 corresponding to mushroom type\")"
   ]
  },
  {
   "cell_type": "code",
   "execution_count": 117,
   "id": "aecceefd",
   "metadata": {},
   "outputs": [
    {
     "data": {
      "text/plain": [
       "Text(0.5, 0.98, 'distribution of x5 corresponding to mushroom type')"
      ]
     },
     "execution_count": 117,
     "metadata": {},
     "output_type": "execute_result"
    },
    {
     "data": {
      "image/png": "[encoded data removed]",
      "text/plain": [
       "<Figure size 1080x360 with 2 Axes>"
      ]
     },
     "metadata": {},
     "output_type": "display_data"
    }
   ],
   "source": [
    "order_list = set(df['x5'])\n",
    "\n",
    "f, ax = plt.subplots(1,2,figsize=(15,5))\n",
    "sns.countplot(y=\"x5\", data=df_p, color=\"c\", order=order_list,ax=ax[0])\n",
    "sns.countplot(y=\"x5\", data=df_e, color=\"c\", order=order_list,ax=ax[1])\n",
    "ax[0].set_title(\"Poison\")\n",
    "ax[1].set_title(\"Edible\")\n",
    "plt.suptitle(\"distribution of x5 corresponding to mushroom type\")"
   ]
  },
  {
   "cell_type": "code",
   "execution_count": 33,
   "id": "e22bfb2f",
   "metadata": {},
   "outputs": [],
   "source": [
    "def cramers_v(x, y):\n",
    "    confusion_matrix = pd.crosstab(x,y)\n",
    "    chi2 = ss.chi2_contingency(confusion_matrix)[0]\n",
    "    n = confusion_matrix.sum().sum()\n",
    "    phi2 = chi2/n\n",
    "    r,k = confusion_matrix.shape\n",
    "    phi2corr = max(0, phi2-((k-1)*(r-1))/(n-1))\n",
    "    rcorr = r-((r-1)**2)/(n-1)\n",
    "    kcorr = k-((k-1)**2)/(n-1)\n",
    "    return np.sqrt(phi2corr/min((kcorr-1),(rcorr-1)))"
   ]
  },
  {
   "cell_type": "code",
   "execution_count": 34,
   "id": "15286033",
   "metadata": {},
   "outputs": [
    {
     "data": {
      "text/plain": [
       "0.20224200015600724"
      ]
     },
     "execution_count": 34,
     "metadata": {},
     "output_type": "execute_result"
    }
   ],
   "source": [
    "cramers_v(df['x1'],df['x2'])"
   ]
  },
  {
   "cell_type": "code",
   "execution_count": 54,
   "id": "79eebfda",
   "metadata": {},
   "outputs": [],
   "source": [
    "set(df['x16']) #just one category, it can't be a variable (or predictor).\n",
    "del df['x16']"
   ]
  },
  {
   "cell_type": "code",
   "execution_count": 55,
   "id": "ed309daf",
   "metadata": {},
   "outputs": [
    {
     "data": {
      "text/plain": [
       "Index(['y', 'x1', 'x2', 'x3', 'x4', 'x5', 'x6', 'x7', 'x8', 'x9', 'x10', 'x11',\n",
       "       'x12', 'x13', 'x14', 'x15', 'x17', 'x18', 'x19', 'x20', 'x21', 'x22'],\n",
       "      dtype='object')"
      ]
     },
     "execution_count": 55,
     "metadata": {},
     "output_type": "execute_result"
    }
   ],
   "source": [
    "df.columns"
   ]
  },
  {
   "cell_type": "code",
   "execution_count": 56,
   "id": "3870a47c",
   "metadata": {},
   "outputs": [],
   "source": [
    "cat_corr = np.zeros(shape=(22,22))"
   ]
  },
  {
   "cell_type": "code",
   "execution_count": 58,
   "id": "485ffa70",
   "metadata": {},
   "outputs": [],
   "source": [
    "for i in range(22):\n",
    "    for j in range(22):\n",
    "        cat_corr[i][j] = cramers_v(df[df.columns[i]],df[df.columns[j]])"
   ]
  },
  {
   "cell_type": "code",
   "execution_count": 66,
   "id": "a6794a78",
   "metadata": {},
   "outputs": [
    {
     "data": {
      "text/html": [
       "<div>\n",
       "<style scoped>\n",
       "    .dataframe tbody tr th:only-of-type {\n",
       "        vertical-align: middle;\n",
       "    }\n",
       "\n",
       "    .dataframe tbody tr th {\n",
       "        vertical-align: top;\n",
       "    }\n",
       "\n",
       "    .dataframe thead th {\n",
       "        text-align: right;\n",
       "    }\n",
       "</style>\n",
       "<table border=\"1\" class=\"dataframe\">\n",
       "  <thead>\n",
       "    <tr style=\"text-align: right;\">\n",
       "      <th></th>\n",
       "      <th>y</th>\n",
       "      <th>x1</th>\n",
       "      <th>x2</th>\n",
       "      <th>x3</th>\n",
       "      <th>x4</th>\n",
       "      <th>x5</th>\n",
       "      <th>x6</th>\n",
       "      <th>x7</th>\n",
       "      <th>x8</th>\n",
       "      <th>x9</th>\n",
       "      <th>...</th>\n",
       "      <th>x12</th>\n",
       "      <th>x13</th>\n",
       "      <th>x14</th>\n",
       "      <th>x15</th>\n",
       "      <th>x17</th>\n",
       "      <th>x18</th>\n",
       "      <th>x19</th>\n",
       "      <th>x20</th>\n",
       "      <th>x21</th>\n",
       "      <th>x22</th>\n",
       "    </tr>\n",
       "  </thead>\n",
       "  <tbody>\n",
       "    <tr>\n",
       "      <th>y</th>\n",
       "      <td>0.999753</td>\n",
       "      <td>0.244330</td>\n",
       "      <td>0.195997</td>\n",
       "      <td>0.215889</td>\n",
       "      <td>0.501188</td>\n",
       "      <td>0.970558</td>\n",
       "      <td>0.127951</td>\n",
       "      <td>0.347897</td>\n",
       "      <td>0.539677</td>\n",
       "      <td>0.679877</td>\n",
       "      <td>...</td>\n",
       "      <td>0.587666</td>\n",
       "      <td>0.574551</td>\n",
       "      <td>0.523943</td>\n",
       "      <td>0.513799</td>\n",
       "      <td>0.152222</td>\n",
       "      <td>0.214212</td>\n",
       "      <td>0.602900</td>\n",
       "      <td>0.752036</td>\n",
       "      <td>0.486775</td>\n",
       "      <td>0.439323</td>\n",
       "    </tr>\n",
       "    <tr>\n",
       "      <th>x1</th>\n",
       "      <td>0.244330</td>\n",
       "      <td>1.000000</td>\n",
       "      <td>0.202242</td>\n",
       "      <td>0.168221</td>\n",
       "      <td>0.254415</td>\n",
       "      <td>0.243577</td>\n",
       "      <td>0.152989</td>\n",
       "      <td>0.077849</td>\n",
       "      <td>0.345956</td>\n",
       "      <td>0.232274</td>\n",
       "      <td>...</td>\n",
       "      <td>0.158150</td>\n",
       "      <td>0.109487</td>\n",
       "      <td>0.212427</td>\n",
       "      <td>0.167534</td>\n",
       "      <td>0.223124</td>\n",
       "      <td>0.197883</td>\n",
       "      <td>0.206749</td>\n",
       "      <td>0.249101</td>\n",
       "      <td>0.240074</td>\n",
       "      <td>0.269842</td>\n",
       "    </tr>\n",
       "    <tr>\n",
       "      <th>x2</th>\n",
       "      <td>0.195997</td>\n",
       "      <td>0.202242</td>\n",
       "      <td>1.000000</td>\n",
       "      <td>0.222841</td>\n",
       "      <td>0.133004</td>\n",
       "      <td>0.236416</td>\n",
       "      <td>0.209977</td>\n",
       "      <td>0.337696</td>\n",
       "      <td>0.276765</td>\n",
       "      <td>0.255023</td>\n",
       "      <td>...</td>\n",
       "      <td>0.142861</td>\n",
       "      <td>0.168331</td>\n",
       "      <td>0.250561</td>\n",
       "      <td>0.255578</td>\n",
       "      <td>0.133014</td>\n",
       "      <td>0.097278</td>\n",
       "      <td>0.223669</td>\n",
       "      <td>0.230539</td>\n",
       "      <td>0.260952</td>\n",
       "      <td>0.249577</td>\n",
       "    </tr>\n",
       "    <tr>\n",
       "      <th>x3</th>\n",
       "      <td>0.215889</td>\n",
       "      <td>0.168221</td>\n",
       "      <td>0.222841</td>\n",
       "      <td>1.000000</td>\n",
       "      <td>0.215101</td>\n",
       "      <td>0.330517</td>\n",
       "      <td>0.245736</td>\n",
       "      <td>0.398593</td>\n",
       "      <td>0.469156</td>\n",
       "      <td>0.280178</td>\n",
       "      <td>...</td>\n",
       "      <td>0.254962</td>\n",
       "      <td>0.318457</td>\n",
       "      <td>0.274663</td>\n",
       "      <td>0.277404</td>\n",
       "      <td>0.147231</td>\n",
       "      <td>0.336128</td>\n",
       "      <td>0.557217</td>\n",
       "      <td>0.284714</td>\n",
       "      <td>0.304085</td>\n",
       "      <td>0.325199</td>\n",
       "    </tr>\n",
       "    <tr>\n",
       "      <th>x4</th>\n",
       "      <td>0.501188</td>\n",
       "      <td>0.254415</td>\n",
       "      <td>0.133004</td>\n",
       "      <td>0.215101</td>\n",
       "      <td>0.999747</td>\n",
       "      <td>0.660201</td>\n",
       "      <td>0.136129</td>\n",
       "      <td>0.298946</td>\n",
       "      <td>0.369182</td>\n",
       "      <td>0.649324</td>\n",
       "      <td>...</td>\n",
       "      <td>0.574898</td>\n",
       "      <td>0.566441</td>\n",
       "      <td>0.482236</td>\n",
       "      <td>0.491868</td>\n",
       "      <td>0.132587</td>\n",
       "      <td>0.069373</td>\n",
       "      <td>0.768218</td>\n",
       "      <td>0.611623</td>\n",
       "      <td>0.299568</td>\n",
       "      <td>0.530257</td>\n",
       "    </tr>\n",
       "    <tr>\n",
       "      <th>x5</th>\n",
       "      <td>0.970558</td>\n",
       "      <td>0.243577</td>\n",
       "      <td>0.236416</td>\n",
       "      <td>0.330517</td>\n",
       "      <td>0.660201</td>\n",
       "      <td>1.000000</td>\n",
       "      <td>0.259923</td>\n",
       "      <td>0.428647</td>\n",
       "      <td>0.760318</td>\n",
       "      <td>0.388712</td>\n",
       "      <td>...</td>\n",
       "      <td>0.415244</td>\n",
       "      <td>0.506395</td>\n",
       "      <td>0.449330</td>\n",
       "      <td>0.445795</td>\n",
       "      <td>0.099895</td>\n",
       "      <td>0.742250</td>\n",
       "      <td>0.696379</td>\n",
       "      <td>0.395340</td>\n",
       "      <td>0.373698</td>\n",
       "      <td>0.368861</td>\n",
       "    </tr>\n",
       "    <tr>\n",
       "      <th>x6</th>\n",
       "      <td>0.127951</td>\n",
       "      <td>0.152989</td>\n",
       "      <td>0.209977</td>\n",
       "      <td>0.245736</td>\n",
       "      <td>0.136129</td>\n",
       "      <td>0.259923</td>\n",
       "      <td>0.997556</td>\n",
       "      <td>0.069560</td>\n",
       "      <td>0.107581</td>\n",
       "      <td>0.779340</td>\n",
       "      <td>...</td>\n",
       "      <td>0.092622</td>\n",
       "      <td>0.123213</td>\n",
       "      <td>0.977312</td>\n",
       "      <td>0.977312</td>\n",
       "      <td>0.954963</td>\n",
       "      <td>0.203183</td>\n",
       "      <td>0.249776</td>\n",
       "      <td>0.826353</td>\n",
       "      <td>0.413362</td>\n",
       "      <td>0.435707</td>\n",
       "    </tr>\n",
       "    <tr>\n",
       "      <th>x7</th>\n",
       "      <td>0.347897</td>\n",
       "      <td>0.077849</td>\n",
       "      <td>0.337696</td>\n",
       "      <td>0.398593</td>\n",
       "      <td>0.298946</td>\n",
       "      <td>0.428647</td>\n",
       "      <td>0.069560</td>\n",
       "      <td>0.999545</td>\n",
       "      <td>0.107406</td>\n",
       "      <td>0.323690</td>\n",
       "      <td>...</td>\n",
       "      <td>0.436872</td>\n",
       "      <td>0.414450</td>\n",
       "      <td>0.399947</td>\n",
       "      <td>0.374216</td>\n",
       "      <td>0.096769</td>\n",
       "      <td>0.245173</td>\n",
       "      <td>0.289482</td>\n",
       "      <td>0.307018</td>\n",
       "      <td>0.673533</td>\n",
       "      <td>0.541961</td>\n",
       "    </tr>\n",
       "    <tr>\n",
       "      <th>x8</th>\n",
       "      <td>0.539677</td>\n",
       "      <td>0.345956</td>\n",
       "      <td>0.276765</td>\n",
       "      <td>0.469156</td>\n",
       "      <td>0.369182</td>\n",
       "      <td>0.760318</td>\n",
       "      <td>0.107581</td>\n",
       "      <td>0.107406</td>\n",
       "      <td>0.999712</td>\n",
       "      <td>0.783249</td>\n",
       "      <td>...</td>\n",
       "      <td>0.168981</td>\n",
       "      <td>0.149698</td>\n",
       "      <td>0.364753</td>\n",
       "      <td>0.345772</td>\n",
       "      <td>0.112347</td>\n",
       "      <td>0.194363</td>\n",
       "      <td>0.570257</td>\n",
       "      <td>0.659975</td>\n",
       "      <td>0.517249</td>\n",
       "      <td>0.498616</td>\n",
       "    </tr>\n",
       "    <tr>\n",
       "      <th>x9</th>\n",
       "      <td>0.679877</td>\n",
       "      <td>0.232274</td>\n",
       "      <td>0.255023</td>\n",
       "      <td>0.280178</td>\n",
       "      <td>0.649324</td>\n",
       "      <td>0.388712</td>\n",
       "      <td>0.779340</td>\n",
       "      <td>0.323690</td>\n",
       "      <td>0.783249</td>\n",
       "      <td>1.000000</td>\n",
       "      <td>...</td>\n",
       "      <td>0.352009</td>\n",
       "      <td>0.376254</td>\n",
       "      <td>0.419543</td>\n",
       "      <td>0.415665</td>\n",
       "      <td>0.452015</td>\n",
       "      <td>0.442824</td>\n",
       "      <td>0.517343</td>\n",
       "      <td>0.484083</td>\n",
       "      <td>0.423513</td>\n",
       "      <td>0.457212</td>\n",
       "    </tr>\n",
       "    <tr>\n",
       "      <th>x10</th>\n",
       "      <td>0.101170</td>\n",
       "      <td>0.306119</td>\n",
       "      <td>0.076395</td>\n",
       "      <td>0.594499</td>\n",
       "      <td>0.098495</td>\n",
       "      <td>0.575023</td>\n",
       "      <td>0.185382</td>\n",
       "      <td>0.079795</td>\n",
       "      <td>0.214033</td>\n",
       "      <td>0.611291</td>\n",
       "      <td>...</td>\n",
       "      <td>0.319471</td>\n",
       "      <td>0.367670</td>\n",
       "      <td>0.536084</td>\n",
       "      <td>0.548780</td>\n",
       "      <td>0.180869</td>\n",
       "      <td>0.333291</td>\n",
       "      <td>0.614792</td>\n",
       "      <td>0.458414</td>\n",
       "      <td>0.455486</td>\n",
       "      <td>0.417101</td>\n",
       "    </tr>\n",
       "    <tr>\n",
       "      <th>x11</th>\n",
       "      <td>0.406224</td>\n",
       "      <td>0.359388</td>\n",
       "      <td>0.313927</td>\n",
       "      <td>0.383974</td>\n",
       "      <td>0.570839</td>\n",
       "      <td>0.619108</td>\n",
       "      <td>0.220201</td>\n",
       "      <td>0.575293</td>\n",
       "      <td>0.627224</td>\n",
       "      <td>0.514065</td>\n",
       "      <td>...</td>\n",
       "      <td>0.307442</td>\n",
       "      <td>0.556125</td>\n",
       "      <td>0.368331</td>\n",
       "      <td>0.368462</td>\n",
       "      <td>0.149450</td>\n",
       "      <td>0.276846</td>\n",
       "      <td>0.442274</td>\n",
       "      <td>0.518744</td>\n",
       "      <td>0.529233</td>\n",
       "      <td>0.536186</td>\n",
       "    </tr>\n",
       "    <tr>\n",
       "      <th>x12</th>\n",
       "      <td>0.587666</td>\n",
       "      <td>0.158150</td>\n",
       "      <td>0.142861</td>\n",
       "      <td>0.254962</td>\n",
       "      <td>0.574898</td>\n",
       "      <td>0.415244</td>\n",
       "      <td>0.092622</td>\n",
       "      <td>0.436872</td>\n",
       "      <td>0.168981</td>\n",
       "      <td>0.352009</td>\n",
       "      <td>...</td>\n",
       "      <td>1.000000</td>\n",
       "      <td>0.489650</td>\n",
       "      <td>0.515859</td>\n",
       "      <td>0.431909</td>\n",
       "      <td>0.339334</td>\n",
       "      <td>0.127360</td>\n",
       "      <td>0.453970</td>\n",
       "      <td>0.418010</td>\n",
       "      <td>0.316755</td>\n",
       "      <td>0.299380</td>\n",
       "    </tr>\n",
       "    <tr>\n",
       "      <th>x13</th>\n",
       "      <td>0.574551</td>\n",
       "      <td>0.109487</td>\n",
       "      <td>0.168331</td>\n",
       "      <td>0.318457</td>\n",
       "      <td>0.566441</td>\n",
       "      <td>0.506395</td>\n",
       "      <td>0.123213</td>\n",
       "      <td>0.414450</td>\n",
       "      <td>0.149698</td>\n",
       "      <td>0.376254</td>\n",
       "      <td>...</td>\n",
       "      <td>0.489650</td>\n",
       "      <td>1.000000</td>\n",
       "      <td>0.451998</td>\n",
       "      <td>0.460845</td>\n",
       "      <td>0.117906</td>\n",
       "      <td>0.255638</td>\n",
       "      <td>0.518984</td>\n",
       "      <td>0.420590</td>\n",
       "      <td>0.321104</td>\n",
       "      <td>0.309131</td>\n",
       "    </tr>\n",
       "    <tr>\n",
       "      <th>x14</th>\n",
       "      <td>0.523943</td>\n",
       "      <td>0.212427</td>\n",
       "      <td>0.250561</td>\n",
       "      <td>0.274663</td>\n",
       "      <td>0.482236</td>\n",
       "      <td>0.449330</td>\n",
       "      <td>0.977312</td>\n",
       "      <td>0.399947</td>\n",
       "      <td>0.364753</td>\n",
       "      <td>0.419543</td>\n",
       "      <td>...</td>\n",
       "      <td>0.515859</td>\n",
       "      <td>0.451998</td>\n",
       "      <td>1.000000</td>\n",
       "      <td>0.634312</td>\n",
       "      <td>0.816044</td>\n",
       "      <td>0.770740</td>\n",
       "      <td>0.672056</td>\n",
       "      <td>0.414923</td>\n",
       "      <td>0.418367</td>\n",
       "      <td>0.418261</td>\n",
       "    </tr>\n",
       "    <tr>\n",
       "      <th>x15</th>\n",
       "      <td>0.513799</td>\n",
       "      <td>0.167534</td>\n",
       "      <td>0.255578</td>\n",
       "      <td>0.277404</td>\n",
       "      <td>0.491868</td>\n",
       "      <td>0.445795</td>\n",
       "      <td>0.977312</td>\n",
       "      <td>0.374216</td>\n",
       "      <td>0.345772</td>\n",
       "      <td>0.415665</td>\n",
       "      <td>...</td>\n",
       "      <td>0.431909</td>\n",
       "      <td>0.460845</td>\n",
       "      <td>0.634312</td>\n",
       "      <td>1.000000</td>\n",
       "      <td>0.665882</td>\n",
       "      <td>0.771267</td>\n",
       "      <td>0.664047</td>\n",
       "      <td>0.410510</td>\n",
       "      <td>0.415091</td>\n",
       "      <td>0.416822</td>\n",
       "    </tr>\n",
       "    <tr>\n",
       "      <th>x17</th>\n",
       "      <td>0.152222</td>\n",
       "      <td>0.223124</td>\n",
       "      <td>0.133014</td>\n",
       "      <td>0.147231</td>\n",
       "      <td>0.132587</td>\n",
       "      <td>0.099895</td>\n",
       "      <td>0.954963</td>\n",
       "      <td>0.096769</td>\n",
       "      <td>0.112347</td>\n",
       "      <td>0.452015</td>\n",
       "      <td>...</td>\n",
       "      <td>0.339334</td>\n",
       "      <td>0.117906</td>\n",
       "      <td>0.816044</td>\n",
       "      <td>0.665882</td>\n",
       "      <td>1.000000</td>\n",
       "      <td>0.026509</td>\n",
       "      <td>0.092622</td>\n",
       "      <td>0.499951</td>\n",
       "      <td>0.226466</td>\n",
       "      <td>0.270233</td>\n",
       "    </tr>\n",
       "    <tr>\n",
       "      <th>x18</th>\n",
       "      <td>0.214212</td>\n",
       "      <td>0.197883</td>\n",
       "      <td>0.097278</td>\n",
       "      <td>0.336128</td>\n",
       "      <td>0.069373</td>\n",
       "      <td>0.742250</td>\n",
       "      <td>0.203183</td>\n",
       "      <td>0.245173</td>\n",
       "      <td>0.194363</td>\n",
       "      <td>0.442824</td>\n",
       "      <td>...</td>\n",
       "      <td>0.127360</td>\n",
       "      <td>0.255638</td>\n",
       "      <td>0.770740</td>\n",
       "      <td>0.771267</td>\n",
       "      <td>0.026509</td>\n",
       "      <td>1.000000</td>\n",
       "      <td>0.713641</td>\n",
       "      <td>0.367569</td>\n",
       "      <td>0.417545</td>\n",
       "      <td>0.429743</td>\n",
       "    </tr>\n",
       "    <tr>\n",
       "      <th>x19</th>\n",
       "      <td>0.602900</td>\n",
       "      <td>0.206749</td>\n",
       "      <td>0.223669</td>\n",
       "      <td>0.557217</td>\n",
       "      <td>0.768218</td>\n",
       "      <td>0.696379</td>\n",
       "      <td>0.249776</td>\n",
       "      <td>0.289482</td>\n",
       "      <td>0.570257</td>\n",
       "      <td>0.517343</td>\n",
       "      <td>...</td>\n",
       "      <td>0.453970</td>\n",
       "      <td>0.518984</td>\n",
       "      <td>0.672056</td>\n",
       "      <td>0.664047</td>\n",
       "      <td>0.092622</td>\n",
       "      <td>0.713641</td>\n",
       "      <td>1.000000</td>\n",
       "      <td>0.550017</td>\n",
       "      <td>0.342205</td>\n",
       "      <td>0.302604</td>\n",
       "    </tr>\n",
       "    <tr>\n",
       "      <th>x20</th>\n",
       "      <td>0.752036</td>\n",
       "      <td>0.249101</td>\n",
       "      <td>0.230539</td>\n",
       "      <td>0.284714</td>\n",
       "      <td>0.611623</td>\n",
       "      <td>0.395340</td>\n",
       "      <td>0.826353</td>\n",
       "      <td>0.307018</td>\n",
       "      <td>0.659975</td>\n",
       "      <td>0.484083</td>\n",
       "      <td>...</td>\n",
       "      <td>0.418010</td>\n",
       "      <td>0.420590</td>\n",
       "      <td>0.414923</td>\n",
       "      <td>0.410510</td>\n",
       "      <td>0.499951</td>\n",
       "      <td>0.367569</td>\n",
       "      <td>0.550017</td>\n",
       "      <td>1.000000</td>\n",
       "      <td>0.298200</td>\n",
       "      <td>0.324531</td>\n",
       "    </tr>\n",
       "    <tr>\n",
       "      <th>x21</th>\n",
       "      <td>0.486775</td>\n",
       "      <td>0.240074</td>\n",
       "      <td>0.260952</td>\n",
       "      <td>0.304085</td>\n",
       "      <td>0.299568</td>\n",
       "      <td>0.373698</td>\n",
       "      <td>0.413362</td>\n",
       "      <td>0.673533</td>\n",
       "      <td>0.517249</td>\n",
       "      <td>0.423513</td>\n",
       "      <td>...</td>\n",
       "      <td>0.316755</td>\n",
       "      <td>0.321104</td>\n",
       "      <td>0.418367</td>\n",
       "      <td>0.415091</td>\n",
       "      <td>0.226466</td>\n",
       "      <td>0.417545</td>\n",
       "      <td>0.342205</td>\n",
       "      <td>0.298200</td>\n",
       "      <td>1.000000</td>\n",
       "      <td>0.506176</td>\n",
       "    </tr>\n",
       "    <tr>\n",
       "      <th>x22</th>\n",
       "      <td>0.439323</td>\n",
       "      <td>0.269842</td>\n",
       "      <td>0.249577</td>\n",
       "      <td>0.325199</td>\n",
       "      <td>0.530257</td>\n",
       "      <td>0.368861</td>\n",
       "      <td>0.435707</td>\n",
       "      <td>0.541961</td>\n",
       "      <td>0.498616</td>\n",
       "      <td>0.457212</td>\n",
       "      <td>...</td>\n",
       "      <td>0.299380</td>\n",
       "      <td>0.309131</td>\n",
       "      <td>0.418261</td>\n",
       "      <td>0.416822</td>\n",
       "      <td>0.270233</td>\n",
       "      <td>0.429743</td>\n",
       "      <td>0.302604</td>\n",
       "      <td>0.324531</td>\n",
       "      <td>0.506176</td>\n",
       "      <td>1.000000</td>\n",
       "    </tr>\n",
       "  </tbody>\n",
       "</table>\n",
       "<p>22 rows × 22 columns</p>\n",
       "</div>"
      ],
      "text/plain": [
       "            y        x1        x2        x3        x4        x5        x6  \\\n",
       "y    0.999753  0.244330  0.195997  0.215889  0.501188  0.970558  0.127951   \n",
       "x1   0.244330  1.000000  0.202242  0.168221  0.254415  0.243577  0.152989   \n",
       "x2   0.195997  0.202242  1.000000  0.222841  0.133004  0.236416  0.209977   \n",
       "x3   0.215889  0.168221  0.222841  1.000000  0.215101  0.330517  0.245736   \n",
       "x4   0.501188  0.254415  0.133004  0.215101  0.999747  0.660201  0.136129   \n",
       "x5   0.970558  0.243577  0.236416  0.330517  0.660201  1.000000  0.259923   \n",
       "x6   0.127951  0.152989  0.209977  0.245736  0.136129  0.259923  0.997556   \n",
       "x7   0.347897  0.077849  0.337696  0.398593  0.298946  0.428647  0.069560   \n",
       "x8   0.539677  0.345956  0.276765  0.469156  0.369182  0.760318  0.107581   \n",
       "x9   0.679877  0.232274  0.255023  0.280178  0.649324  0.388712  0.779340   \n",
       "x10  0.101170  0.306119  0.076395  0.594499  0.098495  0.575023  0.185382   \n",
       "x11  0.406224  0.359388  0.313927  0.383974  0.570839  0.619108  0.220201   \n",
       "x12  0.587666  0.158150  0.142861  0.254962  0.574898  0.415244  0.092622   \n",
       "x13  0.574551  0.109487  0.168331  0.318457  0.566441  0.506395  0.123213   \n",
       "x14  0.523943  0.212427  0.250561  0.274663  0.482236  0.449330  0.977312   \n",
       "x15  0.513799  0.167534  0.255578  0.277404  0.491868  0.445795  0.977312   \n",
       "x17  0.152222  0.223124  0.133014  0.147231  0.132587  0.099895  0.954963   \n",
       "x18  0.214212  0.197883  0.097278  0.336128  0.069373  0.742250  0.203183   \n",
       "x19  0.602900  0.206749  0.223669  0.557217  0.768218  0.696379  0.249776   \n",
       "x20  0.752036  0.249101  0.230539  0.284714  0.611623  0.395340  0.826353   \n",
       "x21  0.486775  0.240074  0.260952  0.304085  0.299568  0.373698  0.413362   \n",
       "x22  0.439323  0.269842  0.249577  0.325199  0.530257  0.368861  0.435707   \n",
       "\n",
       "           x7        x8        x9  ...       x12       x13       x14  \\\n",
       "y    0.347897  0.539677  0.679877  ...  0.587666  0.574551  0.523943   \n",
       "x1   0.077849  0.345956  0.232274  ...  0.158150  0.109487  0.212427   \n",
       "x2   0.337696  0.276765  0.255023  ...  0.142861  0.168331  0.250561   \n",
       "x3   0.398593  0.469156  0.280178  ...  0.254962  0.318457  0.274663   \n",
       "x4   0.298946  0.369182  0.649324  ...  0.574898  0.566441  0.482236   \n",
       "x5   0.428647  0.760318  0.388712  ...  0.415244  0.506395  0.449330   \n",
       "x6   0.069560  0.107581  0.779340  ...  0.092622  0.123213  0.977312   \n",
       "x7   0.999545  0.107406  0.323690  ...  0.436872  0.414450  0.399947   \n",
       "x8   0.107406  0.999712  0.783249  ...  0.168981  0.149698  0.364753   \n",
       "x9   0.323690  0.783249  1.000000  ...  0.352009  0.376254  0.419543   \n",
       "x10  0.079795  0.214033  0.611291  ...  0.319471  0.367670  0.536084   \n",
       "x11  0.575293  0.627224  0.514065  ...  0.307442  0.556125  0.368331   \n",
       "x12  0.436872  0.168981  0.352009  ...  1.000000  0.489650  0.515859   \n",
       "x13  0.414450  0.149698  0.376254  ...  0.489650  1.000000  0.451998   \n",
       "x14  0.399947  0.364753  0.419543  ...  0.515859  0.451998  1.000000   \n",
       "x15  0.374216  0.345772  0.415665  ...  0.431909  0.460845  0.634312   \n",
       "x17  0.096769  0.112347  0.452015  ...  0.339334  0.117906  0.816044   \n",
       "x18  0.245173  0.194363  0.442824  ...  0.127360  0.255638  0.770740   \n",
       "x19  0.289482  0.570257  0.517343  ...  0.453970  0.518984  0.672056   \n",
       "x20  0.307018  0.659975  0.484083  ...  0.418010  0.420590  0.414923   \n",
       "x21  0.673533  0.517249  0.423513  ...  0.316755  0.321104  0.418367   \n",
       "x22  0.541961  0.498616  0.457212  ...  0.299380  0.309131  0.418261   \n",
       "\n",
       "          x15       x17       x18       x19       x20       x21       x22  \n",
       "y    0.513799  0.152222  0.214212  0.602900  0.752036  0.486775  0.439323  \n",
       "x1   0.167534  0.223124  0.197883  0.206749  0.249101  0.240074  0.269842  \n",
       "x2   0.255578  0.133014  0.097278  0.223669  0.230539  0.260952  0.249577  \n",
       "x3   0.277404  0.147231  0.336128  0.557217  0.284714  0.304085  0.325199  \n",
       "x4   0.491868  0.132587  0.069373  0.768218  0.611623  0.299568  0.530257  \n",
       "x5   0.445795  0.099895  0.742250  0.696379  0.395340  0.373698  0.368861  \n",
       "x6   0.977312  0.954963  0.203183  0.249776  0.826353  0.413362  0.435707  \n",
       "x7   0.374216  0.096769  0.245173  0.289482  0.307018  0.673533  0.541961  \n",
       "x8   0.345772  0.112347  0.194363  0.570257  0.659975  0.517249  0.498616  \n",
       "x9   0.415665  0.452015  0.442824  0.517343  0.484083  0.423513  0.457212  \n",
       "x10  0.548780  0.180869  0.333291  0.614792  0.458414  0.455486  0.417101  \n",
       "x11  0.368462  0.149450  0.276846  0.442274  0.518744  0.529233  0.536186  \n",
       "x12  0.431909  0.339334  0.127360  0.453970  0.418010  0.316755  0.299380  \n",
       "x13  0.460845  0.117906  0.255638  0.518984  0.420590  0.321104  0.309131  \n",
       "x14  0.634312  0.816044  0.770740  0.672056  0.414923  0.418367  0.418261  \n",
       "x15  1.000000  0.665882  0.771267  0.664047  0.410510  0.415091  0.416822  \n",
       "x17  0.665882  1.000000  0.026509  0.092622  0.499951  0.226466  0.270233  \n",
       "x18  0.771267  0.026509  1.000000  0.713641  0.367569  0.417545  0.429743  \n",
       "x19  0.664047  0.092622  0.713641  1.000000  0.550017  0.342205  0.302604  \n",
       "x20  0.410510  0.499951  0.367569  0.550017  1.000000  0.298200  0.324531  \n",
       "x21  0.415091  0.226466  0.417545  0.342205  0.298200  1.000000  0.506176  \n",
       "x22  0.416822  0.270233  0.429743  0.302604  0.324531  0.506176  1.000000  \n",
       "\n",
       "[22 rows x 22 columns]"
      ]
     },
     "execution_count": 66,
     "metadata": {},
     "output_type": "execute_result"
    }
   ],
   "source": [
    "cat_corr = pd.DataFrame(cat_corr)\n",
    "cat_corr.columns = df.columns\n",
    "cat_corr.index = df.columns\n",
    "cat_corr"
   ]
  },
  {
   "cell_type": "code",
   "execution_count": 67,
   "id": "16482bb1",
   "metadata": {},
   "outputs": [
    {
     "data": {
      "text/plain": [
       "<AxesSubplot:>"
      ]
     },
     "execution_count": 67,
     "metadata": {},
     "output_type": "execute_result"
    },
    {
     "data": {
      "image/png": "[encoded data removed]",
      "text/plain": [
       "<Figure size 720x720 with 2 Axes>"
      ]
     },
     "metadata": {},
     "output_type": "display_data"
    }
   ],
   "source": [
    "plt.rcParams['figure.figsize'] = [10, 10]\n",
    "sns.heatmap(cat_corr)"
   ]
  },
  {
   "cell_type": "markdown",
   "id": "6cfeba40",
   "metadata": {},
   "source": [
    "# Modeling"
   ]
  },
  {
   "cell_type": "code",
   "execution_count": 83,
   "id": "9f0a6a6d",
   "metadata": {},
   "outputs": [
    {
     "data": {
      "text/html": [
       "<div>\n",
       "<style scoped>\n",
       "    .dataframe tbody tr th:only-of-type {\n",
       "        vertical-align: middle;\n",
       "    }\n",
       "\n",
       "    .dataframe tbody tr th {\n",
       "        vertical-align: top;\n",
       "    }\n",
       "\n",
       "    .dataframe thead th {\n",
       "        text-align: right;\n",
       "    }\n",
       "</style>\n",
       "<table border=\"1\" class=\"dataframe\">\n",
       "  <thead>\n",
       "    <tr style=\"text-align: right;\">\n",
       "      <th></th>\n",
       "      <th>y</th>\n",
       "      <th>x1</th>\n",
       "      <th>x2</th>\n",
       "      <th>x3</th>\n",
       "      <th>x4</th>\n",
       "      <th>x5</th>\n",
       "      <th>x6</th>\n",
       "      <th>x7</th>\n",
       "      <th>x8</th>\n",
       "      <th>x9</th>\n",
       "      <th>...</th>\n",
       "      <th>v3</th>\n",
       "      <th>v4</th>\n",
       "      <th>v5</th>\n",
       "      <th>w0</th>\n",
       "      <th>w1</th>\n",
       "      <th>w2</th>\n",
       "      <th>w3</th>\n",
       "      <th>w4</th>\n",
       "      <th>w5</th>\n",
       "      <th>w6</th>\n",
       "    </tr>\n",
       "  </thead>\n",
       "  <tbody>\n",
       "    <tr>\n",
       "      <th>0</th>\n",
       "      <td>p</td>\n",
       "      <td>x</td>\n",
       "      <td>s</td>\n",
       "      <td>n</td>\n",
       "      <td>t</td>\n",
       "      <td>p</td>\n",
       "      <td>f</td>\n",
       "      <td>c</td>\n",
       "      <td>n</td>\n",
       "      <td>k</td>\n",
       "      <td>...</td>\n",
       "      <td>1</td>\n",
       "      <td>0</td>\n",
       "      <td>0</td>\n",
       "      <td>0</td>\n",
       "      <td>0</td>\n",
       "      <td>0</td>\n",
       "      <td>0</td>\n",
       "      <td>0</td>\n",
       "      <td>1</td>\n",
       "      <td>0</td>\n",
       "    </tr>\n",
       "    <tr>\n",
       "      <th>1</th>\n",
       "      <td>e</td>\n",
       "      <td>x</td>\n",
       "      <td>s</td>\n",
       "      <td>y</td>\n",
       "      <td>t</td>\n",
       "      <td>a</td>\n",
       "      <td>f</td>\n",
       "      <td>c</td>\n",
       "      <td>b</td>\n",
       "      <td>k</td>\n",
       "      <td>...</td>\n",
       "      <td>0</td>\n",
       "      <td>0</td>\n",
       "      <td>0</td>\n",
       "      <td>0</td>\n",
       "      <td>1</td>\n",
       "      <td>0</td>\n",
       "      <td>0</td>\n",
       "      <td>0</td>\n",
       "      <td>0</td>\n",
       "      <td>0</td>\n",
       "    </tr>\n",
       "    <tr>\n",
       "      <th>2</th>\n",
       "      <td>e</td>\n",
       "      <td>b</td>\n",
       "      <td>s</td>\n",
       "      <td>w</td>\n",
       "      <td>t</td>\n",
       "      <td>l</td>\n",
       "      <td>f</td>\n",
       "      <td>c</td>\n",
       "      <td>b</td>\n",
       "      <td>n</td>\n",
       "      <td>...</td>\n",
       "      <td>0</td>\n",
       "      <td>0</td>\n",
       "      <td>0</td>\n",
       "      <td>0</td>\n",
       "      <td>0</td>\n",
       "      <td>0</td>\n",
       "      <td>1</td>\n",
       "      <td>0</td>\n",
       "      <td>0</td>\n",
       "      <td>0</td>\n",
       "    </tr>\n",
       "    <tr>\n",
       "      <th>3</th>\n",
       "      <td>p</td>\n",
       "      <td>x</td>\n",
       "      <td>y</td>\n",
       "      <td>w</td>\n",
       "      <td>t</td>\n",
       "      <td>p</td>\n",
       "      <td>f</td>\n",
       "      <td>c</td>\n",
       "      <td>n</td>\n",
       "      <td>n</td>\n",
       "      <td>...</td>\n",
       "      <td>1</td>\n",
       "      <td>0</td>\n",
       "      <td>0</td>\n",
       "      <td>0</td>\n",
       "      <td>0</td>\n",
       "      <td>0</td>\n",
       "      <td>0</td>\n",
       "      <td>0</td>\n",
       "      <td>1</td>\n",
       "      <td>0</td>\n",
       "    </tr>\n",
       "    <tr>\n",
       "      <th>4</th>\n",
       "      <td>e</td>\n",
       "      <td>x</td>\n",
       "      <td>s</td>\n",
       "      <td>g</td>\n",
       "      <td>f</td>\n",
       "      <td>n</td>\n",
       "      <td>f</td>\n",
       "      <td>w</td>\n",
       "      <td>b</td>\n",
       "      <td>k</td>\n",
       "      <td>...</td>\n",
       "      <td>0</td>\n",
       "      <td>0</td>\n",
       "      <td>0</td>\n",
       "      <td>0</td>\n",
       "      <td>1</td>\n",
       "      <td>0</td>\n",
       "      <td>0</td>\n",
       "      <td>0</td>\n",
       "      <td>0</td>\n",
       "      <td>0</td>\n",
       "    </tr>\n",
       "  </tbody>\n",
       "</table>\n",
       "<p>5 rows × 138 columns</p>\n",
       "</div>"
      ],
      "text/plain": [
       "   y x1 x2 x3 x4 x5 x6 x7 x8 x9  ... v3 v4 v5 w0 w1 w2 w3 w4 w5 w6\n",
       "0  p  x  s  n  t  p  f  c  n  k  ...  1  0  0  0  0  0  0  0  1  0\n",
       "1  e  x  s  y  t  a  f  c  b  k  ...  0  0  0  0  1  0  0  0  0  0\n",
       "2  e  b  s  w  t  l  f  c  b  n  ...  0  0  0  0  0  0  1  0  0  0\n",
       "3  p  x  y  w  t  p  f  c  n  n  ...  1  0  0  0  0  0  0  0  1  0\n",
       "4  e  x  s  g  f  n  f  w  b  k  ...  0  0  0  0  1  0  0  0  0  0\n",
       "\n",
       "[5 rows x 138 columns]"
      ]
     },
     "execution_count": 83,
     "metadata": {},
     "output_type": "execute_result"
    }
   ],
   "source": [
    "import copy\n",
    "df2 = copy.deepcopy(df)\n",
    "old_columns = df.columns\n",
    "for i in range(1,23,1):\n",
    "    if i==16:\n",
    "        continue\n",
    "    dummy_cat = pd.get_dummies(df['x'+str(i)])\n",
    "    dummy_cat.columns = [chr(ord('a')+i)+str(j) for j in range(dummy_cat.shape[1])]\n",
    "    df2 = pd.concat([df2,dummy_cat],axis=1)\n",
    "    \n",
    "df2.head()"
   ]
  },
  {
   "cell_type": "code",
   "execution_count": 84,
   "id": "4061b2dd",
   "metadata": {},
   "outputs": [
    {
     "name": "stdout",
     "output_type": "stream",
     "text": [
      "y x1 x2 x3 x4 x5 x6 x7 x8 x9 x10 x11 x12 x13 x14 x15 x17 x18 x19 x20 x21 x22 b0 b1 b2 b3 b4 b5 c0 c1 c2 c3 d0 d1 d2 d3 d4 d5 d6 d7 d8 d9 e0 e1 f0 f1 f2 f3 f4 f5 f6 f7 f8 g0 g1 h0 h1 i0 i1 j0 j1 j2 j3 j4 j5 j6 j7 j8 j9 j10 j11 k0 k1 l0 l1 l2 l3 l4 m0 m1 m2 m3 n0 n1 n2 n3 o0 o1 o2 o3 o4 o5 o6 o7 o8 p0 p1 p2 p3 p4 p5 p6 p7 p8 r0 r1 r2 r3 s0 s1 s2 t0 t1 t2 t3 t4 u0 u1 u2 u3 u4 u5 u6 u7 u8 v0 v1 v2 v3 v4 v5 w0 w1 w2 w3 w4 w5 w6 "
     ]
    }
   ],
   "source": [
    "for i in df2.columns:\n",
    "    print(i,end=' ')"
   ]
  },
  {
   "cell_type": "code",
   "execution_count": 85,
   "id": "86ed0536",
   "metadata": {},
   "outputs": [
    {
     "data": {
      "text/plain": [
       "Index(['y', 'x1', 'x2', 'x3', 'x4', 'x5', 'x6', 'x7', 'x8', 'x9', 'x10', 'x11',\n",
       "       'x12', 'x13', 'x14', 'x15', 'x17', 'x18', 'x19', 'x20', 'x21', 'x22'],\n",
       "      dtype='object')"
      ]
     },
     "execution_count": 85,
     "metadata": {},
     "output_type": "execute_result"
    }
   ],
   "source": [
    "old_columns"
   ]
  },
  {
   "cell_type": "code",
   "execution_count": 86,
   "id": "d9e69c7f",
   "metadata": {},
   "outputs": [],
   "source": [
    "X,y = np.array(df2.drop(old_columns,axis=1)), np.array(df2[\"y\"])"
   ]
  },
  {
   "cell_type": "code",
   "execution_count": 87,
   "id": "9dcec1e6",
   "metadata": {},
   "outputs": [
    {
     "data": {
      "text/plain": [
       "array([[0, 0, 0, 0, 0, 1, 0, 0, 1, 0, 0, 0, 0, 0, 1, 0, 0, 0, 0, 0, 0, 1,\n",
       "        0, 0, 0, 0, 0, 0, 1, 0, 0, 0, 1, 1, 0, 0, 1, 0, 0, 0, 0, 1, 0, 0,\n",
       "        0, 0, 0, 0, 0, 1, 0, 0, 0, 0, 1, 0, 0, 0, 1, 0, 0, 0, 1, 0, 0, 0,\n",
       "        0, 0, 0, 0, 0, 1, 0, 0, 0, 0, 0, 0, 0, 0, 1, 0, 0, 0, 1, 0, 0, 1,\n",
       "        0, 0, 0, 0, 0, 1, 0, 0, 1, 0, 0, 0, 0, 0, 0, 0, 0, 0, 1, 0, 0, 0,\n",
       "        0, 0, 0, 0, 1, 0],\n",
       "       [0, 0, 0, 0, 0, 1, 0, 0, 1, 0, 0, 0, 0, 0, 0, 0, 0, 0, 0, 1, 0, 1,\n",
       "        1, 0, 0, 0, 0, 0, 0, 0, 0, 0, 1, 1, 0, 1, 0, 0, 0, 0, 0, 1, 0, 0,\n",
       "        0, 0, 0, 0, 0, 1, 0, 0, 0, 1, 0, 0, 0, 0, 1, 0, 0, 0, 1, 0, 0, 0,\n",
       "        0, 0, 0, 0, 0, 1, 0, 0, 0, 0, 0, 0, 0, 0, 1, 0, 0, 0, 1, 0, 0, 1,\n",
       "        0, 0, 0, 0, 0, 1, 0, 0, 0, 1, 0, 0, 0, 0, 0, 0, 0, 1, 0, 0, 0, 0,\n",
       "        1, 0, 0, 0, 0, 0]], dtype=uint8)"
      ]
     },
     "execution_count": 87,
     "metadata": {},
     "output_type": "execute_result"
    }
   ],
   "source": [
    "X[0:2,:]"
   ]
  },
  {
   "cell_type": "code",
   "execution_count": 88,
   "id": "82dff988",
   "metadata": {},
   "outputs": [
    {
     "data": {
      "text/plain": [
       "(8124, 116)"
      ]
     },
     "execution_count": 88,
     "metadata": {},
     "output_type": "execute_result"
    }
   ],
   "source": [
    "X.shape"
   ]
  },
  {
   "cell_type": "code",
   "execution_count": 89,
   "id": "53fe0f63",
   "metadata": {},
   "outputs": [],
   "source": [
    "np.random.seed(1)\n",
    "train_idx=np.random.choice(8124,6124,replace=False)\n",
    "test_idx = np.array(list(set(range(8124))-set(train_idx))) #Take 2000 data as test"
   ]
  },
  {
   "cell_type": "code",
   "execution_count": 90,
   "id": "8e2ea862",
   "metadata": {},
   "outputs": [],
   "source": [
    "X_train = X[train_idx,]\n",
    "y_train = y[train_idx,]\n",
    "\n",
    "X_test = X[test_idx,]\n",
    "y_test = y[test_idx,]"
   ]
  },
  {
   "cell_type": "code",
   "execution_count": 91,
   "id": "07f0345a",
   "metadata": {},
   "outputs": [
    {
     "name": "stdout",
     "output_type": "stream",
     "text": [
      "(6124, 116)\n",
      "(2000, 116)\n",
      "(6124,)\n",
      "(2000,)\n"
     ]
    }
   ],
   "source": [
    "print(X_train.shape)\n",
    "print(X_test.shape)\n",
    "print(y_train.shape)\n",
    "print(y_test.shape)"
   ]
  },
  {
   "cell_type": "markdown",
   "id": "0063aca7",
   "metadata": {},
   "source": [
    "# 1. Logistic Regression"
   ]
  },
  {
   "cell_type": "code",
   "execution_count": 92,
   "id": "6085b663",
   "metadata": {},
   "outputs": [],
   "source": [
    "#Implement normalization for Logistic Regression\n",
    "Xn_train = X_train-np.min(X_train,axis=0)\n",
    "Xn_train = Xn_train/(np.max(X_train,axis=0)-np.min(X_train,axis=0))\n",
    "\n",
    "Xn_test = X_test-np.min(X_train,axis=0)\n",
    "Xn_test = Xn_test/(np.max(X_train,axis=0)-np.min(X_train,axis=0))"
   ]
  },
  {
   "cell_type": "code",
   "execution_count": 93,
   "id": "8311caa1",
   "metadata": {},
   "outputs": [
    {
     "data": {
      "text/plain": [
       "LogisticRegression()"
      ]
     },
     "execution_count": 93,
     "metadata": {},
     "output_type": "execute_result"
    }
   ],
   "source": [
    "from sklearn.linear_model import LogisticRegression\n",
    "model = LogisticRegression()\n",
    "model.fit(Xn_train, y_train)"
   ]
  },
  {
   "cell_type": "code",
   "execution_count": 94,
   "id": "8766743a",
   "metadata": {},
   "outputs": [
    {
     "name": "stdout",
     "output_type": "stream",
     "text": [
      "1.0\n"
     ]
    }
   ],
   "source": [
    "print(np.mean(y_test==model.predict(Xn_test))) #100%"
   ]
  },
  {
   "cell_type": "markdown",
   "id": "2f0602da",
   "metadata": {},
   "source": [
    "# 2. Random Forest"
   ]
  },
  {
   "cell_type": "code",
   "execution_count": 118,
   "id": "f5100a3d",
   "metadata": {},
   "outputs": [],
   "source": [
    "from sklearn.ensemble import RandomForestClassifier"
   ]
  },
  {
   "cell_type": "code",
   "execution_count": 119,
   "id": "ff0d4c5b",
   "metadata": {},
   "outputs": [],
   "source": [
    "rf_clf = RandomForestClassifier(n_estimators=500, criterion='gini', max_features=4, n_jobs=-1, random_state=0)\n",
    "rf_clf.fit(X_train,y_train)\n",
    "rf_pred = rf_clf.predict(X_test)"
   ]
  },
  {
   "cell_type": "code",
   "execution_count": 120,
   "id": "4afc207d",
   "metadata": {},
   "outputs": [
    {
     "data": {
      "text/plain": [
       "array(['p', 'e', 'e', ..., 'e', 'p', 'e'], dtype=object)"
      ]
     },
     "execution_count": 120,
     "metadata": {},
     "output_type": "execute_result"
    }
   ],
   "source": [
    "rf_pred"
   ]
  },
  {
   "cell_type": "code",
   "execution_count": 121,
   "id": "8a963632",
   "metadata": {},
   "outputs": [
    {
     "name": "stdout",
     "output_type": "stream",
     "text": [
      "1.0\n"
     ]
    }
   ],
   "source": [
    "print(np.mean(y_test==rf_pred))"
   ]
  },
  {
   "cell_type": "code",
   "execution_count": 122,
   "id": "6a4616ab",
   "metadata": {},
   "outputs": [],
   "source": [
    "# 튜닝\n",
    "\n",
    "param_grid = {'n_estimators':[500,1000,1500,2000],\n",
    "             'max_features':[1,2,3,4]}"
   ]
  },
  {
   "cell_type": "code",
   "execution_count": 123,
   "id": "28e2bfee",
   "metadata": {},
   "outputs": [],
   "source": [
    "from sklearn.model_selection import GridSearchCV\n",
    "\n",
    "grid_search = GridSearchCV(rf_clf,param_grid,cv=5,scoring='accuracy') "
   ]
  },
  {
   "cell_type": "code",
   "execution_count": 124,
   "id": "bff1721b",
   "metadata": {},
   "outputs": [
    {
     "data": {
      "text/plain": [
       "GridSearchCV(cv=5,\n",
       "             estimator=RandomForestClassifier(max_features=4, n_estimators=500,\n",
       "                                              n_jobs=-1, random_state=0),\n",
       "             param_grid={'max_features': [1, 2, 3, 4],\n",
       "                         'n_estimators': [500, 1000, 1500, 2000]},\n",
       "             scoring='accuracy')"
      ]
     },
     "execution_count": 124,
     "metadata": {},
     "output_type": "execute_result"
    }
   ],
   "source": [
    "grid_search.fit(X_train,y_train) "
   ]
  },
  {
   "cell_type": "code",
   "execution_count": 125,
   "id": "6d3f3012",
   "metadata": {},
   "outputs": [
    {
     "data": {
      "text/plain": [
       "{'max_features': 1, 'n_estimators': 500}"
      ]
     },
     "execution_count": 125,
     "metadata": {},
     "output_type": "execute_result"
    }
   ],
   "source": [
    "grid_search.best_params_"
   ]
  },
  {
   "cell_type": "code",
   "execution_count": 126,
   "id": "85d39726",
   "metadata": {},
   "outputs": [
    {
     "data": {
      "text/plain": [
       "1.0"
      ]
     },
     "execution_count": 126,
     "metadata": {},
     "output_type": "execute_result"
    }
   ],
   "source": [
    "grid_search.best_score_"
   ]
  },
  {
   "cell_type": "code",
   "execution_count": 127,
   "id": "95031c27",
   "metadata": {},
   "outputs": [
    {
     "data": {
      "text/html": [
       "<div>\n",
       "<style scoped>\n",
       "    .dataframe tbody tr th:only-of-type {\n",
       "        vertical-align: middle;\n",
       "    }\n",
       "\n",
       "    .dataframe tbody tr th {\n",
       "        vertical-align: top;\n",
       "    }\n",
       "\n",
       "    .dataframe thead th {\n",
       "        text-align: right;\n",
       "    }\n",
       "</style>\n",
       "<table border=\"1\" class=\"dataframe\">\n",
       "  <thead>\n",
       "    <tr style=\"text-align: right;\">\n",
       "      <th></th>\n",
       "      <th>mean_fit_time</th>\n",
       "      <th>std_fit_time</th>\n",
       "      <th>mean_score_time</th>\n",
       "      <th>std_score_time</th>\n",
       "      <th>param_max_features</th>\n",
       "      <th>param_n_estimators</th>\n",
       "      <th>params</th>\n",
       "      <th>split0_test_score</th>\n",
       "      <th>split1_test_score</th>\n",
       "      <th>split2_test_score</th>\n",
       "      <th>split3_test_score</th>\n",
       "      <th>split4_test_score</th>\n",
       "      <th>mean_test_score</th>\n",
       "      <th>std_test_score</th>\n",
       "      <th>rank_test_score</th>\n",
       "    </tr>\n",
       "  </thead>\n",
       "  <tbody>\n",
       "    <tr>\n",
       "      <th>0</th>\n",
       "      <td>0.768525</td>\n",
       "      <td>0.711031</td>\n",
       "      <td>0.073942</td>\n",
       "      <td>0.001751</td>\n",
       "      <td>1</td>\n",
       "      <td>500</td>\n",
       "      <td>{'max_features': 1, 'n_estimators': 500}</td>\n",
       "      <td>1.0</td>\n",
       "      <td>1.0</td>\n",
       "      <td>1.0</td>\n",
       "      <td>1.0</td>\n",
       "      <td>1.0</td>\n",
       "      <td>1.0</td>\n",
       "      <td>0.0</td>\n",
       "      <td>1</td>\n",
       "    </tr>\n",
       "    <tr>\n",
       "      <th>1</th>\n",
       "      <td>0.715659</td>\n",
       "      <td>0.086610</td>\n",
       "      <td>0.134187</td>\n",
       "      <td>0.002183</td>\n",
       "      <td>1</td>\n",
       "      <td>1000</td>\n",
       "      <td>{'max_features': 1, 'n_estimators': 1000}</td>\n",
       "      <td>1.0</td>\n",
       "      <td>1.0</td>\n",
       "      <td>1.0</td>\n",
       "      <td>1.0</td>\n",
       "      <td>1.0</td>\n",
       "      <td>1.0</td>\n",
       "      <td>0.0</td>\n",
       "      <td>1</td>\n",
       "    </tr>\n",
       "    <tr>\n",
       "      <th>2</th>\n",
       "      <td>0.894335</td>\n",
       "      <td>0.005205</td>\n",
       "      <td>0.199314</td>\n",
       "      <td>0.002767</td>\n",
       "      <td>1</td>\n",
       "      <td>1500</td>\n",
       "      <td>{'max_features': 1, 'n_estimators': 1500}</td>\n",
       "      <td>1.0</td>\n",
       "      <td>1.0</td>\n",
       "      <td>1.0</td>\n",
       "      <td>1.0</td>\n",
       "      <td>1.0</td>\n",
       "      <td>1.0</td>\n",
       "      <td>0.0</td>\n",
       "      <td>1</td>\n",
       "    </tr>\n",
       "    <tr>\n",
       "      <th>3</th>\n",
       "      <td>1.146692</td>\n",
       "      <td>0.031919</td>\n",
       "      <td>0.254460</td>\n",
       "      <td>0.002978</td>\n",
       "      <td>1</td>\n",
       "      <td>2000</td>\n",
       "      <td>{'max_features': 1, 'n_estimators': 2000}</td>\n",
       "      <td>1.0</td>\n",
       "      <td>1.0</td>\n",
       "      <td>1.0</td>\n",
       "      <td>1.0</td>\n",
       "      <td>1.0</td>\n",
       "      <td>1.0</td>\n",
       "      <td>0.0</td>\n",
       "      <td>1</td>\n",
       "    </tr>\n",
       "    <tr>\n",
       "      <th>4</th>\n",
       "      <td>0.412319</td>\n",
       "      <td>0.025119</td>\n",
       "      <td>0.071689</td>\n",
       "      <td>0.001716</td>\n",
       "      <td>2</td>\n",
       "      <td>500</td>\n",
       "      <td>{'max_features': 2, 'n_estimators': 500}</td>\n",
       "      <td>1.0</td>\n",
       "      <td>1.0</td>\n",
       "      <td>1.0</td>\n",
       "      <td>1.0</td>\n",
       "      <td>1.0</td>\n",
       "      <td>1.0</td>\n",
       "      <td>0.0</td>\n",
       "      <td>1</td>\n",
       "    </tr>\n",
       "  </tbody>\n",
       "</table>\n",
       "</div>"
      ],
      "text/plain": [
       "   mean_fit_time  std_fit_time  mean_score_time  std_score_time  \\\n",
       "0       0.768525      0.711031         0.073942        0.001751   \n",
       "1       0.715659      0.086610         0.134187        0.002183   \n",
       "2       0.894335      0.005205         0.199314        0.002767   \n",
       "3       1.146692      0.031919         0.254460        0.002978   \n",
       "4       0.412319      0.025119         0.071689        0.001716   \n",
       "\n",
       "  param_max_features param_n_estimators  \\\n",
       "0                  1                500   \n",
       "1                  1               1000   \n",
       "2                  1               1500   \n",
       "3                  1               2000   \n",
       "4                  2                500   \n",
       "\n",
       "                                      params  split0_test_score  \\\n",
       "0   {'max_features': 1, 'n_estimators': 500}                1.0   \n",
       "1  {'max_features': 1, 'n_estimators': 1000}                1.0   \n",
       "2  {'max_features': 1, 'n_estimators': 1500}                1.0   \n",
       "3  {'max_features': 1, 'n_estimators': 2000}                1.0   \n",
       "4   {'max_features': 2, 'n_estimators': 500}                1.0   \n",
       "\n",
       "   split1_test_score  split2_test_score  split3_test_score  split4_test_score  \\\n",
       "0                1.0                1.0                1.0                1.0   \n",
       "1                1.0                1.0                1.0                1.0   \n",
       "2                1.0                1.0                1.0                1.0   \n",
       "3                1.0                1.0                1.0                1.0   \n",
       "4                1.0                1.0                1.0                1.0   \n",
       "\n",
       "   mean_test_score  std_test_score  rank_test_score  \n",
       "0              1.0             0.0                1  \n",
       "1              1.0             0.0                1  \n",
       "2              1.0             0.0                1  \n",
       "3              1.0             0.0                1  \n",
       "4              1.0             0.0                1  "
      ]
     },
     "metadata": {},
     "output_type": "display_data"
    }
   ],
   "source": [
    "import pandas as pd\n",
    "results = pd.DataFrame(grid_search.cv_results_)\n",
    "display(results.head(5))"
   ]
  },
  {
   "cell_type": "code",
   "execution_count": 128,
   "id": "baddc4cd",
   "metadata": {},
   "outputs": [
    {
     "data": {
      "text/plain": [
       "<matplotlib.collections.PolyCollection at 0x7f968847e850>"
      ]
     },
     "execution_count": 128,
     "metadata": {},
     "output_type": "execute_result"
    },
    {
     "data": {
      "image/png": "[encoded data removed]",
      "text/plain": [
       "<Figure size 720x720 with 1 Axes>"
      ]
     },
     "metadata": {},
     "output_type": "display_data"
    }
   ],
   "source": [
    "import mglearn\n",
    "\n",
    "scores=np.array(results.mean_test_score).reshape(4,4)\n",
    "\n",
    "mglearn.tools.heatmap(scores,xlabel='n_estimators', xticklabels=param_grid['n_estimators'], ylabel='max_features',yticklabels=param_grid['max_features'],cmap='viridis')"
   ]
  },
  {
   "cell_type": "code",
   "execution_count": 129,
   "id": "68598744",
   "metadata": {},
   "outputs": [],
   "source": [
    "rft_pred = grid_search.predict(X_test)"
   ]
  },
  {
   "cell_type": "code",
   "execution_count": 130,
   "id": "10c28d1c",
   "metadata": {},
   "outputs": [
    {
     "name": "stdout",
     "output_type": "stream",
     "text": [
      "1.0\n"
     ]
    }
   ],
   "source": [
    "print(np.mean(y_test==rft_pred))"
   ]
  },
  {
   "cell_type": "markdown",
   "id": "673bac9d",
   "metadata": {},
   "source": [
    "# 3. SVM (RBF kernel)"
   ]
  },
  {
   "cell_type": "code",
   "execution_count": 131,
   "id": "f7e0a937",
   "metadata": {},
   "outputs": [],
   "source": [
    "from sklearn.svm import SVC"
   ]
  },
  {
   "cell_type": "code",
   "execution_count": 132,
   "id": "bc0cdd12",
   "metadata": {},
   "outputs": [],
   "source": [
    "#Implement normalization for svm\n",
    "Xn_train = X_train-np.min(X_train,axis=0)\n",
    "Xn_train = Xn_train/(np.max(X_train,axis=0)-np.min(X_train,axis=0))\n",
    "\n",
    "Xn_test = X_test-np.min(X_train,axis=0)\n",
    "Xn_test = Xn_test/(np.max(X_train,axis=0)-np.min(X_train,axis=0))"
   ]
  },
  {
   "cell_type": "code",
   "execution_count": 133,
   "id": "253af2a5",
   "metadata": {},
   "outputs": [],
   "source": [
    "svm_clf = SVC(kernel='rbf',C=2**-3, gamma=2**3)"
   ]
  },
  {
   "cell_type": "code",
   "execution_count": 134,
   "id": "7d834af9",
   "metadata": {},
   "outputs": [
    {
     "data": {
      "text/plain": [
       "SVC(C=0.125, gamma=8)"
      ]
     },
     "execution_count": 134,
     "metadata": {},
     "output_type": "execute_result"
    }
   ],
   "source": [
    "svm_clf.fit(Xn_train,y_train)"
   ]
  },
  {
   "cell_type": "code",
   "execution_count": 135,
   "id": "473d0a9f",
   "metadata": {},
   "outputs": [],
   "source": [
    "svm_pred = svm_clf.predict(Xn_test) "
   ]
  },
  {
   "cell_type": "code",
   "execution_count": 136,
   "id": "ba2daef7",
   "metadata": {},
   "outputs": [
    {
     "data": {
      "text/plain": [
       "array(['e', 'e', 'e', ..., 'e', 'e', 'e'], dtype=object)"
      ]
     },
     "execution_count": 136,
     "metadata": {},
     "output_type": "execute_result"
    }
   ],
   "source": [
    "svm_pred"
   ]
  },
  {
   "cell_type": "code",
   "execution_count": 137,
   "id": "e37f9f35",
   "metadata": {},
   "outputs": [
    {
     "name": "stdout",
     "output_type": "stream",
     "text": [
      "0.5195\n"
     ]
    }
   ],
   "source": [
    "print(np.mean(y_test==svm_pred))"
   ]
  },
  {
   "cell_type": "code",
   "execution_count": 138,
   "id": "ef9cd65b",
   "metadata": {},
   "outputs": [],
   "source": [
    "# 튜닝\n",
    "\n",
    "expc_list = [-5,-3,-1,1,3,5,7,9,11,13,15] \n",
    "expg_list = [-15,-13,-11,-9,-7,-5,-3,-1,1,3] \n",
    "\n",
    "param_grid = {'C':[2**i for i in expc_list],\n",
    "             'gamma':[2**i for i in expg_list]} #coarse tuning -> fine tuning"
   ]
  },
  {
   "cell_type": "code",
   "execution_count": 139,
   "id": "ea031083",
   "metadata": {},
   "outputs": [
    {
     "data": {
      "text/plain": [
       "{'C': [0.03125, 0.125, 0.5, 2, 8, 32, 128, 512, 2048, 8192, 32768],\n",
       " 'gamma': [3.0517578125e-05,\n",
       "  0.0001220703125,\n",
       "  0.00048828125,\n",
       "  0.001953125,\n",
       "  0.0078125,\n",
       "  0.03125,\n",
       "  0.125,\n",
       "  0.5,\n",
       "  2,\n",
       "  8]}"
      ]
     },
     "execution_count": 139,
     "metadata": {},
     "output_type": "execute_result"
    }
   ],
   "source": [
    "param_grid"
   ]
  },
  {
   "cell_type": "code",
   "execution_count": 140,
   "id": "a59f4d71",
   "metadata": {},
   "outputs": [],
   "source": [
    "param_grid_visual = {'C':list(np.round(np.array([2**i for i in expc_list]),3)),\n",
    "             'gamma':list(np.round(np.array([2**i for i in expg_list]),3))} #for visualization"
   ]
  },
  {
   "cell_type": "code",
   "execution_count": 141,
   "id": "9052932c",
   "metadata": {},
   "outputs": [],
   "source": [
    "from sklearn.model_selection import GridSearchCV\n",
    "\n",
    "grid_search = GridSearchCV(svm_clf,param_grid,cv=5,scoring='accuracy',n_jobs=3)"
   ]
  },
  {
   "cell_type": "code",
   "execution_count": 142,
   "id": "37b7b1c9",
   "metadata": {},
   "outputs": [
    {
     "data": {
      "text/plain": [
       "GridSearchCV(cv=5, estimator=SVC(C=0.125, gamma=8), n_jobs=3,\n",
       "             param_grid={'C': [0.03125, 0.125, 0.5, 2, 8, 32, 128, 512, 2048,\n",
       "                               8192, 32768],\n",
       "                         'gamma': [3.0517578125e-05, 0.0001220703125,\n",
       "                                   0.00048828125, 0.001953125, 0.0078125,\n",
       "                                   0.03125, 0.125, 0.5, 2, 8]},\n",
       "             scoring='accuracy')"
      ]
     },
     "execution_count": 142,
     "metadata": {},
     "output_type": "execute_result"
    }
   ],
   "source": [
    "grid_search.fit(Xn_train,y_train)"
   ]
  },
  {
   "cell_type": "code",
   "execution_count": 143,
   "id": "f633c4cc",
   "metadata": {},
   "outputs": [
    {
     "data": {
      "text/plain": [
       "{'C': 0.5, 'gamma': 0.125}"
      ]
     },
     "execution_count": 143,
     "metadata": {},
     "output_type": "execute_result"
    }
   ],
   "source": [
    "grid_search.best_params_"
   ]
  },
  {
   "cell_type": "code",
   "execution_count": 144,
   "id": "db909e59",
   "metadata": {},
   "outputs": [
    {
     "data": {
      "text/html": [
       "<div>\n",
       "<style scoped>\n",
       "    .dataframe tbody tr th:only-of-type {\n",
       "        vertical-align: middle;\n",
       "    }\n",
       "\n",
       "    .dataframe tbody tr th {\n",
       "        vertical-align: top;\n",
       "    }\n",
       "\n",
       "    .dataframe thead th {\n",
       "        text-align: right;\n",
       "    }\n",
       "</style>\n",
       "<table border=\"1\" class=\"dataframe\">\n",
       "  <thead>\n",
       "    <tr style=\"text-align: right;\">\n",
       "      <th></th>\n",
       "      <th>mean_fit_time</th>\n",
       "      <th>std_fit_time</th>\n",
       "      <th>mean_score_time</th>\n",
       "      <th>std_score_time</th>\n",
       "      <th>param_C</th>\n",
       "      <th>param_gamma</th>\n",
       "      <th>params</th>\n",
       "      <th>split0_test_score</th>\n",
       "      <th>split1_test_score</th>\n",
       "      <th>split2_test_score</th>\n",
       "      <th>split3_test_score</th>\n",
       "      <th>split4_test_score</th>\n",
       "      <th>mean_test_score</th>\n",
       "      <th>std_test_score</th>\n",
       "      <th>rank_test_score</th>\n",
       "    </tr>\n",
       "  </thead>\n",
       "  <tbody>\n",
       "    <tr>\n",
       "      <th>0</th>\n",
       "      <td>2.270437</td>\n",
       "      <td>0.028700</td>\n",
       "      <td>1.025217</td>\n",
       "      <td>0.038921</td>\n",
       "      <td>0.03125</td>\n",
       "      <td>0.000031</td>\n",
       "      <td>{'C': 0.03125, 'gamma': 3.0517578125e-05}</td>\n",
       "      <td>0.517551</td>\n",
       "      <td>0.517551</td>\n",
       "      <td>0.517551</td>\n",
       "      <td>0.517551</td>\n",
       "      <td>0.517157</td>\n",
       "      <td>0.517472</td>\n",
       "      <td>0.000158</td>\n",
       "      <td>91</td>\n",
       "    </tr>\n",
       "    <tr>\n",
       "      <th>1</th>\n",
       "      <td>2.224790</td>\n",
       "      <td>0.017294</td>\n",
       "      <td>1.062675</td>\n",
       "      <td>0.039919</td>\n",
       "      <td>0.03125</td>\n",
       "      <td>0.000122</td>\n",
       "      <td>{'C': 0.03125, 'gamma': 0.0001220703125}</td>\n",
       "      <td>0.517551</td>\n",
       "      <td>0.517551</td>\n",
       "      <td>0.517551</td>\n",
       "      <td>0.517551</td>\n",
       "      <td>0.517157</td>\n",
       "      <td>0.517472</td>\n",
       "      <td>0.000158</td>\n",
       "      <td>91</td>\n",
       "    </tr>\n",
       "    <tr>\n",
       "      <th>2</th>\n",
       "      <td>2.206335</td>\n",
       "      <td>0.015244</td>\n",
       "      <td>1.079928</td>\n",
       "      <td>0.050032</td>\n",
       "      <td>0.03125</td>\n",
       "      <td>0.000488</td>\n",
       "      <td>{'C': 0.03125, 'gamma': 0.00048828125}</td>\n",
       "      <td>0.517551</td>\n",
       "      <td>0.517551</td>\n",
       "      <td>0.517551</td>\n",
       "      <td>0.517551</td>\n",
       "      <td>0.517157</td>\n",
       "      <td>0.517472</td>\n",
       "      <td>0.000158</td>\n",
       "      <td>91</td>\n",
       "    </tr>\n",
       "    <tr>\n",
       "      <th>3</th>\n",
       "      <td>2.133459</td>\n",
       "      <td>0.024150</td>\n",
       "      <td>1.010520</td>\n",
       "      <td>0.046931</td>\n",
       "      <td>0.03125</td>\n",
       "      <td>0.001953</td>\n",
       "      <td>{'C': 0.03125, 'gamma': 0.001953125}</td>\n",
       "      <td>0.895510</td>\n",
       "      <td>0.899592</td>\n",
       "      <td>0.885714</td>\n",
       "      <td>0.894694</td>\n",
       "      <td>0.912582</td>\n",
       "      <td>0.897618</td>\n",
       "      <td>0.008746</td>\n",
       "      <td>86</td>\n",
       "    </tr>\n",
       "    <tr>\n",
       "      <th>4</th>\n",
       "      <td>1.173254</td>\n",
       "      <td>0.020725</td>\n",
       "      <td>0.533939</td>\n",
       "      <td>0.021933</td>\n",
       "      <td>0.03125</td>\n",
       "      <td>0.007812</td>\n",
       "      <td>{'C': 0.03125, 'gamma': 0.0078125}</td>\n",
       "      <td>0.907755</td>\n",
       "      <td>0.914286</td>\n",
       "      <td>0.893878</td>\n",
       "      <td>0.910204</td>\n",
       "      <td>0.929739</td>\n",
       "      <td>0.911172</td>\n",
       "      <td>0.011542</td>\n",
       "      <td>85</td>\n",
       "    </tr>\n",
       "  </tbody>\n",
       "</table>\n",
       "</div>"
      ],
      "text/plain": [
       "   mean_fit_time  std_fit_time  mean_score_time  std_score_time  param_C  \\\n",
       "0       2.270437      0.028700         1.025217        0.038921  0.03125   \n",
       "1       2.224790      0.017294         1.062675        0.039919  0.03125   \n",
       "2       2.206335      0.015244         1.079928        0.050032  0.03125   \n",
       "3       2.133459      0.024150         1.010520        0.046931  0.03125   \n",
       "4       1.173254      0.020725         0.533939        0.021933  0.03125   \n",
       "\n",
       "  param_gamma                                     params  split0_test_score  \\\n",
       "0    0.000031  {'C': 0.03125, 'gamma': 3.0517578125e-05}           0.517551   \n",
       "1    0.000122   {'C': 0.03125, 'gamma': 0.0001220703125}           0.517551   \n",
       "2    0.000488     {'C': 0.03125, 'gamma': 0.00048828125}           0.517551   \n",
       "3    0.001953       {'C': 0.03125, 'gamma': 0.001953125}           0.895510   \n",
       "4    0.007812         {'C': 0.03125, 'gamma': 0.0078125}           0.907755   \n",
       "\n",
       "   split1_test_score  split2_test_score  split3_test_score  split4_test_score  \\\n",
       "0           0.517551           0.517551           0.517551           0.517157   \n",
       "1           0.517551           0.517551           0.517551           0.517157   \n",
       "2           0.517551           0.517551           0.517551           0.517157   \n",
       "3           0.899592           0.885714           0.894694           0.912582   \n",
       "4           0.914286           0.893878           0.910204           0.929739   \n",
       "\n",
       "   mean_test_score  std_test_score  rank_test_score  \n",
       "0         0.517472        0.000158               91  \n",
       "1         0.517472        0.000158               91  \n",
       "2         0.517472        0.000158               91  \n",
       "3         0.897618        0.008746               86  \n",
       "4         0.911172        0.011542               85  "
      ]
     },
     "metadata": {},
     "output_type": "display_data"
    }
   ],
   "source": [
    "import pandas as pd\n",
    "results = pd.DataFrame(grid_search.cv_results_)\n",
    "display(results.head(5))"
   ]
  },
  {
   "cell_type": "code",
   "execution_count": 145,
   "id": "87b20e9d",
   "metadata": {},
   "outputs": [
    {
     "data": {
      "text/plain": [
       "<matplotlib.collections.PolyCollection at 0x7f96a9147760>"
      ]
     },
     "execution_count": 145,
     "metadata": {},
     "output_type": "execute_result"
    },
    {
     "data": {
      "image/png": "[encoded data removed]",
      "text/plain": [
       "<Figure size 720x720 with 1 Axes>"
      ]
     },
     "metadata": {
      "needs_background": "light"
     },
     "output_type": "display_data"
    }
   ],
   "source": [
    "import mglearn\n",
    "\n",
    "%matplotlib inline\n",
    "import matplotlib.pylab as plt\n",
    "\n",
    "plt.rcParams[\"figure.figsize\"] = (10,10)\n",
    "plt.rcParams['lines.linewidth'] = 2\n",
    "plt.rcParams['lines.color'] = 'r'\n",
    "plt.rcParams['axes.grid'] = True \n",
    "\n",
    "scores=np.array(results.mean_test_score).reshape(11,10)\n",
    "\n",
    "mglearn.tools.heatmap(scores,xlabel='gamma', xticklabels=param_grid_visual['gamma'], ylabel='C',yticklabels=param_grid_visual['C'],cmap='viridis')"
   ]
  },
  {
   "cell_type": "code",
   "execution_count": 146,
   "id": "5a28a2b3",
   "metadata": {},
   "outputs": [],
   "source": [
    "svmt_pred = grid_search.predict(Xn_test)"
   ]
  },
  {
   "cell_type": "code",
   "execution_count": 147,
   "id": "bbca9a31",
   "metadata": {},
   "outputs": [
    {
     "data": {
      "text/plain": [
       "array(['p', 'e', 'e', ..., 'e', 'p', 'e'], dtype=object)"
      ]
     },
     "execution_count": 147,
     "metadata": {},
     "output_type": "execute_result"
    }
   ],
   "source": [
    "svmt_pred"
   ]
  },
  {
   "cell_type": "code",
   "execution_count": 148,
   "id": "f2255f6a",
   "metadata": {},
   "outputs": [
    {
     "name": "stdout",
     "output_type": "stream",
     "text": [
      "1.0\n"
     ]
    }
   ],
   "source": [
    "print(np.mean(y_test==svmt_pred))"
   ]
  },
  {
   "cell_type": "markdown",
   "id": "713c52d6",
   "metadata": {},
   "source": [
    "# 4. XGBoost"
   ]
  },
  {
   "cell_type": "code",
   "execution_count": 221,
   "id": "a2e42ad1",
   "metadata": {},
   "outputs": [],
   "source": [
    "#Import libraries:\n",
    "import pandas as pd\n",
    "import numpy as np\n",
    "import xgboost as xgb\n",
    "from xgboost.sklearn import XGBClassifier\n",
    "from sklearn.model_selection import train_test_split\n",
    "from sklearn import metrics   #Additional scklearn functions\n",
    "\n",
    "import matplotlib.pylab as plt\n",
    "%matplotlib inline\n",
    "from matplotlib.pylab import rcParams\n",
    "rcParams['figure.figsize'] = 12, 4"
   ]
  },
  {
   "cell_type": "code",
   "execution_count": 222,
   "id": "e5ffea33",
   "metadata": {},
   "outputs": [],
   "source": [
    "def modelfit(alg, dtrain, predictors,useTrainCV=True, cv_folds=5, early_stopping_rounds=50): #find the best n_estimators\n",
    "    \n",
    "    if useTrainCV:\n",
    "        xgb_param = alg.get_xgb_params()\n",
    "        xgtrain = xgb.DMatrix(dtrain[predictors].values, label=dtrain[target].values)\n",
    "        cvresult = xgb.cv(xgb_param, xgtrain, num_boost_round=alg.get_params()['n_estimators'], nfold=cv_folds,\n",
    "            metrics='auc',early_stopping_rounds=early_stopping_rounds)\n",
    "        alg.set_params(n_estimators=cvresult.shape[0])\n",
    "    \n",
    "    #print the best n_estimators\n",
    "    #print(cvresult)\n",
    "    print(\"n_estimators:\", cvresult.shape[0])"
   ]
  },
  {
   "cell_type": "code",
   "execution_count": 223,
   "id": "1c3cf9f9",
   "metadata": {},
   "outputs": [],
   "source": [
    "import xgboost as xgb \n",
    "from xgboost.sklearn import XGBClassifier\n",
    "xgb_clf= xgb.XGBClassifier( #just arbitrary xgboost\n",
    "    learning_rate=0.1,\n",
    "    n_estimators=1000,\n",
    "    max_depth=5,\n",
    "    min_child_weight=1,\n",
    "    gamma=0,\n",
    "    subsample=0.8,\n",
    "    colsample_bytree=0.8,\n",
    "    objective='binary:logistic',\n",
    "    nthread=3,\n",
    "    scale_pos_weight=1, #it is for binary classification.\n",
    "    use_label_encoder=False,\n",
    "    seed=1\n",
    "    )"
   ]
  },
  {
   "cell_type": "code",
   "execution_count": 224,
   "id": "85f51694",
   "metadata": {},
   "outputs": [
    {
     "name": "stdout",
     "output_type": "stream",
     "text": [
      "   y x1 x2 x3 x4 x5 x6 x7 x8 x9  ... v3 v4 v5 w0 w1 w2 w3 w4 w5 w6\n",
      "0  0  f  s  w  f  n  f  w  b  h  ...  0  0  0  0  1  0  0  0  0  0\n",
      "1  1  x  f  p  f  c  f  w  n  u  ...  0  1  0  1  0  0  0  0  0  0\n",
      "2  1  x  s  w  f  c  f  w  n  g  ...  0  1  0  1  0  0  0  0  0  0\n",
      "3  1  k  s  n  f  f  f  c  n  b  ...  0  1  0  0  0  1  0  0  0  0\n",
      "4  0  x  y  y  t  a  f  c  b  n  ...  0  0  1  0  0  0  0  1  0  0\n",
      "\n",
      "[5 rows x 138 columns]\n"
     ]
    },
    {
     "name": "stderr",
     "output_type": "stream",
     "text": [
      "<ipython-input-224-d9807ccd921f>:4: SettingWithCopyWarning: \n",
      "A value is trying to be set on a copy of a slice from a DataFrame.\n",
      "Try using .loc[row_indexer,col_indexer] = value instead\n",
      "\n",
      "See the caveats in the documentation: https://pandas.pydata.org/pandas-docs/stable/user_guide/indexing.html#returning-a-view-versus-a-copy\n",
      "  train['y']=pd.Series(train['y'].map(lambda x: 0 if x==\"e\" else 1))\n"
     ]
    }
   ],
   "source": [
    "#make new format of train set for xgboost\n",
    "train=df2.iloc[train_idx,]\n",
    "train.reset_index(drop=True,inplace=True)\n",
    "train['y']=pd.Series(train['y'].map(lambda x: 0 if x==\"e\" else 1))\n",
    "print(train.head())"
   ]
  },
  {
   "cell_type": "code",
   "execution_count": 225,
   "id": "e2c80752",
   "metadata": {},
   "outputs": [
    {
     "data": {
      "text/plain": [
       "(6124, 138)"
      ]
     },
     "execution_count": 225,
     "metadata": {},
     "output_type": "execute_result"
    }
   ],
   "source": [
    "train.shape"
   ]
  },
  {
   "cell_type": "code",
   "execution_count": 226,
   "id": "77d71366",
   "metadata": {},
   "outputs": [
    {
     "name": "stdout",
     "output_type": "stream",
     "text": [
      "   y x1 x2 x3 x4 x5 x6 x7 x8 x9  ... v3 v4 v5 w0 w1 w2 w3 w4 w5 w6\n",
      "0  1  x  s  n  t  p  f  c  n  k  ...  1  0  0  0  0  0  0  0  1  0\n",
      "1  0  b  s  w  t  l  f  c  b  n  ...  0  0  0  0  0  0  1  0  0  0\n",
      "2  0  x  f  n  f  n  f  w  b  n  ...  0  0  0  0  1  0  0  0  0  0\n",
      "3  0  s  f  g  f  n  f  c  n  k  ...  0  0  1  0  0  0  0  0  1  0\n",
      "4  1  x  y  w  t  p  f  c  n  n  ...  1  0  0  0  0  0  0  0  1  0\n",
      "\n",
      "[5 rows x 138 columns]\n"
     ]
    },
    {
     "name": "stderr",
     "output_type": "stream",
     "text": [
      "<ipython-input-226-06d49533f12e>:4: SettingWithCopyWarning: \n",
      "A value is trying to be set on a copy of a slice from a DataFrame.\n",
      "Try using .loc[row_indexer,col_indexer] = value instead\n",
      "\n",
      "See the caveats in the documentation: https://pandas.pydata.org/pandas-docs/stable/user_guide/indexing.html#returning-a-view-versus-a-copy\n",
      "  test['y']=pd.Series(test['y'].map(lambda x: 0 if x==\"e\" else 1))\n"
     ]
    }
   ],
   "source": [
    "#make new format of test set for xgboost\n",
    "test=df2.iloc[test_idx,]\n",
    "test.reset_index(drop=True,inplace=True)\n",
    "test['y']=pd.Series(test['y'].map(lambda x: 0 if x==\"e\" else 1))\n",
    "print(test.head())"
   ]
  },
  {
   "cell_type": "code",
   "execution_count": 227,
   "id": "04064bcb",
   "metadata": {},
   "outputs": [
    {
     "data": {
      "text/plain": [
       "(2000, 138)"
      ]
     },
     "execution_count": 227,
     "metadata": {},
     "output_type": "execute_result"
    }
   ],
   "source": [
    "test.shape"
   ]
  },
  {
   "cell_type": "code",
   "execution_count": 228,
   "id": "32347103",
   "metadata": {},
   "outputs": [],
   "source": [
    "target = 'y'\n",
    "predictors = list(set(df2.columns) - set(['y']+['x'+str(i) for i in range(1,23,1)]))"
   ]
  },
  {
   "cell_type": "code",
   "execution_count": 229,
   "id": "60df8208",
   "metadata": {},
   "outputs": [
    {
     "data": {
      "text/plain": [
       "116"
      ]
     },
     "execution_count": 229,
     "metadata": {},
     "output_type": "execute_result"
    }
   ],
   "source": [
    "len(predictors)"
   ]
  },
  {
   "cell_type": "code",
   "execution_count": 230,
   "id": "9f40beb6",
   "metadata": {},
   "outputs": [],
   "source": [
    "xgb_clf.fit(train[predictors],train[target],eval_metric='auc')\n",
    "xgb_pred=xgb_clf.predict(test[predictors])"
   ]
  },
  {
   "cell_type": "code",
   "execution_count": 231,
   "id": "76d45e93",
   "metadata": {},
   "outputs": [
    {
     "name": "stdout",
     "output_type": "stream",
     "text": [
      "1.0\n"
     ]
    }
   ],
   "source": [
    "print(np.mean(test['y']==xgb_pred))"
   ]
  }
 ],
 "metadata": {
  "kernelspec": {
   "display_name": "Python 3",
   "language": "python",
   "name": "python3"
  },
  "language_info": {
   "codemirror_mode": {
    "name": "ipython",
    "version": 3
   },
   "file_extension": ".py",
   "mimetype": "text/x-python",
   "name": "python",
   "nbconvert_exporter": "python",
   "pygments_lexer": "ipython3",
   "version": "3.8.8"
  }
 },
 "nbformat": 4,
 "nbformat_minor": 5
}
