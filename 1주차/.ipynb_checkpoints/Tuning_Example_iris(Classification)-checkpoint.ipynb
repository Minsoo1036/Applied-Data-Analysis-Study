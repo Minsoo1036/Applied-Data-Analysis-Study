{
 "cells": [
  {
   "cell_type": "markdown",
   "id": "109d0028",
   "metadata": {},
   "source": [
    "# Tuning ML models (classification / iris data)"
   ]
  },
  {
   "cell_type": "code",
   "execution_count": 244,
   "id": "b6574851",
   "metadata": {},
   "outputs": [],
   "source": [
    "import pandas as pd\n",
    "import numpy as np\n",
    "import seaborn as sns\n",
    "pd.set_option('display.max_rows',None)"
   ]
  },
  {
   "cell_type": "code",
   "execution_count": 245,
   "id": "c876d0d9",
   "metadata": {},
   "outputs": [],
   "source": [
    "df=pd.read_csv(\"iris.txt\",header=None)"
   ]
  },
  {
   "cell_type": "code",
   "execution_count": 246,
   "id": "caca190d",
   "metadata": {},
   "outputs": [
    {
     "data": {
      "text/html": [
       "<div>\n",
       "<style scoped>\n",
       "    .dataframe tbody tr th:only-of-type {\n",
       "        vertical-align: middle;\n",
       "    }\n",
       "\n",
       "    .dataframe tbody tr th {\n",
       "        vertical-align: top;\n",
       "    }\n",
       "\n",
       "    .dataframe thead th {\n",
       "        text-align: right;\n",
       "    }\n",
       "</style>\n",
       "<table border=\"1\" class=\"dataframe\">\n",
       "  <thead>\n",
       "    <tr style=\"text-align: right;\">\n",
       "      <th></th>\n",
       "      <th>0</th>\n",
       "      <th>1</th>\n",
       "      <th>2</th>\n",
       "      <th>3</th>\n",
       "      <th>4</th>\n",
       "    </tr>\n",
       "  </thead>\n",
       "  <tbody>\n",
       "    <tr>\n",
       "      <th>0</th>\n",
       "      <td>5.1</td>\n",
       "      <td>3.5</td>\n",
       "      <td>1.4</td>\n",
       "      <td>0.2</td>\n",
       "      <td>Iris-setosa</td>\n",
       "    </tr>\n",
       "    <tr>\n",
       "      <th>1</th>\n",
       "      <td>4.9</td>\n",
       "      <td>3.0</td>\n",
       "      <td>1.4</td>\n",
       "      <td>0.2</td>\n",
       "      <td>Iris-setosa</td>\n",
       "    </tr>\n",
       "    <tr>\n",
       "      <th>2</th>\n",
       "      <td>4.7</td>\n",
       "      <td>3.2</td>\n",
       "      <td>1.3</td>\n",
       "      <td>0.2</td>\n",
       "      <td>Iris-setosa</td>\n",
       "    </tr>\n",
       "    <tr>\n",
       "      <th>3</th>\n",
       "      <td>4.6</td>\n",
       "      <td>3.1</td>\n",
       "      <td>1.5</td>\n",
       "      <td>0.2</td>\n",
       "      <td>Iris-setosa</td>\n",
       "    </tr>\n",
       "    <tr>\n",
       "      <th>4</th>\n",
       "      <td>5.0</td>\n",
       "      <td>3.6</td>\n",
       "      <td>1.4</td>\n",
       "      <td>0.2</td>\n",
       "      <td>Iris-setosa</td>\n",
       "    </tr>\n",
       "  </tbody>\n",
       "</table>\n",
       "</div>"
      ],
      "text/plain": [
       "     0    1    2    3            4\n",
       "0  5.1  3.5  1.4  0.2  Iris-setosa\n",
       "1  4.9  3.0  1.4  0.2  Iris-setosa\n",
       "2  4.7  3.2  1.3  0.2  Iris-setosa\n",
       "3  4.6  3.1  1.5  0.2  Iris-setosa\n",
       "4  5.0  3.6  1.4  0.2  Iris-setosa"
      ]
     },
     "execution_count": 246,
     "metadata": {},
     "output_type": "execute_result"
    }
   ],
   "source": [
    "df.head()"
   ]
  },
  {
   "cell_type": "code",
   "execution_count": 247,
   "id": "70be8b93",
   "metadata": {},
   "outputs": [],
   "source": [
    "df.columns = [\"x1\",\"x2\",\"x3\",\"x4\",\"y\"]"
   ]
  },
  {
   "cell_type": "code",
   "execution_count": 248,
   "id": "667b4bde",
   "metadata": {},
   "outputs": [
    {
     "data": {
      "text/html": [
       "<div>\n",
       "<style scoped>\n",
       "    .dataframe tbody tr th:only-of-type {\n",
       "        vertical-align: middle;\n",
       "    }\n",
       "\n",
       "    .dataframe tbody tr th {\n",
       "        vertical-align: top;\n",
       "    }\n",
       "\n",
       "    .dataframe thead th {\n",
       "        text-align: right;\n",
       "    }\n",
       "</style>\n",
       "<table border=\"1\" class=\"dataframe\">\n",
       "  <thead>\n",
       "    <tr style=\"text-align: right;\">\n",
       "      <th></th>\n",
       "      <th>x1</th>\n",
       "      <th>x2</th>\n",
       "      <th>x3</th>\n",
       "      <th>x4</th>\n",
       "      <th>y</th>\n",
       "    </tr>\n",
       "  </thead>\n",
       "  <tbody>\n",
       "    <tr>\n",
       "      <th>0</th>\n",
       "      <td>5.1</td>\n",
       "      <td>3.5</td>\n",
       "      <td>1.4</td>\n",
       "      <td>0.2</td>\n",
       "      <td>Iris-setosa</td>\n",
       "    </tr>\n",
       "    <tr>\n",
       "      <th>1</th>\n",
       "      <td>4.9</td>\n",
       "      <td>3.0</td>\n",
       "      <td>1.4</td>\n",
       "      <td>0.2</td>\n",
       "      <td>Iris-setosa</td>\n",
       "    </tr>\n",
       "    <tr>\n",
       "      <th>2</th>\n",
       "      <td>4.7</td>\n",
       "      <td>3.2</td>\n",
       "      <td>1.3</td>\n",
       "      <td>0.2</td>\n",
       "      <td>Iris-setosa</td>\n",
       "    </tr>\n",
       "    <tr>\n",
       "      <th>3</th>\n",
       "      <td>4.6</td>\n",
       "      <td>3.1</td>\n",
       "      <td>1.5</td>\n",
       "      <td>0.2</td>\n",
       "      <td>Iris-setosa</td>\n",
       "    </tr>\n",
       "    <tr>\n",
       "      <th>4</th>\n",
       "      <td>5.0</td>\n",
       "      <td>3.6</td>\n",
       "      <td>1.4</td>\n",
       "      <td>0.2</td>\n",
       "      <td>Iris-setosa</td>\n",
       "    </tr>\n",
       "  </tbody>\n",
       "</table>\n",
       "</div>"
      ],
      "text/plain": [
       "    x1   x2   x3   x4            y\n",
       "0  5.1  3.5  1.4  0.2  Iris-setosa\n",
       "1  4.9  3.0  1.4  0.2  Iris-setosa\n",
       "2  4.7  3.2  1.3  0.2  Iris-setosa\n",
       "3  4.6  3.1  1.5  0.2  Iris-setosa\n",
       "4  5.0  3.6  1.4  0.2  Iris-setosa"
      ]
     },
     "execution_count": 248,
     "metadata": {},
     "output_type": "execute_result"
    }
   ],
   "source": [
    "df.head()"
   ]
  },
  {
   "cell_type": "code",
   "execution_count": 249,
   "id": "fdcb7971",
   "metadata": {},
   "outputs": [
    {
     "name": "stdout",
     "output_type": "stream",
     "text": [
      "<class 'pandas.core.frame.DataFrame'>\n",
      "RangeIndex: 150 entries, 0 to 149\n",
      "Data columns (total 5 columns):\n",
      " #   Column  Non-Null Count  Dtype  \n",
      "---  ------  --------------  -----  \n",
      " 0   x1      150 non-null    float64\n",
      " 1   x2      150 non-null    float64\n",
      " 2   x3      150 non-null    float64\n",
      " 3   x4      150 non-null    float64\n",
      " 4   y       150 non-null    object \n",
      "dtypes: float64(4), object(1)\n",
      "memory usage: 6.0+ KB\n"
     ]
    }
   ],
   "source": [
    "df.info()"
   ]
  },
  {
   "cell_type": "code",
   "execution_count": 250,
   "id": "11aeb3a4",
   "metadata": {},
   "outputs": [
    {
     "data": {
      "text/plain": [
       "<AxesSubplot:xlabel='y', ylabel='x1'>"
      ]
     },
     "execution_count": 250,
     "metadata": {},
     "output_type": "execute_result"
    },
    {
     "data": {
      "image/png": "[encoded data removed]",
      "text/plain": [
       "<Figure size 864x288 with 1 Axes>"
      ]
     },
     "metadata": {
      "needs_background": "light"
     },
     "output_type": "display_data"
    }
   ],
   "source": [
    "sns.barplot(x='y', y='x1', data=df)"
   ]
  },
  {
   "cell_type": "code",
   "execution_count": 251,
   "id": "7f4b4bca",
   "metadata": {},
   "outputs": [
    {
     "data": {
      "text/plain": [
       "<AxesSubplot:xlabel='y', ylabel='x2'>"
      ]
     },
     "execution_count": 251,
     "metadata": {},
     "output_type": "execute_result"
    },
    {
     "data": {
      "image/png": "[encoded data removed]",
      "text/plain": [
       "<Figure size 864x288 with 1 Axes>"
      ]
     },
     "metadata": {
      "needs_background": "light"
     },
     "output_type": "display_data"
    }
   ],
   "source": [
    "sns.barplot(x='y', y='x2', data=df)"
   ]
  },
  {
   "cell_type": "code",
   "execution_count": 252,
   "id": "a35542b7",
   "metadata": {},
   "outputs": [
    {
     "data": {
      "text/plain": [
       "<AxesSubplot:xlabel='y', ylabel='x3'>"
      ]
     },
     "execution_count": 252,
     "metadata": {},
     "output_type": "execute_result"
    },
    {
     "data": {
      "image/png": "[encoded data removed]",
      "text/plain": [
       "<Figure size 864x288 with 1 Axes>"
      ]
     },
     "metadata": {
      "needs_background": "light"
     },
     "output_type": "display_data"
    }
   ],
   "source": [
    "sns.barplot(x='y', y='x3', data=df)"
   ]
  },
  {
   "cell_type": "code",
   "execution_count": 253,
   "id": "212ee60e",
   "metadata": {},
   "outputs": [
    {
     "data": {
      "text/plain": [
       "<AxesSubplot:xlabel='y', ylabel='x4'>"
      ]
     },
     "execution_count": 253,
     "metadata": {},
     "output_type": "execute_result"
    },
    {
     "data": {
      "image/png": "[encoded data removed]",
      "text/plain": [
       "<Figure size 864x288 with 1 Axes>"
      ]
     },
     "metadata": {
      "needs_background": "light"
     },
     "output_type": "display_data"
    }
   ],
   "source": [
    "sns.barplot(x='y', y='x4', data=df)"
   ]
  },
  {
   "cell_type": "markdown",
   "id": "ed69b582",
   "metadata": {},
   "source": [
    "# Modeling"
   ]
  },
  {
   "cell_type": "code",
   "execution_count": 254,
   "id": "a1b1a093",
   "metadata": {},
   "outputs": [],
   "source": [
    "cols = ['x1','x2','x3','x4']\n",
    "X,y = np.array(df[cols]), np.array(df[\"y\"])"
   ]
  },
  {
   "cell_type": "code",
   "execution_count": 255,
   "id": "e6b24c19",
   "metadata": {},
   "outputs": [
    {
     "data": {
      "text/plain": [
       "array([[5.1, 3.5, 1.4, 0.2],\n",
       "       [4.9, 3. , 1.4, 0.2]])"
      ]
     },
     "execution_count": 255,
     "metadata": {},
     "output_type": "execute_result"
    }
   ],
   "source": [
    "X[0:2,:]"
   ]
  },
  {
   "cell_type": "code",
   "execution_count": 256,
   "id": "67c7911b",
   "metadata": {},
   "outputs": [
    {
     "data": {
      "text/plain": [
       "(150, 4)"
      ]
     },
     "execution_count": 256,
     "metadata": {},
     "output_type": "execute_result"
    }
   ],
   "source": [
    "X.shape"
   ]
  },
  {
   "cell_type": "code",
   "execution_count": 257,
   "id": "16ecb943",
   "metadata": {},
   "outputs": [],
   "source": [
    "np.random.seed(1)\n",
    "train_idx=np.random.choice(150,120,replace=False)\n",
    "test_idx = np.array(list(set(range(150))-set(train_idx))) #Take 30 data as test"
   ]
  },
  {
   "cell_type": "code",
   "execution_count": 258,
   "id": "60be9fc0",
   "metadata": {},
   "outputs": [],
   "source": [
    "X_train = X[train_idx,]\n",
    "y_train = y[train_idx,]\n",
    "\n",
    "X_test = X[test_idx,]\n",
    "y_test = y[test_idx,]"
   ]
  },
  {
   "cell_type": "code",
   "execution_count": 259,
   "id": "374578b3",
   "metadata": {},
   "outputs": [
    {
     "name": "stdout",
     "output_type": "stream",
     "text": [
      "(120, 4)\n",
      "(30, 4)\n",
      "(120,)\n",
      "(30,)\n"
     ]
    }
   ],
   "source": [
    "print(X_train.shape)\n",
    "print(X_test.shape)\n",
    "print(y_train.shape)\n",
    "print(y_test.shape)"
   ]
  },
  {
   "cell_type": "markdown",
   "id": "0f34ee6c",
   "metadata": {},
   "source": [
    "# 1. Logistic Regression"
   ]
  },
  {
   "cell_type": "code",
   "execution_count": 260,
   "id": "3f78e94f",
   "metadata": {},
   "outputs": [],
   "source": [
    "#Implement normalization for Logistic Regression\n",
    "Xn_train = X_train-np.min(X_train,axis=0)\n",
    "Xn_train = Xn_train/(np.max(X_train,axis=0)-np.min(X_train,axis=0))\n",
    "\n",
    "Xn_test = X_test-np.min(X_train,axis=0)\n",
    "Xn_test = Xn_test/(np.max(X_train,axis=0)-np.min(X_train,axis=0))"
   ]
  },
  {
   "cell_type": "code",
   "execution_count": 261,
   "id": "cbdf547d",
   "metadata": {},
   "outputs": [
    {
     "data": {
      "text/plain": [
       "LogisticRegression(multi_class='multinomial')"
      ]
     },
     "execution_count": 261,
     "metadata": {},
     "output_type": "execute_result"
    }
   ],
   "source": [
    "from sklearn.linear_model import LogisticRegression\n",
    "model = LogisticRegression(multi_class='multinomial',solver='lbfgs')\n",
    "model.fit(Xn_train,y_train)"
   ]
  },
  {
   "cell_type": "code",
   "execution_count": 262,
   "id": "e344a497",
   "metadata": {},
   "outputs": [
    {
     "name": "stdout",
     "output_type": "stream",
     "text": [
      "0.8666666666666667\n"
     ]
    }
   ],
   "source": [
    "print(np.mean(y_test==model.predict(Xn_test)))"
   ]
  },
  {
   "cell_type": "markdown",
   "id": "b27b5f64",
   "metadata": {},
   "source": [
    "# 2. RandomForest"
   ]
  },
  {
   "cell_type": "code",
   "execution_count": 263,
   "id": "b2ab38cb",
   "metadata": {},
   "outputs": [],
   "source": [
    "from sklearn.ensemble import RandomForestClassifier"
   ]
  },
  {
   "cell_type": "code",
   "execution_count": 264,
   "id": "23b96063",
   "metadata": {},
   "outputs": [],
   "source": [
    "rf_clf = RandomForestClassifier(n_estimators=500, criterion='gini', max_features=4, n_jobs=-1, random_state=0)\n",
    "rf_clf.fit(X_train,y_train)\n",
    "rf_pred = rf_clf.predict(X_test)"
   ]
  },
  {
   "cell_type": "code",
   "execution_count": 265,
   "id": "a7feaa16",
   "metadata": {},
   "outputs": [
    {
     "data": {
      "text/plain": [
       "array(['Iris-setosa', 'Iris-setosa', 'Iris-versicolor', 'Iris-versicolor',\n",
       "       'Iris-versicolor', 'Iris-setosa', 'Iris-setosa', 'Iris-virginica',\n",
       "       'Iris-virginica', 'Iris-setosa', 'Iris-setosa', 'Iris-setosa',\n",
       "       'Iris-setosa', 'Iris-setosa', 'Iris-setosa', 'Iris-versicolor',\n",
       "       'Iris-versicolor', 'Iris-versicolor', 'Iris-versicolor',\n",
       "       'Iris-versicolor', 'Iris-versicolor', 'Iris-versicolor',\n",
       "       'Iris-versicolor', 'Iris-versicolor', 'Iris-versicolor',\n",
       "       'Iris-versicolor', 'Iris-versicolor', 'Iris-versicolor',\n",
       "       'Iris-virginica', 'Iris-virginica'], dtype=object)"
      ]
     },
     "execution_count": 265,
     "metadata": {},
     "output_type": "execute_result"
    }
   ],
   "source": [
    "rf_pred"
   ]
  },
  {
   "cell_type": "code",
   "execution_count": 266,
   "id": "635546e0",
   "metadata": {},
   "outputs": [
    {
     "name": "stdout",
     "output_type": "stream",
     "text": [
      "0.9\n"
     ]
    }
   ],
   "source": [
    "print(np.mean(y_test==rf_pred))"
   ]
  },
  {
   "cell_type": "code",
   "execution_count": 267,
   "id": "09a5fbdf",
   "metadata": {},
   "outputs": [],
   "source": [
    "# 튜닝\n",
    "\n",
    "param_grid = {'n_estimators':[500,1000,1500,2000],\n",
    "             'max_features':[1,2,3,4]}"
   ]
  },
  {
   "cell_type": "code",
   "execution_count": 268,
   "id": "94d345ec",
   "metadata": {},
   "outputs": [],
   "source": [
    "from sklearn.model_selection import GridSearchCV\n",
    "\n",
    "grid_search = GridSearchCV(rf_clf,param_grid,cv=5,scoring='accuracy') "
   ]
  },
  {
   "cell_type": "code",
   "execution_count": 269,
   "id": "a4a152ba",
   "metadata": {},
   "outputs": [
    {
     "data": {
      "text/plain": [
       "GridSearchCV(cv=5,\n",
       "             estimator=RandomForestClassifier(max_features=4, n_estimators=500,\n",
       "                                              n_jobs=-1, random_state=0),\n",
       "             param_grid={'max_features': [1, 2, 3, 4],\n",
       "                         'n_estimators': [500, 1000, 1500, 2000]},\n",
       "             scoring='accuracy')"
      ]
     },
     "execution_count": 269,
     "metadata": {},
     "output_type": "execute_result"
    }
   ],
   "source": [
    "grid_search.fit(X_train,y_train) "
   ]
  },
  {
   "cell_type": "code",
   "execution_count": 270,
   "id": "ec064126",
   "metadata": {
    "scrolled": true
   },
   "outputs": [
    {
     "data": {
      "text/plain": [
       "{'max_features': 2, 'n_estimators': 500}"
      ]
     },
     "execution_count": 270,
     "metadata": {},
     "output_type": "execute_result"
    }
   ],
   "source": [
    "grid_search.best_params_"
   ]
  },
  {
   "cell_type": "code",
   "execution_count": 271,
   "id": "08c6ac8d",
   "metadata": {},
   "outputs": [
    {
     "data": {
      "text/plain": [
       "0.9666666666666666"
      ]
     },
     "execution_count": 271,
     "metadata": {},
     "output_type": "execute_result"
    }
   ],
   "source": [
    "grid_search.best_score_"
   ]
  },
  {
   "cell_type": "code",
   "execution_count": 272,
   "id": "3fe2470c",
   "metadata": {},
   "outputs": [
    {
     "data": {
      "text/html": [
       "<div>\n",
       "<style scoped>\n",
       "    .dataframe tbody tr th:only-of-type {\n",
       "        vertical-align: middle;\n",
       "    }\n",
       "\n",
       "    .dataframe tbody tr th {\n",
       "        vertical-align: top;\n",
       "    }\n",
       "\n",
       "    .dataframe thead th {\n",
       "        text-align: right;\n",
       "    }\n",
       "</style>\n",
       "<table border=\"1\" class=\"dataframe\">\n",
       "  <thead>\n",
       "    <tr style=\"text-align: right;\">\n",
       "      <th></th>\n",
       "      <th>mean_fit_time</th>\n",
       "      <th>std_fit_time</th>\n",
       "      <th>mean_score_time</th>\n",
       "      <th>std_score_time</th>\n",
       "      <th>param_max_features</th>\n",
       "      <th>param_n_estimators</th>\n",
       "      <th>params</th>\n",
       "      <th>split0_test_score</th>\n",
       "      <th>split1_test_score</th>\n",
       "      <th>split2_test_score</th>\n",
       "      <th>split3_test_score</th>\n",
       "      <th>split4_test_score</th>\n",
       "      <th>mean_test_score</th>\n",
       "      <th>std_test_score</th>\n",
       "      <th>rank_test_score</th>\n",
       "    </tr>\n",
       "  </thead>\n",
       "  <tbody>\n",
       "    <tr>\n",
       "      <th>0</th>\n",
       "      <td>0.486144</td>\n",
       "      <td>0.578927</td>\n",
       "      <td>0.029370</td>\n",
       "      <td>0.001197</td>\n",
       "      <td>1</td>\n",
       "      <td>500</td>\n",
       "      <td>{'max_features': 1, 'n_estimators': 500}</td>\n",
       "      <td>1.0</td>\n",
       "      <td>0.916667</td>\n",
       "      <td>1.0</td>\n",
       "      <td>0.958333</td>\n",
       "      <td>0.916667</td>\n",
       "      <td>0.958333</td>\n",
       "      <td>0.037268</td>\n",
       "      <td>13</td>\n",
       "    </tr>\n",
       "    <tr>\n",
       "      <th>1</th>\n",
       "      <td>0.382012</td>\n",
       "      <td>0.011616</td>\n",
       "      <td>0.056159</td>\n",
       "      <td>0.002260</td>\n",
       "      <td>1</td>\n",
       "      <td>1000</td>\n",
       "      <td>{'max_features': 1, 'n_estimators': 1000}</td>\n",
       "      <td>1.0</td>\n",
       "      <td>0.916667</td>\n",
       "      <td>1.0</td>\n",
       "      <td>0.958333</td>\n",
       "      <td>0.916667</td>\n",
       "      <td>0.958333</td>\n",
       "      <td>0.037268</td>\n",
       "      <td>13</td>\n",
       "    </tr>\n",
       "    <tr>\n",
       "      <th>2</th>\n",
       "      <td>0.536772</td>\n",
       "      <td>0.020685</td>\n",
       "      <td>0.081410</td>\n",
       "      <td>0.002065</td>\n",
       "      <td>1</td>\n",
       "      <td>1500</td>\n",
       "      <td>{'max_features': 1, 'n_estimators': 1500}</td>\n",
       "      <td>1.0</td>\n",
       "      <td>0.916667</td>\n",
       "      <td>1.0</td>\n",
       "      <td>0.958333</td>\n",
       "      <td>0.916667</td>\n",
       "      <td>0.958333</td>\n",
       "      <td>0.037268</td>\n",
       "      <td>13</td>\n",
       "    </tr>\n",
       "    <tr>\n",
       "      <th>3</th>\n",
       "      <td>0.682387</td>\n",
       "      <td>0.009545</td>\n",
       "      <td>0.108324</td>\n",
       "      <td>0.002491</td>\n",
       "      <td>1</td>\n",
       "      <td>2000</td>\n",
       "      <td>{'max_features': 1, 'n_estimators': 2000}</td>\n",
       "      <td>1.0</td>\n",
       "      <td>0.916667</td>\n",
       "      <td>1.0</td>\n",
       "      <td>0.958333</td>\n",
       "      <td>0.916667</td>\n",
       "      <td>0.958333</td>\n",
       "      <td>0.037268</td>\n",
       "      <td>13</td>\n",
       "    </tr>\n",
       "    <tr>\n",
       "      <th>4</th>\n",
       "      <td>0.183592</td>\n",
       "      <td>0.001131</td>\n",
       "      <td>0.028331</td>\n",
       "      <td>0.000239</td>\n",
       "      <td>2</td>\n",
       "      <td>500</td>\n",
       "      <td>{'max_features': 2, 'n_estimators': 500}</td>\n",
       "      <td>1.0</td>\n",
       "      <td>0.916667</td>\n",
       "      <td>1.0</td>\n",
       "      <td>1.000000</td>\n",
       "      <td>0.916667</td>\n",
       "      <td>0.966667</td>\n",
       "      <td>0.040825</td>\n",
       "      <td>1</td>\n",
       "    </tr>\n",
       "  </tbody>\n",
       "</table>\n",
       "</div>"
      ],
      "text/plain": [
       "   mean_fit_time  std_fit_time  mean_score_time  std_score_time  \\\n",
       "0       0.486144      0.578927         0.029370        0.001197   \n",
       "1       0.382012      0.011616         0.056159        0.002260   \n",
       "2       0.536772      0.020685         0.081410        0.002065   \n",
       "3       0.682387      0.009545         0.108324        0.002491   \n",
       "4       0.183592      0.001131         0.028331        0.000239   \n",
       "\n",
       "  param_max_features param_n_estimators  \\\n",
       "0                  1                500   \n",
       "1                  1               1000   \n",
       "2                  1               1500   \n",
       "3                  1               2000   \n",
       "4                  2                500   \n",
       "\n",
       "                                      params  split0_test_score  \\\n",
       "0   {'max_features': 1, 'n_estimators': 500}                1.0   \n",
       "1  {'max_features': 1, 'n_estimators': 1000}                1.0   \n",
       "2  {'max_features': 1, 'n_estimators': 1500}                1.0   \n",
       "3  {'max_features': 1, 'n_estimators': 2000}                1.0   \n",
       "4   {'max_features': 2, 'n_estimators': 500}                1.0   \n",
       "\n",
       "   split1_test_score  split2_test_score  split3_test_score  split4_test_score  \\\n",
       "0           0.916667                1.0           0.958333           0.916667   \n",
       "1           0.916667                1.0           0.958333           0.916667   \n",
       "2           0.916667                1.0           0.958333           0.916667   \n",
       "3           0.916667                1.0           0.958333           0.916667   \n",
       "4           0.916667                1.0           1.000000           0.916667   \n",
       "\n",
       "   mean_test_score  std_test_score  rank_test_score  \n",
       "0         0.958333        0.037268               13  \n",
       "1         0.958333        0.037268               13  \n",
       "2         0.958333        0.037268               13  \n",
       "3         0.958333        0.037268               13  \n",
       "4         0.966667        0.040825                1  "
      ]
     },
     "metadata": {},
     "output_type": "display_data"
    }
   ],
   "source": [
    "import pandas as pd\n",
    "results = pd.DataFrame(grid_search.cv_results_)\n",
    "display(results.head(5))"
   ]
  },
  {
   "cell_type": "code",
   "execution_count": 273,
   "id": "7a4d4aa8",
   "metadata": {},
   "outputs": [
    {
     "data": {
      "text/plain": [
       "<matplotlib.collections.PolyCollection at 0x7feee8684fd0>"
      ]
     },
     "execution_count": 273,
     "metadata": {},
     "output_type": "execute_result"
    },
    {
     "data": {
      "image/png": "[encoded data removed]",
      "text/plain": [
       "<Figure size 864x288 with 1 Axes>"
      ]
     },
     "metadata": {
      "needs_background": "light"
     },
     "output_type": "display_data"
    }
   ],
   "source": [
    "import mglearn\n",
    "\n",
    "scores=np.array(results.mean_test_score).reshape(4,4)\n",
    "\n",
    "mglearn.tools.heatmap(scores,xlabel='n_estimators', xticklabels=param_grid['n_estimators'], ylabel='max_features',yticklabels=param_grid['max_features'],cmap='viridis')"
   ]
  },
  {
   "cell_type": "code",
   "execution_count": 274,
   "id": "2a189e86",
   "metadata": {},
   "outputs": [],
   "source": [
    "rft_pred = grid_search.predict(X_test)"
   ]
  },
  {
   "cell_type": "code",
   "execution_count": 275,
   "id": "6194885f",
   "metadata": {},
   "outputs": [
    {
     "name": "stdout",
     "output_type": "stream",
     "text": [
      "0.9\n"
     ]
    }
   ],
   "source": [
    "print(np.mean(y_test==rft_pred))"
   ]
  },
  {
   "cell_type": "markdown",
   "id": "ee1a96d3",
   "metadata": {},
   "source": [
    "# 3. SVM (RBF kernel)"
   ]
  },
  {
   "cell_type": "code",
   "execution_count": 276,
   "id": "60bf8cea",
   "metadata": {},
   "outputs": [],
   "source": [
    "from sklearn.svm import SVC"
   ]
  },
  {
   "cell_type": "code",
   "execution_count": 277,
   "id": "59c955d4",
   "metadata": {},
   "outputs": [],
   "source": [
    "#Implement normalization for svm\n",
    "Xn_train = X_train-np.min(X_train,axis=0)\n",
    "Xn_train = Xn_train/(np.max(X_train,axis=0)-np.min(X_train,axis=0))\n",
    "\n",
    "Xn_test = X_test-np.min(X_train,axis=0)\n",
    "Xn_test = Xn_test/(np.max(X_train,axis=0)-np.min(X_train,axis=0))"
   ]
  },
  {
   "cell_type": "code",
   "execution_count": 278,
   "id": "c1f8189a",
   "metadata": {},
   "outputs": [],
   "source": [
    "svm_clf = SVC(kernel='rbf',C=2**-3, gamma=2**3)"
   ]
  },
  {
   "cell_type": "code",
   "execution_count": 279,
   "id": "38507f26",
   "metadata": {},
   "outputs": [
    {
     "data": {
      "text/plain": [
       "SVC(C=0.125, gamma=8)"
      ]
     },
     "execution_count": 279,
     "metadata": {},
     "output_type": "execute_result"
    }
   ],
   "source": [
    "svm_clf.fit(Xn_train,y_train)"
   ]
  },
  {
   "cell_type": "code",
   "execution_count": 280,
   "id": "a0eb7b61",
   "metadata": {},
   "outputs": [],
   "source": [
    "svm_pred = svm_clf.predict(Xn_test) "
   ]
  },
  {
   "cell_type": "code",
   "execution_count": 281,
   "id": "98d6bd25",
   "metadata": {},
   "outputs": [
    {
     "data": {
      "text/plain": [
       "array(['Iris-setosa', 'Iris-setosa', 'Iris-virginica', 'Iris-versicolor',\n",
       "       'Iris-versicolor', 'Iris-setosa', 'Iris-setosa', 'Iris-virginica',\n",
       "       'Iris-virginica', 'Iris-setosa', 'Iris-setosa', 'Iris-setosa',\n",
       "       'Iris-setosa', 'Iris-setosa', 'Iris-setosa', 'Iris-versicolor',\n",
       "       'Iris-versicolor', 'Iris-versicolor', 'Iris-versicolor',\n",
       "       'Iris-versicolor', 'Iris-versicolor', 'Iris-versicolor',\n",
       "       'Iris-versicolor', 'Iris-versicolor', 'Iris-versicolor',\n",
       "       'Iris-versicolor', 'Iris-versicolor', 'Iris-versicolor',\n",
       "       'Iris-virginica', 'Iris-virginica'], dtype=object)"
      ]
     },
     "execution_count": 281,
     "metadata": {},
     "output_type": "execute_result"
    }
   ],
   "source": [
    "svm_pred"
   ]
  },
  {
   "cell_type": "code",
   "execution_count": 282,
   "id": "2a357a05",
   "metadata": {},
   "outputs": [
    {
     "name": "stdout",
     "output_type": "stream",
     "text": [
      "0.9333333333333333\n"
     ]
    }
   ],
   "source": [
    "print(np.mean(y_test==svm_pred))"
   ]
  },
  {
   "cell_type": "code",
   "execution_count": 283,
   "id": "7a84df5b",
   "metadata": {},
   "outputs": [],
   "source": [
    "# 튜닝\n",
    "\n",
    "expc_list = [-5,-3,-1,1,3,5,7,9,11,13,15] \n",
    "expg_list = [-15,-13,-11,-9,-7,-5,-3,-1,1,3] \n",
    "\n",
    "param_grid = {'C':[2**i for i in expc_list],\n",
    "             'gamma':[2**i for i in expg_list]} #coarse tuning -> fine tuning"
   ]
  },
  {
   "cell_type": "code",
   "execution_count": 284,
   "id": "f2d905c4",
   "metadata": {},
   "outputs": [
    {
     "data": {
      "text/plain": [
       "{'C': [0.03125, 0.125, 0.5, 2, 8, 32, 128, 512, 2048, 8192, 32768],\n",
       " 'gamma': [3.0517578125e-05,\n",
       "  0.0001220703125,\n",
       "  0.00048828125,\n",
       "  0.001953125,\n",
       "  0.0078125,\n",
       "  0.03125,\n",
       "  0.125,\n",
       "  0.5,\n",
       "  2,\n",
       "  8]}"
      ]
     },
     "execution_count": 284,
     "metadata": {},
     "output_type": "execute_result"
    }
   ],
   "source": [
    "param_grid"
   ]
  },
  {
   "cell_type": "code",
   "execution_count": 285,
   "id": "3a9cc413",
   "metadata": {},
   "outputs": [],
   "source": [
    "param_grid_visual = {'C':list(np.round(np.array([2**i for i in expc_list]),3)),\n",
    "             'gamma':list(np.round(np.array([2**i for i in expg_list]),3))} #for visualization"
   ]
  },
  {
   "cell_type": "code",
   "execution_count": 286,
   "id": "353d1123",
   "metadata": {},
   "outputs": [],
   "source": [
    "from sklearn.model_selection import GridSearchCV\n",
    "\n",
    "grid_search = GridSearchCV(svm_clf,param_grid,cv=5,scoring='accuracy',n_jobs=3)"
   ]
  },
  {
   "cell_type": "code",
   "execution_count": 287,
   "id": "59cb4123",
   "metadata": {},
   "outputs": [
    {
     "data": {
      "text/plain": [
       "GridSearchCV(cv=5, estimator=SVC(C=0.125, gamma=8), n_jobs=3,\n",
       "             param_grid={'C': [0.03125, 0.125, 0.5, 2, 8, 32, 128, 512, 2048,\n",
       "                               8192, 32768],\n",
       "                         'gamma': [3.0517578125e-05, 0.0001220703125,\n",
       "                                   0.00048828125, 0.001953125, 0.0078125,\n",
       "                                   0.03125, 0.125, 0.5, 2, 8]},\n",
       "             scoring='accuracy')"
      ]
     },
     "execution_count": 287,
     "metadata": {},
     "output_type": "execute_result"
    }
   ],
   "source": [
    "grid_search.fit(Xn_train,y_train)"
   ]
  },
  {
   "cell_type": "code",
   "execution_count": 288,
   "id": "d9e59283",
   "metadata": {},
   "outputs": [
    {
     "data": {
      "text/plain": [
       "{'C': 32, 'gamma': 0.125}"
      ]
     },
     "execution_count": 288,
     "metadata": {},
     "output_type": "execute_result"
    }
   ],
   "source": [
    "grid_search.best_params_"
   ]
  },
  {
   "cell_type": "code",
   "execution_count": 289,
   "id": "72abe252",
   "metadata": {},
   "outputs": [
    {
     "data": {
      "text/html": [
       "<div>\n",
       "<style scoped>\n",
       "    .dataframe tbody tr th:only-of-type {\n",
       "        vertical-align: middle;\n",
       "    }\n",
       "\n",
       "    .dataframe tbody tr th {\n",
       "        vertical-align: top;\n",
       "    }\n",
       "\n",
       "    .dataframe thead th {\n",
       "        text-align: right;\n",
       "    }\n",
       "</style>\n",
       "<table border=\"1\" class=\"dataframe\">\n",
       "  <thead>\n",
       "    <tr style=\"text-align: right;\">\n",
       "      <th></th>\n",
       "      <th>mean_fit_time</th>\n",
       "      <th>std_fit_time</th>\n",
       "      <th>mean_score_time</th>\n",
       "      <th>std_score_time</th>\n",
       "      <th>param_C</th>\n",
       "      <th>param_gamma</th>\n",
       "      <th>params</th>\n",
       "      <th>split0_test_score</th>\n",
       "      <th>split1_test_score</th>\n",
       "      <th>split2_test_score</th>\n",
       "      <th>split3_test_score</th>\n",
       "      <th>split4_test_score</th>\n",
       "      <th>mean_test_score</th>\n",
       "      <th>std_test_score</th>\n",
       "      <th>rank_test_score</th>\n",
       "    </tr>\n",
       "  </thead>\n",
       "  <tbody>\n",
       "    <tr>\n",
       "      <th>0</th>\n",
       "      <td>0.001426</td>\n",
       "      <td>0.000243</td>\n",
       "      <td>0.000481</td>\n",
       "      <td>0.000072</td>\n",
       "      <td>0.03125</td>\n",
       "      <td>0.000031</td>\n",
       "      <td>{'C': 0.03125, 'gamma': 3.0517578125e-05}</td>\n",
       "      <td>0.333333</td>\n",
       "      <td>0.333333</td>\n",
       "      <td>0.375</td>\n",
       "      <td>0.375</td>\n",
       "      <td>0.375</td>\n",
       "      <td>0.358333</td>\n",
       "      <td>0.020412</td>\n",
       "      <td>83</td>\n",
       "    </tr>\n",
       "    <tr>\n",
       "      <th>1</th>\n",
       "      <td>0.001006</td>\n",
       "      <td>0.000033</td>\n",
       "      <td>0.000393</td>\n",
       "      <td>0.000008</td>\n",
       "      <td>0.03125</td>\n",
       "      <td>0.000122</td>\n",
       "      <td>{'C': 0.03125, 'gamma': 0.0001220703125}</td>\n",
       "      <td>0.333333</td>\n",
       "      <td>0.333333</td>\n",
       "      <td>0.375</td>\n",
       "      <td>0.375</td>\n",
       "      <td>0.375</td>\n",
       "      <td>0.358333</td>\n",
       "      <td>0.020412</td>\n",
       "      <td>83</td>\n",
       "    </tr>\n",
       "    <tr>\n",
       "      <th>2</th>\n",
       "      <td>0.001022</td>\n",
       "      <td>0.000050</td>\n",
       "      <td>0.000392</td>\n",
       "      <td>0.000014</td>\n",
       "      <td>0.03125</td>\n",
       "      <td>0.000488</td>\n",
       "      <td>{'C': 0.03125, 'gamma': 0.00048828125}</td>\n",
       "      <td>0.333333</td>\n",
       "      <td>0.333333</td>\n",
       "      <td>0.375</td>\n",
       "      <td>0.375</td>\n",
       "      <td>0.375</td>\n",
       "      <td>0.358333</td>\n",
       "      <td>0.020412</td>\n",
       "      <td>83</td>\n",
       "    </tr>\n",
       "    <tr>\n",
       "      <th>3</th>\n",
       "      <td>0.001054</td>\n",
       "      <td>0.000062</td>\n",
       "      <td>0.000425</td>\n",
       "      <td>0.000050</td>\n",
       "      <td>0.03125</td>\n",
       "      <td>0.001953</td>\n",
       "      <td>{'C': 0.03125, 'gamma': 0.001953125}</td>\n",
       "      <td>0.333333</td>\n",
       "      <td>0.333333</td>\n",
       "      <td>0.375</td>\n",
       "      <td>0.375</td>\n",
       "      <td>0.375</td>\n",
       "      <td>0.358333</td>\n",
       "      <td>0.020412</td>\n",
       "      <td>83</td>\n",
       "    </tr>\n",
       "    <tr>\n",
       "      <th>4</th>\n",
       "      <td>0.000975</td>\n",
       "      <td>0.000023</td>\n",
       "      <td>0.000382</td>\n",
       "      <td>0.000008</td>\n",
       "      <td>0.03125</td>\n",
       "      <td>0.007812</td>\n",
       "      <td>{'C': 0.03125, 'gamma': 0.0078125}</td>\n",
       "      <td>0.333333</td>\n",
       "      <td>0.333333</td>\n",
       "      <td>0.375</td>\n",
       "      <td>0.375</td>\n",
       "      <td>0.375</td>\n",
       "      <td>0.358333</td>\n",
       "      <td>0.020412</td>\n",
       "      <td>83</td>\n",
       "    </tr>\n",
       "  </tbody>\n",
       "</table>\n",
       "</div>"
      ],
      "text/plain": [
       "   mean_fit_time  std_fit_time  mean_score_time  std_score_time  param_C  \\\n",
       "0       0.001426      0.000243         0.000481        0.000072  0.03125   \n",
       "1       0.001006      0.000033         0.000393        0.000008  0.03125   \n",
       "2       0.001022      0.000050         0.000392        0.000014  0.03125   \n",
       "3       0.001054      0.000062         0.000425        0.000050  0.03125   \n",
       "4       0.000975      0.000023         0.000382        0.000008  0.03125   \n",
       "\n",
       "  param_gamma                                     params  split0_test_score  \\\n",
       "0    0.000031  {'C': 0.03125, 'gamma': 3.0517578125e-05}           0.333333   \n",
       "1    0.000122   {'C': 0.03125, 'gamma': 0.0001220703125}           0.333333   \n",
       "2    0.000488     {'C': 0.03125, 'gamma': 0.00048828125}           0.333333   \n",
       "3    0.001953       {'C': 0.03125, 'gamma': 0.001953125}           0.333333   \n",
       "4    0.007812         {'C': 0.03125, 'gamma': 0.0078125}           0.333333   \n",
       "\n",
       "   split1_test_score  split2_test_score  split3_test_score  split4_test_score  \\\n",
       "0           0.333333              0.375              0.375              0.375   \n",
       "1           0.333333              0.375              0.375              0.375   \n",
       "2           0.333333              0.375              0.375              0.375   \n",
       "3           0.333333              0.375              0.375              0.375   \n",
       "4           0.333333              0.375              0.375              0.375   \n",
       "\n",
       "   mean_test_score  std_test_score  rank_test_score  \n",
       "0         0.358333        0.020412               83  \n",
       "1         0.358333        0.020412               83  \n",
       "2         0.358333        0.020412               83  \n",
       "3         0.358333        0.020412               83  \n",
       "4         0.358333        0.020412               83  "
      ]
     },
     "metadata": {},
     "output_type": "display_data"
    }
   ],
   "source": [
    "import pandas as pd\n",
    "results = pd.DataFrame(grid_search.cv_results_)\n",
    "display(results.head(5))"
   ]
  },
  {
   "cell_type": "code",
   "execution_count": 290,
   "id": "1ef45432",
   "metadata": {},
   "outputs": [
    {
     "data": {
      "text/plain": [
       "<matplotlib.collections.PolyCollection at 0x7feefaed9a60>"
      ]
     },
     "execution_count": 290,
     "metadata": {},
     "output_type": "execute_result"
    },
    {
     "data": {
      "image/png": "[encoded data removed]",
      "text/plain": [
       "<Figure size 720x720 with 1 Axes>"
      ]
     },
     "metadata": {
      "needs_background": "light"
     },
     "output_type": "display_data"
    }
   ],
   "source": [
    "import mglearn\n",
    "\n",
    "%matplotlib inline\n",
    "import matplotlib.pylab as plt\n",
    "\n",
    "plt.rcParams[\"figure.figsize\"] = (10,10)\n",
    "plt.rcParams['lines.linewidth'] = 2\n",
    "plt.rcParams['lines.color'] = 'r'\n",
    "plt.rcParams['axes.grid'] = True \n",
    "\n",
    "scores=np.array(results.mean_test_score).reshape(11,10)\n",
    "\n",
    "mglearn.tools.heatmap(scores,xlabel='gamma', xticklabels=param_grid_visual['gamma'], ylabel='C',yticklabels=param_grid_visual['C'],cmap='viridis')"
   ]
  },
  {
   "cell_type": "code",
   "execution_count": 291,
   "id": "7ac7f731",
   "metadata": {},
   "outputs": [],
   "source": [
    "svmt_pred = grid_search.predict(Xn_test)"
   ]
  },
  {
   "cell_type": "code",
   "execution_count": 292,
   "id": "602b092b",
   "metadata": {},
   "outputs": [
    {
     "data": {
      "text/plain": [
       "array(['Iris-setosa', 'Iris-setosa', 'Iris-virginica', 'Iris-versicolor',\n",
       "       'Iris-virginica', 'Iris-setosa', 'Iris-setosa', 'Iris-virginica',\n",
       "       'Iris-virginica', 'Iris-setosa', 'Iris-setosa', 'Iris-setosa',\n",
       "       'Iris-setosa', 'Iris-setosa', 'Iris-setosa', 'Iris-versicolor',\n",
       "       'Iris-versicolor', 'Iris-versicolor', 'Iris-versicolor',\n",
       "       'Iris-versicolor', 'Iris-versicolor', 'Iris-versicolor',\n",
       "       'Iris-versicolor', 'Iris-versicolor', 'Iris-versicolor',\n",
       "       'Iris-versicolor', 'Iris-versicolor', 'Iris-versicolor',\n",
       "       'Iris-virginica', 'Iris-virginica'], dtype=object)"
      ]
     },
     "execution_count": 292,
     "metadata": {},
     "output_type": "execute_result"
    }
   ],
   "source": [
    "svmt_pred"
   ]
  },
  {
   "cell_type": "code",
   "execution_count": 293,
   "id": "a130925e",
   "metadata": {},
   "outputs": [
    {
     "name": "stdout",
     "output_type": "stream",
     "text": [
      "0.9666666666666667\n"
     ]
    }
   ],
   "source": [
    "print(np.mean(y_test==svmt_pred))"
   ]
  },
  {
   "cell_type": "markdown",
   "id": "0fcd186c",
   "metadata": {},
   "source": [
    "# 4. XGBoost"
   ]
  },
  {
   "cell_type": "code",
   "execution_count": 294,
   "id": "1c3e7cdc",
   "metadata": {},
   "outputs": [],
   "source": [
    "#Import libraries:\n",
    "import pandas as pd\n",
    "import numpy as np\n",
    "import xgboost as xgb\n",
    "from xgboost.sklearn import XGBClassifier\n",
    "from sklearn.model_selection import train_test_split\n",
    "from sklearn import metrics   #Additional scklearn functions\n",
    "\n",
    "import matplotlib.pylab as plt\n",
    "%matplotlib inline\n",
    "from matplotlib.pylab import rcParams\n",
    "rcParams['figure.figsize'] = 12, 4"
   ]
  },
  {
   "cell_type": "code",
   "execution_count": 295,
   "id": "131a8d4d",
   "metadata": {},
   "outputs": [],
   "source": [
    "def modelfit(alg, dtrain, predictors,useTrainCV=True, cv_folds=5, early_stopping_rounds=50): #find the best n_estimators\n",
    "    \n",
    "    if useTrainCV:\n",
    "        xgb_param = alg.get_xgb_params()\n",
    "        xgtrain = xgb.DMatrix(dtrain[predictors].values, label=dtrain[target].values)\n",
    "        cvresult = xgb.cv(xgb_param, xgtrain, num_boost_round=alg.get_params()['n_estimators'], nfold=cv_folds,\n",
    "            metrics='merror',early_stopping_rounds=early_stopping_rounds)\n",
    "        alg.set_params(n_estimators=cvresult.shape[0])\n",
    "    \n",
    "    #print the best n_estimators\n",
    "    #print(cvresult)\n",
    "    print(\"n_estimators:\", cvresult.shape[0])"
   ]
  },
  {
   "cell_type": "code",
   "execution_count": 296,
   "id": "3ad12622",
   "metadata": {},
   "outputs": [],
   "source": [
    "import xgboost as xgb \n",
    "from xgboost.sklearn import XGBClassifier\n",
    "xgb_clf= xgb.XGBClassifier( #just arbitrary xgboost\n",
    "    learning_rate=0.1,\n",
    "    n_estimators=1000,\n",
    "    max_depth=5,\n",
    "    min_child_weight=1,\n",
    "    gamma=0,\n",
    "    subsample=0.8,\n",
    "    colsample_bytree=0.8,\n",
    "    objective='multi:softmax',\n",
    "    num_class=3,\n",
    "    nthread=3,\n",
    "    #scale_pos_weight=1, #it is for binary classification.\n",
    "    seed=1,\n",
    "    use_label_encoder=False\n",
    "    )"
   ]
  },
  {
   "cell_type": "code",
   "execution_count": 297,
   "id": "cf29ef24",
   "metadata": {},
   "outputs": [
    {
     "name": "stdout",
     "output_type": "stream",
     "text": [
      "    x1   x2   x3   x4  y\n",
      "0  5.8  4.0  1.2  0.2  0\n",
      "1  5.1  2.5  3.0  1.1  1\n",
      "2  6.6  3.0  4.4  1.4  1\n",
      "3  5.4  3.9  1.3  0.4  0\n",
      "4  7.9  3.8  6.4  2.0  2\n"
     ]
    },
    {
     "name": "stderr",
     "output_type": "stream",
     "text": [
      "<ipython-input-297-a8dfd7093558>:4: SettingWithCopyWarning: \n",
      "A value is trying to be set on a copy of a slice from a DataFrame.\n",
      "Try using .loc[row_indexer,col_indexer] = value instead\n",
      "\n",
      "See the caveats in the documentation: https://pandas.pydata.org/pandas-docs/stable/user_guide/indexing.html#returning-a-view-versus-a-copy\n",
      "  train['y']=pd.Series(train['y'].map(lambda x: 0 if x==\"Iris-setosa\" else (1 if x==\"Iris-versicolor\" else 2)))\n"
     ]
    }
   ],
   "source": [
    "#make new format of train set for xgboost\n",
    "train=df.iloc[train_idx,]\n",
    "train.reset_index(drop=True,inplace=True)\n",
    "train['y']=pd.Series(train['y'].map(lambda x: 0 if x==\"Iris-setosa\" else (1 if x==\"Iris-versicolor\" else 2)))\n",
    "print(train.head())"
   ]
  },
  {
   "cell_type": "code",
   "execution_count": 298,
   "id": "42da8831",
   "metadata": {},
   "outputs": [
    {
     "name": "stdout",
     "output_type": "stream",
     "text": [
      "    x1   x2   x3   x4  y\n",
      "0  5.1  3.5  1.4  0.2  0\n",
      "1  4.9  3.0  1.4  0.2  0\n",
      "2  7.2  3.0  5.8  1.6  2\n",
      "3  6.3  2.8  5.1  1.5  2\n",
      "4  6.1  2.6  5.6  1.4  2\n"
     ]
    },
    {
     "name": "stderr",
     "output_type": "stream",
     "text": [
      "<ipython-input-298-93b1b42a6761>:4: SettingWithCopyWarning: \n",
      "A value is trying to be set on a copy of a slice from a DataFrame.\n",
      "Try using .loc[row_indexer,col_indexer] = value instead\n",
      "\n",
      "See the caveats in the documentation: https://pandas.pydata.org/pandas-docs/stable/user_guide/indexing.html#returning-a-view-versus-a-copy\n",
      "  test['y']=pd.Series(test['y'].map(lambda x: 0 if x==\"Iris-setosa\" else (1 if x==\"Iris-versicolor\" else 2)))\n"
     ]
    }
   ],
   "source": [
    "#make new format of test set for xgboost\n",
    "test=df.iloc[test_idx,]\n",
    "test.reset_index(drop=True,inplace=True)\n",
    "test['y']=pd.Series(test['y'].map(lambda x: 0 if x==\"Iris-setosa\" else (1 if x==\"Iris-versicolor\" else 2)))\n",
    "print(test.head())"
   ]
  },
  {
   "cell_type": "code",
   "execution_count": 299,
   "id": "06cf4135",
   "metadata": {},
   "outputs": [],
   "source": [
    "target = 'y'\n",
    "predictors = ['x1','x2','x3','x4']"
   ]
  },
  {
   "cell_type": "code",
   "execution_count": 300,
   "id": "e762ac3d",
   "metadata": {},
   "outputs": [],
   "source": [
    "xgb_clf.fit(train[predictors],train[target],eval_metric='merror')\n",
    "xgb_pred=xgb_clf.predict(test[predictors])"
   ]
  },
  {
   "cell_type": "code",
   "execution_count": 301,
   "id": "d5f6a6af",
   "metadata": {},
   "outputs": [
    {
     "name": "stdout",
     "output_type": "stream",
     "text": [
      "0.8666666666666667\n"
     ]
    }
   ],
   "source": [
    "print(np.mean(test['y']==xgb_pred))"
   ]
  },
  {
   "cell_type": "code",
   "execution_count": 302,
   "id": "7112eca0",
   "metadata": {},
   "outputs": [
    {
     "name": "stdout",
     "output_type": "stream",
     "text": [
      "n_estimators: 1\n"
     ]
    }
   ],
   "source": [
    "# find the best n_estimators given other parameters are fixed\n",
    "modelfit(xgb_clf,train,predictors) #it's too short."
   ]
  },
  {
   "cell_type": "code",
   "execution_count": 303,
   "id": "709a49c0",
   "metadata": {},
   "outputs": [],
   "source": [
    "import xgboost as xgb \n",
    "from xgboost.sklearn import XGBClassifier\n",
    "xgb_clf= xgb.XGBClassifier( #just arbitrary xgboost\n",
    "    learning_rate=0.001,\n",
    "    n_estimators=1000,\n",
    "    max_depth=5,\n",
    "    min_child_weight=1,\n",
    "    gamma=0,\n",
    "    subsample=0.8,\n",
    "    colsample_bytree=0.8,\n",
    "    objective='multi:softmax',\n",
    "    num_class=3,\n",
    "    nthread=3,\n",
    "    #scale_pos_weight=1, #it is for binary classification.\n",
    "    seed=1,\n",
    "    use_label_encoder=False\n",
    "    )"
   ]
  },
  {
   "cell_type": "code",
   "execution_count": 304,
   "id": "2366d563",
   "metadata": {},
   "outputs": [
    {
     "name": "stdout",
     "output_type": "stream",
     "text": [
      "n_estimators: 1\n"
     ]
    }
   ],
   "source": [
    "modelfit(xgb_clf,train,predictors)"
   ]
  },
  {
   "cell_type": "code",
   "execution_count": 305,
   "id": "785ad414",
   "metadata": {},
   "outputs": [],
   "source": [
    "from sklearn.model_selection import GridSearchCV\n",
    "param_test1={\n",
    "    'max_depth':range(1,10,2),\n",
    "    'min_child_weight':range(1,8,2)\n",
    "}\n",
    "\n",
    "gsearch1 = GridSearchCV(estimator=XGBClassifier(learning_rate=0.1, n_estimators=1, max_depth=5, min_child_weight=1,\n",
    "                                              gamma=0, subsample=0.8, colsample_bytree=0.8,\n",
    "                                              objective='multi:softmax',num_class=3,nthread=3, seed=1,use_label_encoder=False),\n",
    "                       param_grid = param_test1, cv=5,scoring='accuracy')"
   ]
  },
  {
   "cell_type": "code",
   "execution_count": 306,
   "id": "ec9a07a0",
   "metadata": {},
   "outputs": [
    {
     "data": {
      "text/plain": [
       "({'max_depth': 3, 'min_child_weight': 1}, 0.9666666666666666)"
      ]
     },
     "execution_count": 306,
     "metadata": {},
     "output_type": "execute_result"
    }
   ],
   "source": [
    "gsearch1.fit(train[predictors],train[target],eval_metric='merror')\n",
    "gsearch1.best_params_, gsearch1.best_score_ "
   ]
  },
  {
   "cell_type": "code",
   "execution_count": 307,
   "id": "3c43b463",
   "metadata": {},
   "outputs": [],
   "source": [
    "from sklearn.model_selection import GridSearchCV\n",
    "param_test2={\n",
    "    'gamma':[0,0.1,0.2,0.3,0.4,0.5,0.6,0.7]\n",
    "}\n",
    "\n",
    "gsearch2 = GridSearchCV(estimator=XGBClassifier(learning_rate=0.1, n_estimators=1, max_depth=3, min_child_weight=1,\n",
    "                                              gamma=0, subsample=0.8, colsample_bytree=0.8,\n",
    "                                              objective='multi:softmax',num_class=3,nthread=3, seed=1,use_label_encoder=False),\n",
    "                       param_grid = param_test2, cv=5,scoring='accuracy')"
   ]
  },
  {
   "cell_type": "code",
   "execution_count": 308,
   "id": "66e368e4",
   "metadata": {},
   "outputs": [
    {
     "data": {
      "text/plain": [
       "({'gamma': 0}, 0.9666666666666666)"
      ]
     },
     "execution_count": 308,
     "metadata": {},
     "output_type": "execute_result"
    }
   ],
   "source": [
    "gsearch2.fit(train[predictors],train[target],eval_metric='merror')\n",
    "gsearch2.best_params_, gsearch2.best_score_ "
   ]
  },
  {
   "cell_type": "code",
   "execution_count": 309,
   "id": "53009539",
   "metadata": {},
   "outputs": [
    {
     "name": "stdout",
     "output_type": "stream",
     "text": [
      "n_estimators: 1\n"
     ]
    }
   ],
   "source": [
    "xgb2_clf = xgb.XGBRegressor(\n",
    "    learning_rate=0.1,\n",
    "    n_estimators=1000,\n",
    "    max_depth=3,\n",
    "    min_child_weight=1,\n",
    "    gamma=0,\n",
    "    subsample=0.8,\n",
    "    colsample_bytree=0.8,\n",
    "    objective='multi:softmax',\n",
    "    num_class=3,\n",
    "    nthread=3,\n",
    "    # scale_pos_weight=1,\n",
    "    seed=1,\n",
    "    use_label_encoder=False\n",
    "    )\n",
    "\n",
    "modelfit(xgb2_clf, train, predictors)"
   ]
  },
  {
   "cell_type": "code",
   "execution_count": 310,
   "id": "b4815c7c",
   "metadata": {},
   "outputs": [],
   "source": [
    "param_test3 = {\n",
    "    'subsample': [0.6,0.7,0.8,0.9],  #[i/10.0 for i in range(6,10)],\n",
    "    'colsample_bytree': [0.6,0.7,0.8,0.9]  #[1/10.0 for i in range(6,10)]\n",
    "}\n",
    "\n",
    "gsearch3 = GridSearchCV(estimator=XGBClassifier(learning_rate=0.1, n_estimators=1, max_depth=3, min_child_weight=1,\n",
    "                                              gamma=0, subsample=0.8, colsample_bytree=0.8,\n",
    "                                              objective='multi:softmax',num_class=3,nthread=3, seed=1,use_label_encoder=False),\n",
    "                       param_grid = param_test3, cv=5,scoring='accuracy')"
   ]
  },
  {
   "cell_type": "code",
   "execution_count": 311,
   "id": "eefd70c7",
   "metadata": {},
   "outputs": [
    {
     "data": {
      "text/plain": [
       "({'colsample_bytree': 0.8, 'subsample': 0.8}, 0.9666666666666666)"
      ]
     },
     "execution_count": 311,
     "metadata": {},
     "output_type": "execute_result"
    }
   ],
   "source": [
    "gsearch3.fit(train[predictors],train[target],eval_metric='merror')\n",
    "gsearch3.best_params_, gsearch3.best_score_ "
   ]
  },
  {
   "cell_type": "code",
   "execution_count": 312,
   "id": "a242b61d",
   "metadata": {},
   "outputs": [
    {
     "data": {
      "text/html": [
       "<div>\n",
       "<style scoped>\n",
       "    .dataframe tbody tr th:only-of-type {\n",
       "        vertical-align: middle;\n",
       "    }\n",
       "\n",
       "    .dataframe tbody tr th {\n",
       "        vertical-align: top;\n",
       "    }\n",
       "\n",
       "    .dataframe thead th {\n",
       "        text-align: right;\n",
       "    }\n",
       "</style>\n",
       "<table border=\"1\" class=\"dataframe\">\n",
       "  <thead>\n",
       "    <tr style=\"text-align: right;\">\n",
       "      <th></th>\n",
       "      <th>mean_fit_time</th>\n",
       "      <th>std_fit_time</th>\n",
       "      <th>mean_score_time</th>\n",
       "      <th>std_score_time</th>\n",
       "      <th>param_colsample_bytree</th>\n",
       "      <th>param_subsample</th>\n",
       "      <th>params</th>\n",
       "      <th>split0_test_score</th>\n",
       "      <th>split1_test_score</th>\n",
       "      <th>split2_test_score</th>\n",
       "      <th>split3_test_score</th>\n",
       "      <th>split4_test_score</th>\n",
       "      <th>mean_test_score</th>\n",
       "      <th>std_test_score</th>\n",
       "      <th>rank_test_score</th>\n",
       "    </tr>\n",
       "  </thead>\n",
       "  <tbody>\n",
       "    <tr>\n",
       "      <th>0</th>\n",
       "      <td>0.002943</td>\n",
       "      <td>0.000560</td>\n",
       "      <td>0.000825</td>\n",
       "      <td>0.000201</td>\n",
       "      <td>0.6</td>\n",
       "      <td>0.6</td>\n",
       "      <td>{'colsample_bytree': 0.6, 'subsample': 0.6}</td>\n",
       "      <td>1.0</td>\n",
       "      <td>0.916667</td>\n",
       "      <td>0.875000</td>\n",
       "      <td>0.916667</td>\n",
       "      <td>0.833333</td>\n",
       "      <td>0.908333</td>\n",
       "      <td>0.055277</td>\n",
       "      <td>13</td>\n",
       "    </tr>\n",
       "    <tr>\n",
       "      <th>1</th>\n",
       "      <td>0.002667</td>\n",
       "      <td>0.000194</td>\n",
       "      <td>0.000885</td>\n",
       "      <td>0.000253</td>\n",
       "      <td>0.6</td>\n",
       "      <td>0.7</td>\n",
       "      <td>{'colsample_bytree': 0.6, 'subsample': 0.7}</td>\n",
       "      <td>1.0</td>\n",
       "      <td>0.916667</td>\n",
       "      <td>0.875000</td>\n",
       "      <td>0.916667</td>\n",
       "      <td>0.833333</td>\n",
       "      <td>0.908333</td>\n",
       "      <td>0.055277</td>\n",
       "      <td>13</td>\n",
       "    </tr>\n",
       "    <tr>\n",
       "      <th>2</th>\n",
       "      <td>0.002221</td>\n",
       "      <td>0.000172</td>\n",
       "      <td>0.000574</td>\n",
       "      <td>0.000063</td>\n",
       "      <td>0.6</td>\n",
       "      <td>0.8</td>\n",
       "      <td>{'colsample_bytree': 0.6, 'subsample': 0.8}</td>\n",
       "      <td>1.0</td>\n",
       "      <td>0.916667</td>\n",
       "      <td>0.958333</td>\n",
       "      <td>0.916667</td>\n",
       "      <td>0.833333</td>\n",
       "      <td>0.925000</td>\n",
       "      <td>0.055277</td>\n",
       "      <td>5</td>\n",
       "    </tr>\n",
       "    <tr>\n",
       "      <th>3</th>\n",
       "      <td>0.001959</td>\n",
       "      <td>0.000075</td>\n",
       "      <td>0.000506</td>\n",
       "      <td>0.000016</td>\n",
       "      <td>0.6</td>\n",
       "      <td>0.9</td>\n",
       "      <td>{'colsample_bytree': 0.6, 'subsample': 0.9}</td>\n",
       "      <td>1.0</td>\n",
       "      <td>0.916667</td>\n",
       "      <td>0.916667</td>\n",
       "      <td>0.916667</td>\n",
       "      <td>0.833333</td>\n",
       "      <td>0.916667</td>\n",
       "      <td>0.052705</td>\n",
       "      <td>11</td>\n",
       "    </tr>\n",
       "    <tr>\n",
       "      <th>4</th>\n",
       "      <td>0.001836</td>\n",
       "      <td>0.000020</td>\n",
       "      <td>0.000495</td>\n",
       "      <td>0.000005</td>\n",
       "      <td>0.7</td>\n",
       "      <td>0.6</td>\n",
       "      <td>{'colsample_bytree': 0.7, 'subsample': 0.6}</td>\n",
       "      <td>1.0</td>\n",
       "      <td>0.916667</td>\n",
       "      <td>0.875000</td>\n",
       "      <td>0.916667</td>\n",
       "      <td>0.833333</td>\n",
       "      <td>0.908333</td>\n",
       "      <td>0.055277</td>\n",
       "      <td>13</td>\n",
       "    </tr>\n",
       "  </tbody>\n",
       "</table>\n",
       "</div>"
      ],
      "text/plain": [
       "   mean_fit_time  std_fit_time  mean_score_time  std_score_time  \\\n",
       "0       0.002943      0.000560         0.000825        0.000201   \n",
       "1       0.002667      0.000194         0.000885        0.000253   \n",
       "2       0.002221      0.000172         0.000574        0.000063   \n",
       "3       0.001959      0.000075         0.000506        0.000016   \n",
       "4       0.001836      0.000020         0.000495        0.000005   \n",
       "\n",
       "  param_colsample_bytree param_subsample  \\\n",
       "0                    0.6             0.6   \n",
       "1                    0.6             0.7   \n",
       "2                    0.6             0.8   \n",
       "3                    0.6             0.9   \n",
       "4                    0.7             0.6   \n",
       "\n",
       "                                        params  split0_test_score  \\\n",
       "0  {'colsample_bytree': 0.6, 'subsample': 0.6}                1.0   \n",
       "1  {'colsample_bytree': 0.6, 'subsample': 0.7}                1.0   \n",
       "2  {'colsample_bytree': 0.6, 'subsample': 0.8}                1.0   \n",
       "3  {'colsample_bytree': 0.6, 'subsample': 0.9}                1.0   \n",
       "4  {'colsample_bytree': 0.7, 'subsample': 0.6}                1.0   \n",
       "\n",
       "   split1_test_score  split2_test_score  split3_test_score  split4_test_score  \\\n",
       "0           0.916667           0.875000           0.916667           0.833333   \n",
       "1           0.916667           0.875000           0.916667           0.833333   \n",
       "2           0.916667           0.958333           0.916667           0.833333   \n",
       "3           0.916667           0.916667           0.916667           0.833333   \n",
       "4           0.916667           0.875000           0.916667           0.833333   \n",
       "\n",
       "   mean_test_score  std_test_score  rank_test_score  \n",
       "0         0.908333        0.055277               13  \n",
       "1         0.908333        0.055277               13  \n",
       "2         0.925000        0.055277                5  \n",
       "3         0.916667        0.052705               11  \n",
       "4         0.908333        0.055277               13  "
      ]
     },
     "metadata": {},
     "output_type": "display_data"
    }
   ],
   "source": [
    "import pandas as pd\n",
    "results = pd.DataFrame(gsearch3.cv_results_)\n",
    "display(results.head(5))"
   ]
  },
  {
   "cell_type": "code",
   "execution_count": 313,
   "id": "aea618f0",
   "metadata": {},
   "outputs": [],
   "source": [
    "param_test4 = {\n",
    "    'reg_alpha': [0,1e-5,1e-2,0.1,1,10,100],  #[i/10.0 for i in range(6,10)],\n",
    "    'reg_lambda': [0,1e-5,1e-2,0.1,1,10,100]  #[1/10.0 for i in range(6,10)]\n",
    "}\n",
    "\n",
    "gsearch4 = GridSearchCV(estimator=XGBClassifier(learning_rate=0.1, n_estimators=1, max_depth=3, min_child_weight=1,\n",
    "                                              gamma=0, subsample=0.8, colsample_bytree=0.8,\n",
    "                                              objective='multi:softmax',num_class=3,nthread=3, seed=1,use_label_encoder=False),\n",
    "                       param_grid = param_test4, cv=5,scoring='accuracy')"
   ]
  },
  {
   "cell_type": "code",
   "execution_count": 314,
   "id": "7ad55a07",
   "metadata": {},
   "outputs": [
    {
     "data": {
      "text/plain": [
       "({'reg_alpha': 0, 'reg_lambda': 0}, 0.9666666666666666)"
      ]
     },
     "execution_count": 314,
     "metadata": {},
     "output_type": "execute_result"
    }
   ],
   "source": [
    "gsearch4.fit(train[predictors],train[target],eval_metric='merror')\n",
    "gsearch4.best_params_, gsearch4.best_score_ "
   ]
  },
  {
   "cell_type": "code",
   "execution_count": 315,
   "id": "91c42269",
   "metadata": {},
   "outputs": [
    {
     "name": "stdout",
     "output_type": "stream",
     "text": [
      "n_estimators: 1\n"
     ]
    }
   ],
   "source": [
    "xgb3_clf = xgb.XGBRegressor(\n",
    "    learning_rate=0.1,\n",
    "    n_estimators=1000,\n",
    "    max_depth=3,\n",
    "    min_child_weight=1,\n",
    "    gamma=0,\n",
    "    subsample=0.8,\n",
    "    colsample_bytree=0.8,\n",
    "    objective='multi:softmax',\n",
    "    num_class=3,\n",
    "    nthread=3,\n",
    "    # scale_pos_weight=1,\n",
    "    seed=1,\n",
    "    use_label_encoder=False,\n",
    "    reg_alpha=0,\n",
    "    reg_lambda=0\n",
    "    )\n",
    "\n",
    "modelfit(xgb3_clf, train, predictors)"
   ]
  },
  {
   "cell_type": "code",
   "execution_count": 316,
   "id": "71be3185",
   "metadata": {},
   "outputs": [
    {
     "name": "stdout",
     "output_type": "stream",
     "text": [
      "n_estimators: 1\n"
     ]
    }
   ],
   "source": [
    "xgb4_clf = xgb.XGBRegressor(\n",
    "    learning_rate=0.05,\n",
    "    n_estimators=1000,\n",
    "    max_depth=3,\n",
    "    min_child_weight=1,\n",
    "    gamma=0,\n",
    "    subsample=0.8,\n",
    "    colsample_bytree=0.8,\n",
    "    objective='multi:softmax',\n",
    "    num_class=3,\n",
    "    nthread=3,\n",
    "    # scale_pos_weight=1,\n",
    "    seed=1,\n",
    "    use_label_encoder=False,\n",
    "    reg_alpha=0,\n",
    "    reg_lambda=0\n",
    "    )\n",
    "\n",
    "modelfit(xgb4_clf, train, predictors)"
   ]
  },
  {
   "cell_type": "code",
   "execution_count": 317,
   "id": "3530f84a",
   "metadata": {},
   "outputs": [],
   "source": [
    "param_test5 = {\n",
    "    'learning_rate': [0.05,0.1],  #[i/10.0 for i in range(6,10)],\n",
    "    'n_estimators': [1]  #[1/10.0 for i in range(6,10)]\n",
    "}\n",
    "\n",
    "gsearch5 = GridSearchCV(estimator=XGBClassifier(learning_rate=0.1, n_estimators=1, max_depth=3, min_child_weight=1,\n",
    "                                              gamma=0, subsample=0.8, colsample_bytree=0.8,\n",
    "                                              objective='multi:softmax',num_class=3,nthread=3, seed=1,use_label_encoder=False, reg_alpha=0, reg_lambda=0),\n",
    "                       param_grid = param_test5, cv=5,scoring='accuracy')"
   ]
  },
  {
   "cell_type": "code",
   "execution_count": 318,
   "id": "89ff4580",
   "metadata": {},
   "outputs": [
    {
     "data": {
      "text/plain": [
       "({'learning_rate': 0.05, 'n_estimators': 1}, 0.9666666666666666)"
      ]
     },
     "execution_count": 318,
     "metadata": {},
     "output_type": "execute_result"
    }
   ],
   "source": [
    "gsearch5.fit(train[predictors],train[target],eval_metric='merror')\n",
    "gsearch5.best_params_, gsearch5.best_score_ "
   ]
  },
  {
   "cell_type": "code",
   "execution_count": 319,
   "id": "fcdc8f95",
   "metadata": {},
   "outputs": [],
   "source": [
    "xgbt_clf = xgb.XGBRegressor(\n",
    "    learning_rate=0.05,\n",
    "    n_estimators=1,\n",
    "    max_depth=3,\n",
    "    min_child_weight=1,\n",
    "    gamma=0,\n",
    "    subsample=0.8,\n",
    "    colsample_bytree=0.8,\n",
    "    objective='multi:softmax',\n",
    "    num_class=3,\n",
    "    nthread=3,\n",
    "    # scale_pos_weight=1,\n",
    "    seed=1,\n",
    "    use_label_encoder=False,\n",
    "    reg_alpha=0,\n",
    "    reg_lambda=0\n",
    "    )"
   ]
  },
  {
   "cell_type": "code",
   "execution_count": 320,
   "id": "f5d87036",
   "metadata": {},
   "outputs": [],
   "source": [
    "xgbt_clf.fit(train[predictors],train[target],eval_metric='merror')\n",
    "xgbt_pred=xgbt_clf.predict(test[predictors])"
   ]
  },
  {
   "cell_type": "code",
   "execution_count": 321,
   "id": "14c4a90d",
   "metadata": {},
   "outputs": [
    {
     "name": "stdout",
     "output_type": "stream",
     "text": [
      "0.9\n"
     ]
    }
   ],
   "source": [
    "print(np.mean(test['y']==xgbt_pred))"
   ]
  },
  {
   "cell_type": "code",
   "execution_count": 322,
   "id": "702a7818",
   "metadata": {},
   "outputs": [
    {
     "data": {
      "text/plain": [
       "array([0., 0., 1., 1., 1., 0., 0., 2., 2., 0., 0., 0., 0., 0., 0., 1., 1.,\n",
       "       1., 1., 1., 1., 1., 1., 1., 1., 1., 1., 1., 2., 2.], dtype=float32)"
      ]
     },
     "execution_count": 322,
     "metadata": {},
     "output_type": "execute_result"
    }
   ],
   "source": [
    "xgbt_pred"
   ]
  }
 ],
 "metadata": {
  "kernelspec": {
   "display_name": "Python 3",
   "language": "python",
   "name": "python3"
  },
  "language_info": {
   "codemirror_mode": {
    "name": "ipython",
    "version": 3
   },
   "file_extension": ".py",
   "mimetype": "text/x-python",
   "name": "python",
   "nbconvert_exporter": "python",
   "pygments_lexer": "ipython3",
   "version": "3.8.8"
  }
 },
 "nbformat": 4,
 "nbformat_minor": 5
}
